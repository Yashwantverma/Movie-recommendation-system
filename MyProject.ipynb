{
  "nbformat": 4,
  "nbformat_minor": 0,
  "metadata": {
    "colab": {
      "provenance": [],
      "authorship_tag": "ABX9TyNAJvRIo+Ow63hFcnOaJXzA",
      "include_colab_link": true
    },
    "kernelspec": {
      "name": "python3",
      "display_name": "Python 3"
    },
    "language_info": {
      "name": "python"
    }
  },
  "cells": [
    {
      "cell_type": "markdown",
      "metadata": {
        "id": "view-in-github",
        "colab_type": "text"
      },
      "source": [
        "<a href=\"https://colab.research.google.com/github/Yashwantverma/Movie-recommendation-system/blob/main/MyProject.ipynb\" target=\"_parent\"><img src=\"https://colab.research.google.com/assets/colab-badge.svg\" alt=\"Open In Colab\"/></a>"
      ]
    },
    {
      "cell_type": "markdown",
      "source": [
        "**MOVIE RECOMMENDATION SYSTEM**"
      ],
      "metadata": {
        "id": "xbIf1pqfurZC"
      }
    },
    {
      "cell_type": "markdown",
      "source": [
        "**install libraries**"
      ],
      "metadata": {
        "id": "eVXtBsA2u50e"
      }
    },
    {
      "cell_type": "code",
      "source": [
        "!pip install pandas\n",
        "!pip install numpy"
      ],
      "metadata": {
        "colab": {
          "base_uri": "https://localhost:8080/"
        },
        "collapsed": true,
        "id": "-43nVAzIvBcs",
        "outputId": "30a0640f-9e93-47cc-b213-8d9b78ec0ce8"
      },
      "execution_count": null,
      "outputs": [
        {
          "output_type": "stream",
          "name": "stdout",
          "text": [
            "Requirement already satisfied: pandas in /usr/local/lib/python3.10/dist-packages (2.0.3)\n",
            "Requirement already satisfied: python-dateutil>=2.8.2 in /usr/local/lib/python3.10/dist-packages (from pandas) (2.8.2)\n",
            "Requirement already satisfied: pytz>=2020.1 in /usr/local/lib/python3.10/dist-packages (from pandas) (2023.4)\n",
            "Requirement already satisfied: tzdata>=2022.1 in /usr/local/lib/python3.10/dist-packages (from pandas) (2024.1)\n",
            "Requirement already satisfied: numpy>=1.21.0 in /usr/local/lib/python3.10/dist-packages (from pandas) (1.25.2)\n",
            "Requirement already satisfied: six>=1.5 in /usr/local/lib/python3.10/dist-packages (from python-dateutil>=2.8.2->pandas) (1.16.0)\n",
            "Requirement already satisfied: numpy in /usr/local/lib/python3.10/dist-packages (1.25.2)\n"
          ]
        }
      ]
    },
    {
      "cell_type": "markdown",
      "source": [
        "**Import library**"
      ],
      "metadata": {
        "id": "LBbIqRq1vZWR"
      }
    },
    {
      "cell_type": "code",
      "source": [
        "import pandas as pd\n",
        "\n",
        "import numpy as np"
      ],
      "metadata": {
        "id": "YuQNKrm_veKr"
      },
      "execution_count": null,
      "outputs": []
    },
    {
      "cell_type": "markdown",
      "source": [
        "**Import Dataset**"
      ],
      "metadata": {
        "id": "RXc9j-kyvkIJ"
      }
    },
    {
      "cell_type": "code",
      "source": [
        "df = pd.read_csv('https://raw.githubusercontent.com/YBIFoundation/Dataset/main/Movies%20Recommendation.csv')"
      ],
      "metadata": {
        "id": "HeBekPcevy0M"
      },
      "execution_count": null,
      "outputs": []
    },
    {
      "cell_type": "code",
      "source": [
        "df.head()"
      ],
      "metadata": {
        "colab": {
          "base_uri": "https://localhost:8080/",
          "height": 654
        },
        "id": "ko6_vtEJwY8A",
        "outputId": "a1b8dc71-8ff8-45be-8c01-f3d4323f9f69"
      },
      "execution_count": null,
      "outputs": [
        {
          "output_type": "execute_result",
          "data": {
            "text/plain": [
              "   Movie_ID      Movie_Title                       Movie_Genre Movie_Language  \\\n",
              "0         1       Four Rooms                      Crime Comedy             en   \n",
              "1         2        Star Wars  Adventure Action Science Fiction             en   \n",
              "2         3     Finding Nemo                  Animation Family             en   \n",
              "3         4     Forrest Gump              Comedy Drama Romance             en   \n",
              "4         5  American Beauty                             Drama             en   \n",
              "\n",
              "   Movie_Budget  Movie_Popularity Movie_Release_Date  Movie_Revenue  \\\n",
              "0       4000000         22.876230         09-12-1995        4300000   \n",
              "1      11000000        126.393695         25-05-1977      775398007   \n",
              "2      94000000         85.688789         30-05-2003      940335536   \n",
              "3      55000000        138.133331         06-07-1994      677945399   \n",
              "4      15000000         80.878605         15-09-1999      356296601   \n",
              "\n",
              "   Movie_Runtime  Movie_Vote  ...  \\\n",
              "0           98.0         6.5  ...   \n",
              "1          121.0         8.1  ...   \n",
              "2          100.0         7.6  ...   \n",
              "3          142.0         8.2  ...   \n",
              "4          122.0         7.9  ...   \n",
              "\n",
              "                                      Movie_Homepage  \\\n",
              "0                                                NaN   \n",
              "1  http://www.starwars.com/films/star-wars-episod...   \n",
              "2              http://movies.disney.com/finding-nemo   \n",
              "3                                                NaN   \n",
              "4                      http://www.dreamworks.com/ab/   \n",
              "\n",
              "                                      Movie_Keywords  \\\n",
              "0          hotel new year's eve witch bet hotel room   \n",
              "1        android galaxy hermit death star lightsaber   \n",
              "2  father son relationship harbor underwater fish...   \n",
              "3  vietnam veteran hippie mentally disabled runni...   \n",
              "4  male nudity female nudity adultery midlife cri...   \n",
              "\n",
              "                                      Movie_Overview  \\\n",
              "0  It's Ted the Bellhop's first night on the job....   \n",
              "1  Princess Leia is captured and held hostage by ...   \n",
              "2  Nemo, an adventurous young clownfish, is unexp...   \n",
              "3  A man with a low IQ has accomplished great thi...   \n",
              "4  Lester Burnham, a depressed suburban father in...   \n",
              "\n",
              "                              Movie_Production_House  \\\n",
              "0  [{\"name\": \"Miramax Films\", \"id\": 14}, {\"name\":...   \n",
              "1  [{\"name\": \"Lucasfilm\", \"id\": 1}, {\"name\": \"Twe...   \n",
              "2     [{\"name\": \"Pixar Animation Studios\", \"id\": 3}]   \n",
              "3          [{\"name\": \"Paramount Pictures\", \"id\": 4}]   \n",
              "4  [{\"name\": \"DreamWorks SKG\", \"id\": 27}, {\"name\"...   \n",
              "\n",
              "                            Movie_Production_Country  \\\n",
              "0  [{\"iso_3166_1\": \"US\", \"name\": \"United States o...   \n",
              "1  [{\"iso_3166_1\": \"US\", \"name\": \"United States o...   \n",
              "2  [{\"iso_3166_1\": \"US\", \"name\": \"United States o...   \n",
              "3  [{\"iso_3166_1\": \"US\", \"name\": \"United States o...   \n",
              "4  [{\"iso_3166_1\": \"US\", \"name\": \"United States o...   \n",
              "\n",
              "                      Movie_Spoken_Language  \\\n",
              "0  [{\"iso_639_1\": \"en\", \"name\": \"English\"}]   \n",
              "1  [{\"iso_639_1\": \"en\", \"name\": \"English\"}]   \n",
              "2  [{\"iso_639_1\": \"en\", \"name\": \"English\"}]   \n",
              "3  [{\"iso_639_1\": \"en\", \"name\": \"English\"}]   \n",
              "4  [{\"iso_639_1\": \"en\", \"name\": \"English\"}]   \n",
              "\n",
              "                                       Movie_Tagline  \\\n",
              "0  Twelve outrageous guests. Four scandalous requ...   \n",
              "1       A long time ago in a galaxy far, far away...   \n",
              "2  There are 3.7 trillion fish in the ocean, they...   \n",
              "3  The world will never be the same, once you've ...   \n",
              "4                                       Look closer.   \n",
              "\n",
              "                                          Movie_Cast  \\\n",
              "0  Tim Roth Antonio Banderas Jennifer Beals Madon...   \n",
              "1  Mark Hamill Harrison Ford Carrie Fisher Peter ...   \n",
              "2  Albert Brooks Ellen DeGeneres Alexander Gould ...   \n",
              "3  Tom Hanks Robin Wright Gary Sinise Mykelti Wil...   \n",
              "4  Kevin Spacey Annette Bening Thora Birch Wes Be...   \n",
              "\n",
              "                                          Movie_Crew   Movie_Director  \n",
              "0  [{'name': 'Allison Anders', 'gender': 1, 'depa...   Allison Anders  \n",
              "1  [{'name': 'George Lucas', 'gender': 2, 'depart...     George Lucas  \n",
              "2  [{'name': 'Andrew Stanton', 'gender': 2, 'depa...   Andrew Stanton  \n",
              "3  [{'name': 'Alan Silvestri', 'gender': 2, 'depa...  Robert Zemeckis  \n",
              "4  [{'name': 'Thomas Newman', 'gender': 2, 'depar...       Sam Mendes  \n",
              "\n",
              "[5 rows x 21 columns]"
            ],
            "text/html": [
              "\n",
              "  <div id=\"df-09f8c747-9165-4ae7-8a2e-80ca2bdd0659\" class=\"colab-df-container\">\n",
              "    <div>\n",
              "<style scoped>\n",
              "    .dataframe tbody tr th:only-of-type {\n",
              "        vertical-align: middle;\n",
              "    }\n",
              "\n",
              "    .dataframe tbody tr th {\n",
              "        vertical-align: top;\n",
              "    }\n",
              "\n",
              "    .dataframe thead th {\n",
              "        text-align: right;\n",
              "    }\n",
              "</style>\n",
              "<table border=\"1\" class=\"dataframe\">\n",
              "  <thead>\n",
              "    <tr style=\"text-align: right;\">\n",
              "      <th></th>\n",
              "      <th>Movie_ID</th>\n",
              "      <th>Movie_Title</th>\n",
              "      <th>Movie_Genre</th>\n",
              "      <th>Movie_Language</th>\n",
              "      <th>Movie_Budget</th>\n",
              "      <th>Movie_Popularity</th>\n",
              "      <th>Movie_Release_Date</th>\n",
              "      <th>Movie_Revenue</th>\n",
              "      <th>Movie_Runtime</th>\n",
              "      <th>Movie_Vote</th>\n",
              "      <th>...</th>\n",
              "      <th>Movie_Homepage</th>\n",
              "      <th>Movie_Keywords</th>\n",
              "      <th>Movie_Overview</th>\n",
              "      <th>Movie_Production_House</th>\n",
              "      <th>Movie_Production_Country</th>\n",
              "      <th>Movie_Spoken_Language</th>\n",
              "      <th>Movie_Tagline</th>\n",
              "      <th>Movie_Cast</th>\n",
              "      <th>Movie_Crew</th>\n",
              "      <th>Movie_Director</th>\n",
              "    </tr>\n",
              "  </thead>\n",
              "  <tbody>\n",
              "    <tr>\n",
              "      <th>0</th>\n",
              "      <td>1</td>\n",
              "      <td>Four Rooms</td>\n",
              "      <td>Crime Comedy</td>\n",
              "      <td>en</td>\n",
              "      <td>4000000</td>\n",
              "      <td>22.876230</td>\n",
              "      <td>09-12-1995</td>\n",
              "      <td>4300000</td>\n",
              "      <td>98.0</td>\n",
              "      <td>6.5</td>\n",
              "      <td>...</td>\n",
              "      <td>NaN</td>\n",
              "      <td>hotel new year's eve witch bet hotel room</td>\n",
              "      <td>It's Ted the Bellhop's first night on the job....</td>\n",
              "      <td>[{\"name\": \"Miramax Films\", \"id\": 14}, {\"name\":...</td>\n",
              "      <td>[{\"iso_3166_1\": \"US\", \"name\": \"United States o...</td>\n",
              "      <td>[{\"iso_639_1\": \"en\", \"name\": \"English\"}]</td>\n",
              "      <td>Twelve outrageous guests. Four scandalous requ...</td>\n",
              "      <td>Tim Roth Antonio Banderas Jennifer Beals Madon...</td>\n",
              "      <td>[{'name': 'Allison Anders', 'gender': 1, 'depa...</td>\n",
              "      <td>Allison Anders</td>\n",
              "    </tr>\n",
              "    <tr>\n",
              "      <th>1</th>\n",
              "      <td>2</td>\n",
              "      <td>Star Wars</td>\n",
              "      <td>Adventure Action Science Fiction</td>\n",
              "      <td>en</td>\n",
              "      <td>11000000</td>\n",
              "      <td>126.393695</td>\n",
              "      <td>25-05-1977</td>\n",
              "      <td>775398007</td>\n",
              "      <td>121.0</td>\n",
              "      <td>8.1</td>\n",
              "      <td>...</td>\n",
              "      <td>http://www.starwars.com/films/star-wars-episod...</td>\n",
              "      <td>android galaxy hermit death star lightsaber</td>\n",
              "      <td>Princess Leia is captured and held hostage by ...</td>\n",
              "      <td>[{\"name\": \"Lucasfilm\", \"id\": 1}, {\"name\": \"Twe...</td>\n",
              "      <td>[{\"iso_3166_1\": \"US\", \"name\": \"United States o...</td>\n",
              "      <td>[{\"iso_639_1\": \"en\", \"name\": \"English\"}]</td>\n",
              "      <td>A long time ago in a galaxy far, far away...</td>\n",
              "      <td>Mark Hamill Harrison Ford Carrie Fisher Peter ...</td>\n",
              "      <td>[{'name': 'George Lucas', 'gender': 2, 'depart...</td>\n",
              "      <td>George Lucas</td>\n",
              "    </tr>\n",
              "    <tr>\n",
              "      <th>2</th>\n",
              "      <td>3</td>\n",
              "      <td>Finding Nemo</td>\n",
              "      <td>Animation Family</td>\n",
              "      <td>en</td>\n",
              "      <td>94000000</td>\n",
              "      <td>85.688789</td>\n",
              "      <td>30-05-2003</td>\n",
              "      <td>940335536</td>\n",
              "      <td>100.0</td>\n",
              "      <td>7.6</td>\n",
              "      <td>...</td>\n",
              "      <td>http://movies.disney.com/finding-nemo</td>\n",
              "      <td>father son relationship harbor underwater fish...</td>\n",
              "      <td>Nemo, an adventurous young clownfish, is unexp...</td>\n",
              "      <td>[{\"name\": \"Pixar Animation Studios\", \"id\": 3}]</td>\n",
              "      <td>[{\"iso_3166_1\": \"US\", \"name\": \"United States o...</td>\n",
              "      <td>[{\"iso_639_1\": \"en\", \"name\": \"English\"}]</td>\n",
              "      <td>There are 3.7 trillion fish in the ocean, they...</td>\n",
              "      <td>Albert Brooks Ellen DeGeneres Alexander Gould ...</td>\n",
              "      <td>[{'name': 'Andrew Stanton', 'gender': 2, 'depa...</td>\n",
              "      <td>Andrew Stanton</td>\n",
              "    </tr>\n",
              "    <tr>\n",
              "      <th>3</th>\n",
              "      <td>4</td>\n",
              "      <td>Forrest Gump</td>\n",
              "      <td>Comedy Drama Romance</td>\n",
              "      <td>en</td>\n",
              "      <td>55000000</td>\n",
              "      <td>138.133331</td>\n",
              "      <td>06-07-1994</td>\n",
              "      <td>677945399</td>\n",
              "      <td>142.0</td>\n",
              "      <td>8.2</td>\n",
              "      <td>...</td>\n",
              "      <td>NaN</td>\n",
              "      <td>vietnam veteran hippie mentally disabled runni...</td>\n",
              "      <td>A man with a low IQ has accomplished great thi...</td>\n",
              "      <td>[{\"name\": \"Paramount Pictures\", \"id\": 4}]</td>\n",
              "      <td>[{\"iso_3166_1\": \"US\", \"name\": \"United States o...</td>\n",
              "      <td>[{\"iso_639_1\": \"en\", \"name\": \"English\"}]</td>\n",
              "      <td>The world will never be the same, once you've ...</td>\n",
              "      <td>Tom Hanks Robin Wright Gary Sinise Mykelti Wil...</td>\n",
              "      <td>[{'name': 'Alan Silvestri', 'gender': 2, 'depa...</td>\n",
              "      <td>Robert Zemeckis</td>\n",
              "    </tr>\n",
              "    <tr>\n",
              "      <th>4</th>\n",
              "      <td>5</td>\n",
              "      <td>American Beauty</td>\n",
              "      <td>Drama</td>\n",
              "      <td>en</td>\n",
              "      <td>15000000</td>\n",
              "      <td>80.878605</td>\n",
              "      <td>15-09-1999</td>\n",
              "      <td>356296601</td>\n",
              "      <td>122.0</td>\n",
              "      <td>7.9</td>\n",
              "      <td>...</td>\n",
              "      <td>http://www.dreamworks.com/ab/</td>\n",
              "      <td>male nudity female nudity adultery midlife cri...</td>\n",
              "      <td>Lester Burnham, a depressed suburban father in...</td>\n",
              "      <td>[{\"name\": \"DreamWorks SKG\", \"id\": 27}, {\"name\"...</td>\n",
              "      <td>[{\"iso_3166_1\": \"US\", \"name\": \"United States o...</td>\n",
              "      <td>[{\"iso_639_1\": \"en\", \"name\": \"English\"}]</td>\n",
              "      <td>Look closer.</td>\n",
              "      <td>Kevin Spacey Annette Bening Thora Birch Wes Be...</td>\n",
              "      <td>[{'name': 'Thomas Newman', 'gender': 2, 'depar...</td>\n",
              "      <td>Sam Mendes</td>\n",
              "    </tr>\n",
              "  </tbody>\n",
              "</table>\n",
              "<p>5 rows × 21 columns</p>\n",
              "</div>\n",
              "    <div class=\"colab-df-buttons\">\n",
              "\n",
              "  <div class=\"colab-df-container\">\n",
              "    <button class=\"colab-df-convert\" onclick=\"convertToInteractive('df-09f8c747-9165-4ae7-8a2e-80ca2bdd0659')\"\n",
              "            title=\"Convert this dataframe to an interactive table.\"\n",
              "            style=\"display:none;\">\n",
              "\n",
              "  <svg xmlns=\"http://www.w3.org/2000/svg\" height=\"24px\" viewBox=\"0 -960 960 960\">\n",
              "    <path d=\"M120-120v-720h720v720H120Zm60-500h600v-160H180v160Zm220 220h160v-160H400v160Zm0 220h160v-160H400v160ZM180-400h160v-160H180v160Zm440 0h160v-160H620v160ZM180-180h160v-160H180v160Zm440 0h160v-160H620v160Z\"/>\n",
              "  </svg>\n",
              "    </button>\n",
              "\n",
              "  <style>\n",
              "    .colab-df-container {\n",
              "      display:flex;\n",
              "      gap: 12px;\n",
              "    }\n",
              "\n",
              "    .colab-df-convert {\n",
              "      background-color: #E8F0FE;\n",
              "      border: none;\n",
              "      border-radius: 50%;\n",
              "      cursor: pointer;\n",
              "      display: none;\n",
              "      fill: #1967D2;\n",
              "      height: 32px;\n",
              "      padding: 0 0 0 0;\n",
              "      width: 32px;\n",
              "    }\n",
              "\n",
              "    .colab-df-convert:hover {\n",
              "      background-color: #E2EBFA;\n",
              "      box-shadow: 0px 1px 2px rgba(60, 64, 67, 0.3), 0px 1px 3px 1px rgba(60, 64, 67, 0.15);\n",
              "      fill: #174EA6;\n",
              "    }\n",
              "\n",
              "    .colab-df-buttons div {\n",
              "      margin-bottom: 4px;\n",
              "    }\n",
              "\n",
              "    [theme=dark] .colab-df-convert {\n",
              "      background-color: #3B4455;\n",
              "      fill: #D2E3FC;\n",
              "    }\n",
              "\n",
              "    [theme=dark] .colab-df-convert:hover {\n",
              "      background-color: #434B5C;\n",
              "      box-shadow: 0px 1px 3px 1px rgba(0, 0, 0, 0.15);\n",
              "      filter: drop-shadow(0px 1px 2px rgba(0, 0, 0, 0.3));\n",
              "      fill: #FFFFFF;\n",
              "    }\n",
              "  </style>\n",
              "\n",
              "    <script>\n",
              "      const buttonEl =\n",
              "        document.querySelector('#df-09f8c747-9165-4ae7-8a2e-80ca2bdd0659 button.colab-df-convert');\n",
              "      buttonEl.style.display =\n",
              "        google.colab.kernel.accessAllowed ? 'block' : 'none';\n",
              "\n",
              "      async function convertToInteractive(key) {\n",
              "        const element = document.querySelector('#df-09f8c747-9165-4ae7-8a2e-80ca2bdd0659');\n",
              "        const dataTable =\n",
              "          await google.colab.kernel.invokeFunction('convertToInteractive',\n",
              "                                                    [key], {});\n",
              "        if (!dataTable) return;\n",
              "\n",
              "        const docLinkHtml = 'Like what you see? Visit the ' +\n",
              "          '<a target=\"_blank\" href=https://colab.research.google.com/notebooks/data_table.ipynb>data table notebook</a>'\n",
              "          + ' to learn more about interactive tables.';\n",
              "        element.innerHTML = '';\n",
              "        dataTable['output_type'] = 'display_data';\n",
              "        await google.colab.output.renderOutput(dataTable, element);\n",
              "        const docLink = document.createElement('div');\n",
              "        docLink.innerHTML = docLinkHtml;\n",
              "        element.appendChild(docLink);\n",
              "      }\n",
              "    </script>\n",
              "  </div>\n",
              "\n",
              "\n",
              "<div id=\"df-e6553a4e-01af-4670-964f-ae1a6fefe257\">\n",
              "  <button class=\"colab-df-quickchart\" onclick=\"quickchart('df-e6553a4e-01af-4670-964f-ae1a6fefe257')\"\n",
              "            title=\"Suggest charts\"\n",
              "            style=\"display:none;\">\n",
              "\n",
              "<svg xmlns=\"http://www.w3.org/2000/svg\" height=\"24px\"viewBox=\"0 0 24 24\"\n",
              "     width=\"24px\">\n",
              "    <g>\n",
              "        <path d=\"M19 3H5c-1.1 0-2 .9-2 2v14c0 1.1.9 2 2 2h14c1.1 0 2-.9 2-2V5c0-1.1-.9-2-2-2zM9 17H7v-7h2v7zm4 0h-2V7h2v10zm4 0h-2v-4h2v4z\"/>\n",
              "    </g>\n",
              "</svg>\n",
              "  </button>\n",
              "\n",
              "<style>\n",
              "  .colab-df-quickchart {\n",
              "      --bg-color: #E8F0FE;\n",
              "      --fill-color: #1967D2;\n",
              "      --hover-bg-color: #E2EBFA;\n",
              "      --hover-fill-color: #174EA6;\n",
              "      --disabled-fill-color: #AAA;\n",
              "      --disabled-bg-color: #DDD;\n",
              "  }\n",
              "\n",
              "  [theme=dark] .colab-df-quickchart {\n",
              "      --bg-color: #3B4455;\n",
              "      --fill-color: #D2E3FC;\n",
              "      --hover-bg-color: #434B5C;\n",
              "      --hover-fill-color: #FFFFFF;\n",
              "      --disabled-bg-color: #3B4455;\n",
              "      --disabled-fill-color: #666;\n",
              "  }\n",
              "\n",
              "  .colab-df-quickchart {\n",
              "    background-color: var(--bg-color);\n",
              "    border: none;\n",
              "    border-radius: 50%;\n",
              "    cursor: pointer;\n",
              "    display: none;\n",
              "    fill: var(--fill-color);\n",
              "    height: 32px;\n",
              "    padding: 0;\n",
              "    width: 32px;\n",
              "  }\n",
              "\n",
              "  .colab-df-quickchart:hover {\n",
              "    background-color: var(--hover-bg-color);\n",
              "    box-shadow: 0 1px 2px rgba(60, 64, 67, 0.3), 0 1px 3px 1px rgba(60, 64, 67, 0.15);\n",
              "    fill: var(--button-hover-fill-color);\n",
              "  }\n",
              "\n",
              "  .colab-df-quickchart-complete:disabled,\n",
              "  .colab-df-quickchart-complete:disabled:hover {\n",
              "    background-color: var(--disabled-bg-color);\n",
              "    fill: var(--disabled-fill-color);\n",
              "    box-shadow: none;\n",
              "  }\n",
              "\n",
              "  .colab-df-spinner {\n",
              "    border: 2px solid var(--fill-color);\n",
              "    border-color: transparent;\n",
              "    border-bottom-color: var(--fill-color);\n",
              "    animation:\n",
              "      spin 1s steps(1) infinite;\n",
              "  }\n",
              "\n",
              "  @keyframes spin {\n",
              "    0% {\n",
              "      border-color: transparent;\n",
              "      border-bottom-color: var(--fill-color);\n",
              "      border-left-color: var(--fill-color);\n",
              "    }\n",
              "    20% {\n",
              "      border-color: transparent;\n",
              "      border-left-color: var(--fill-color);\n",
              "      border-top-color: var(--fill-color);\n",
              "    }\n",
              "    30% {\n",
              "      border-color: transparent;\n",
              "      border-left-color: var(--fill-color);\n",
              "      border-top-color: var(--fill-color);\n",
              "      border-right-color: var(--fill-color);\n",
              "    }\n",
              "    40% {\n",
              "      border-color: transparent;\n",
              "      border-right-color: var(--fill-color);\n",
              "      border-top-color: var(--fill-color);\n",
              "    }\n",
              "    60% {\n",
              "      border-color: transparent;\n",
              "      border-right-color: var(--fill-color);\n",
              "    }\n",
              "    80% {\n",
              "      border-color: transparent;\n",
              "      border-right-color: var(--fill-color);\n",
              "      border-bottom-color: var(--fill-color);\n",
              "    }\n",
              "    90% {\n",
              "      border-color: transparent;\n",
              "      border-bottom-color: var(--fill-color);\n",
              "    }\n",
              "  }\n",
              "</style>\n",
              "\n",
              "  <script>\n",
              "    async function quickchart(key) {\n",
              "      const quickchartButtonEl =\n",
              "        document.querySelector('#' + key + ' button');\n",
              "      quickchartButtonEl.disabled = true;  // To prevent multiple clicks.\n",
              "      quickchartButtonEl.classList.add('colab-df-spinner');\n",
              "      try {\n",
              "        const charts = await google.colab.kernel.invokeFunction(\n",
              "            'suggestCharts', [key], {});\n",
              "      } catch (error) {\n",
              "        console.error('Error during call to suggestCharts:', error);\n",
              "      }\n",
              "      quickchartButtonEl.classList.remove('colab-df-spinner');\n",
              "      quickchartButtonEl.classList.add('colab-df-quickchart-complete');\n",
              "    }\n",
              "    (() => {\n",
              "      let quickchartButtonEl =\n",
              "        document.querySelector('#df-e6553a4e-01af-4670-964f-ae1a6fefe257 button');\n",
              "      quickchartButtonEl.style.display =\n",
              "        google.colab.kernel.accessAllowed ? 'block' : 'none';\n",
              "    })();\n",
              "  </script>\n",
              "</div>\n",
              "\n",
              "    </div>\n",
              "  </div>\n"
            ],
            "application/vnd.google.colaboratory.intrinsic+json": {
              "type": "dataframe",
              "variable_name": "df"
            }
          },
          "metadata": {},
          "execution_count": 4
        }
      ]
    },
    {
      "cell_type": "code",
      "source": [
        "df.info()"
      ],
      "metadata": {
        "colab": {
          "base_uri": "https://localhost:8080/"
        },
        "id": "d6q8sryCwguO",
        "outputId": "cca224b7-9b12-4df4-ddc0-07398c4dba43"
      },
      "execution_count": null,
      "outputs": [
        {
          "output_type": "stream",
          "name": "stdout",
          "text": [
            "<class 'pandas.core.frame.DataFrame'>\n",
            "RangeIndex: 4760 entries, 0 to 4759\n",
            "Data columns (total 21 columns):\n",
            " #   Column                    Non-Null Count  Dtype  \n",
            "---  ------                    --------------  -----  \n",
            " 0   Movie_ID                  4760 non-null   int64  \n",
            " 1   Movie_Title               4760 non-null   object \n",
            " 2   Movie_Genre               4760 non-null   object \n",
            " 3   Movie_Language            4760 non-null   object \n",
            " 4   Movie_Budget              4760 non-null   int64  \n",
            " 5   Movie_Popularity          4760 non-null   float64\n",
            " 6   Movie_Release_Date        4760 non-null   object \n",
            " 7   Movie_Revenue             4760 non-null   int64  \n",
            " 8   Movie_Runtime             4758 non-null   float64\n",
            " 9   Movie_Vote                4760 non-null   float64\n",
            " 10  Movie_Vote_Count          4760 non-null   int64  \n",
            " 11  Movie_Homepage            1699 non-null   object \n",
            " 12  Movie_Keywords            4373 non-null   object \n",
            " 13  Movie_Overview            4757 non-null   object \n",
            " 14  Movie_Production_House    4760 non-null   object \n",
            " 15  Movie_Production_Country  4760 non-null   object \n",
            " 16  Movie_Spoken_Language     4760 non-null   object \n",
            " 17  Movie_Tagline             3942 non-null   object \n",
            " 18  Movie_Cast                4733 non-null   object \n",
            " 19  Movie_Crew                4760 non-null   object \n",
            " 20  Movie_Director            4738 non-null   object \n",
            "dtypes: float64(3), int64(4), object(14)\n",
            "memory usage: 781.1+ KB\n"
          ]
        }
      ]
    },
    {
      "cell_type": "code",
      "source": [
        "df.shape"
      ],
      "metadata": {
        "colab": {
          "base_uri": "https://localhost:8080/"
        },
        "id": "CwPyTnrqwoop",
        "outputId": "b003f844-96b4-49db-9eac-f475fdc0f4e0"
      },
      "execution_count": null,
      "outputs": [
        {
          "output_type": "execute_result",
          "data": {
            "text/plain": [
              "(4760, 21)"
            ]
          },
          "metadata": {},
          "execution_count": 7
        }
      ]
    },
    {
      "cell_type": "code",
      "source": [
        "df.columns"
      ],
      "metadata": {
        "colab": {
          "base_uri": "https://localhost:8080/"
        },
        "id": "Ej7JzcjpwtIZ",
        "outputId": "a7d1c86b-33f8-4970-c829-4260d73c3acd"
      },
      "execution_count": null,
      "outputs": [
        {
          "output_type": "execute_result",
          "data": {
            "text/plain": [
              "Index(['Movie_ID', 'Movie_Title', 'Movie_Genre', 'Movie_Language',\n",
              "       'Movie_Budget', 'Movie_Popularity', 'Movie_Release_Date',\n",
              "       'Movie_Revenue', 'Movie_Runtime', 'Movie_Vote', 'Movie_Vote_Count',\n",
              "       'Movie_Homepage', 'Movie_Keywords', 'Movie_Overview',\n",
              "       'Movie_Production_House', 'Movie_Production_Country',\n",
              "       'Movie_Spoken_Language', 'Movie_Tagline', 'Movie_Cast', 'Movie_Crew',\n",
              "       'Movie_Director'],\n",
              "      dtype='object')"
            ]
          },
          "metadata": {},
          "execution_count": 8
        }
      ]
    },
    {
      "cell_type": "markdown",
      "source": [
        "**Get Features Selection**"
      ],
      "metadata": {
        "id": "1pq5j4XTw7br"
      }
    },
    {
      "cell_type": "code",
      "source": [
        "df_features = df[[ 'Movie_Genre','Movie_Title','Movie_Keywords','Movie_Cast', 'Movie_Director']].fillna('')"
      ],
      "metadata": {
        "id": "FyJaSO57w_pK"
      },
      "execution_count": null,
      "outputs": []
    },
    {
      "cell_type": "code",
      "source": [
        "df_features.shape"
      ],
      "metadata": {
        "colab": {
          "base_uri": "https://localhost:8080/"
        },
        "id": "Av9ts6njyZ19",
        "outputId": "7dcb6d44-2674-4e12-9981-b4ea07d85cd6"
      },
      "execution_count": null,
      "outputs": [
        {
          "output_type": "execute_result",
          "data": {
            "text/plain": [
              "(4760, 5)"
            ]
          },
          "metadata": {},
          "execution_count": 19
        }
      ]
    },
    {
      "cell_type": "code",
      "source": [
        "df_features"
      ],
      "metadata": {
        "colab": {
          "base_uri": "https://localhost:8080/",
          "height": 423
        },
        "id": "-PncDbi0yhkP",
        "outputId": "45570b46-52f3-43b7-af84-4d888e6f44a3"
      },
      "execution_count": null,
      "outputs": [
        {
          "output_type": "execute_result",
          "data": {
            "text/plain": [
              "                           Movie_Genre                  Movie_Title  \\\n",
              "0                         Crime Comedy                   Four Rooms   \n",
              "1     Adventure Action Science Fiction                    Star Wars   \n",
              "2                     Animation Family                 Finding Nemo   \n",
              "3                 Comedy Drama Romance                 Forrest Gump   \n",
              "4                                Drama              American Beauty   \n",
              "...                                ...                          ...   \n",
              "4755                            Horror             Midnight Cabaret   \n",
              "4756               Comedy Family Drama             Growing Up Smith   \n",
              "4757                    Thriller Drama                       8 Days   \n",
              "4758                            Family              Running Forever   \n",
              "4759                       Documentary  To Be Frank, Sinatra at 100   \n",
              "\n",
              "                                         Movie_Keywords  \\\n",
              "0             hotel new year's eve witch bet hotel room   \n",
              "1           android galaxy hermit death star lightsaber   \n",
              "2     father son relationship harbor underwater fish...   \n",
              "3     vietnam veteran hippie mentally disabled runni...   \n",
              "4     male nudity female nudity adultery midlife cri...   \n",
              "...                                                 ...   \n",
              "4755                                                      \n",
              "4756                                                      \n",
              "4757                     christian film sex trafficking   \n",
              "4758                                                      \n",
              "4759  music actors legendary perfomer classic hollyw...   \n",
              "\n",
              "                                             Movie_Cast     Movie_Director  \n",
              "0     Tim Roth Antonio Banderas Jennifer Beals Madon...     Allison Anders  \n",
              "1     Mark Hamill Harrison Ford Carrie Fisher Peter ...       George Lucas  \n",
              "2     Albert Brooks Ellen DeGeneres Alexander Gould ...     Andrew Stanton  \n",
              "3     Tom Hanks Robin Wright Gary Sinise Mykelti Wil...    Robert Zemeckis  \n",
              "4     Kevin Spacey Annette Bening Thora Birch Wes Be...         Sam Mendes  \n",
              "...                                                 ...                ...  \n",
              "4755  Lisa Hart Carroll Michael Des Barres Paul Drak...         Pece Dingo  \n",
              "4756  Roni Akurati Brighton Sharbino Jason Lee Anjul...       Frank Lotito  \n",
              "4757  Nicole Smolen Kim Baldwin Ariana Stephens Brys...       Jaco Booyens  \n",
              "4758                                                                        \n",
              "4759                                    Tony Oppedisano  Simon Napier-Bell  \n",
              "\n",
              "[4760 rows x 5 columns]"
            ],
            "text/html": [
              "\n",
              "  <div id=\"df-4880b35b-4d31-4bee-be31-30ecd20e92f1\" class=\"colab-df-container\">\n",
              "    <div>\n",
              "<style scoped>\n",
              "    .dataframe tbody tr th:only-of-type {\n",
              "        vertical-align: middle;\n",
              "    }\n",
              "\n",
              "    .dataframe tbody tr th {\n",
              "        vertical-align: top;\n",
              "    }\n",
              "\n",
              "    .dataframe thead th {\n",
              "        text-align: right;\n",
              "    }\n",
              "</style>\n",
              "<table border=\"1\" class=\"dataframe\">\n",
              "  <thead>\n",
              "    <tr style=\"text-align: right;\">\n",
              "      <th></th>\n",
              "      <th>Movie_Genre</th>\n",
              "      <th>Movie_Title</th>\n",
              "      <th>Movie_Keywords</th>\n",
              "      <th>Movie_Cast</th>\n",
              "      <th>Movie_Director</th>\n",
              "    </tr>\n",
              "  </thead>\n",
              "  <tbody>\n",
              "    <tr>\n",
              "      <th>0</th>\n",
              "      <td>Crime Comedy</td>\n",
              "      <td>Four Rooms</td>\n",
              "      <td>hotel new year's eve witch bet hotel room</td>\n",
              "      <td>Tim Roth Antonio Banderas Jennifer Beals Madon...</td>\n",
              "      <td>Allison Anders</td>\n",
              "    </tr>\n",
              "    <tr>\n",
              "      <th>1</th>\n",
              "      <td>Adventure Action Science Fiction</td>\n",
              "      <td>Star Wars</td>\n",
              "      <td>android galaxy hermit death star lightsaber</td>\n",
              "      <td>Mark Hamill Harrison Ford Carrie Fisher Peter ...</td>\n",
              "      <td>George Lucas</td>\n",
              "    </tr>\n",
              "    <tr>\n",
              "      <th>2</th>\n",
              "      <td>Animation Family</td>\n",
              "      <td>Finding Nemo</td>\n",
              "      <td>father son relationship harbor underwater fish...</td>\n",
              "      <td>Albert Brooks Ellen DeGeneres Alexander Gould ...</td>\n",
              "      <td>Andrew Stanton</td>\n",
              "    </tr>\n",
              "    <tr>\n",
              "      <th>3</th>\n",
              "      <td>Comedy Drama Romance</td>\n",
              "      <td>Forrest Gump</td>\n",
              "      <td>vietnam veteran hippie mentally disabled runni...</td>\n",
              "      <td>Tom Hanks Robin Wright Gary Sinise Mykelti Wil...</td>\n",
              "      <td>Robert Zemeckis</td>\n",
              "    </tr>\n",
              "    <tr>\n",
              "      <th>4</th>\n",
              "      <td>Drama</td>\n",
              "      <td>American Beauty</td>\n",
              "      <td>male nudity female nudity adultery midlife cri...</td>\n",
              "      <td>Kevin Spacey Annette Bening Thora Birch Wes Be...</td>\n",
              "      <td>Sam Mendes</td>\n",
              "    </tr>\n",
              "    <tr>\n",
              "      <th>...</th>\n",
              "      <td>...</td>\n",
              "      <td>...</td>\n",
              "      <td>...</td>\n",
              "      <td>...</td>\n",
              "      <td>...</td>\n",
              "    </tr>\n",
              "    <tr>\n",
              "      <th>4755</th>\n",
              "      <td>Horror</td>\n",
              "      <td>Midnight Cabaret</td>\n",
              "      <td></td>\n",
              "      <td>Lisa Hart Carroll Michael Des Barres Paul Drak...</td>\n",
              "      <td>Pece Dingo</td>\n",
              "    </tr>\n",
              "    <tr>\n",
              "      <th>4756</th>\n",
              "      <td>Comedy Family Drama</td>\n",
              "      <td>Growing Up Smith</td>\n",
              "      <td></td>\n",
              "      <td>Roni Akurati Brighton Sharbino Jason Lee Anjul...</td>\n",
              "      <td>Frank Lotito</td>\n",
              "    </tr>\n",
              "    <tr>\n",
              "      <th>4757</th>\n",
              "      <td>Thriller Drama</td>\n",
              "      <td>8 Days</td>\n",
              "      <td>christian film sex trafficking</td>\n",
              "      <td>Nicole Smolen Kim Baldwin Ariana Stephens Brys...</td>\n",
              "      <td>Jaco Booyens</td>\n",
              "    </tr>\n",
              "    <tr>\n",
              "      <th>4758</th>\n",
              "      <td>Family</td>\n",
              "      <td>Running Forever</td>\n",
              "      <td></td>\n",
              "      <td></td>\n",
              "      <td></td>\n",
              "    </tr>\n",
              "    <tr>\n",
              "      <th>4759</th>\n",
              "      <td>Documentary</td>\n",
              "      <td>To Be Frank, Sinatra at 100</td>\n",
              "      <td>music actors legendary perfomer classic hollyw...</td>\n",
              "      <td>Tony Oppedisano</td>\n",
              "      <td>Simon Napier-Bell</td>\n",
              "    </tr>\n",
              "  </tbody>\n",
              "</table>\n",
              "<p>4760 rows × 5 columns</p>\n",
              "</div>\n",
              "    <div class=\"colab-df-buttons\">\n",
              "\n",
              "  <div class=\"colab-df-container\">\n",
              "    <button class=\"colab-df-convert\" onclick=\"convertToInteractive('df-4880b35b-4d31-4bee-be31-30ecd20e92f1')\"\n",
              "            title=\"Convert this dataframe to an interactive table.\"\n",
              "            style=\"display:none;\">\n",
              "\n",
              "  <svg xmlns=\"http://www.w3.org/2000/svg\" height=\"24px\" viewBox=\"0 -960 960 960\">\n",
              "    <path d=\"M120-120v-720h720v720H120Zm60-500h600v-160H180v160Zm220 220h160v-160H400v160Zm0 220h160v-160H400v160ZM180-400h160v-160H180v160Zm440 0h160v-160H620v160ZM180-180h160v-160H180v160Zm440 0h160v-160H620v160Z\"/>\n",
              "  </svg>\n",
              "    </button>\n",
              "\n",
              "  <style>\n",
              "    .colab-df-container {\n",
              "      display:flex;\n",
              "      gap: 12px;\n",
              "    }\n",
              "\n",
              "    .colab-df-convert {\n",
              "      background-color: #E8F0FE;\n",
              "      border: none;\n",
              "      border-radius: 50%;\n",
              "      cursor: pointer;\n",
              "      display: none;\n",
              "      fill: #1967D2;\n",
              "      height: 32px;\n",
              "      padding: 0 0 0 0;\n",
              "      width: 32px;\n",
              "    }\n",
              "\n",
              "    .colab-df-convert:hover {\n",
              "      background-color: #E2EBFA;\n",
              "      box-shadow: 0px 1px 2px rgba(60, 64, 67, 0.3), 0px 1px 3px 1px rgba(60, 64, 67, 0.15);\n",
              "      fill: #174EA6;\n",
              "    }\n",
              "\n",
              "    .colab-df-buttons div {\n",
              "      margin-bottom: 4px;\n",
              "    }\n",
              "\n",
              "    [theme=dark] .colab-df-convert {\n",
              "      background-color: #3B4455;\n",
              "      fill: #D2E3FC;\n",
              "    }\n",
              "\n",
              "    [theme=dark] .colab-df-convert:hover {\n",
              "      background-color: #434B5C;\n",
              "      box-shadow: 0px 1px 3px 1px rgba(0, 0, 0, 0.15);\n",
              "      filter: drop-shadow(0px 1px 2px rgba(0, 0, 0, 0.3));\n",
              "      fill: #FFFFFF;\n",
              "    }\n",
              "  </style>\n",
              "\n",
              "    <script>\n",
              "      const buttonEl =\n",
              "        document.querySelector('#df-4880b35b-4d31-4bee-be31-30ecd20e92f1 button.colab-df-convert');\n",
              "      buttonEl.style.display =\n",
              "        google.colab.kernel.accessAllowed ? 'block' : 'none';\n",
              "\n",
              "      async function convertToInteractive(key) {\n",
              "        const element = document.querySelector('#df-4880b35b-4d31-4bee-be31-30ecd20e92f1');\n",
              "        const dataTable =\n",
              "          await google.colab.kernel.invokeFunction('convertToInteractive',\n",
              "                                                    [key], {});\n",
              "        if (!dataTable) return;\n",
              "\n",
              "        const docLinkHtml = 'Like what you see? Visit the ' +\n",
              "          '<a target=\"_blank\" href=https://colab.research.google.com/notebooks/data_table.ipynb>data table notebook</a>'\n",
              "          + ' to learn more about interactive tables.';\n",
              "        element.innerHTML = '';\n",
              "        dataTable['output_type'] = 'display_data';\n",
              "        await google.colab.output.renderOutput(dataTable, element);\n",
              "        const docLink = document.createElement('div');\n",
              "        docLink.innerHTML = docLinkHtml;\n",
              "        element.appendChild(docLink);\n",
              "      }\n",
              "    </script>\n",
              "  </div>\n",
              "\n",
              "\n",
              "<div id=\"df-e1f1aee7-0e75-4dcb-9945-61b98088131e\">\n",
              "  <button class=\"colab-df-quickchart\" onclick=\"quickchart('df-e1f1aee7-0e75-4dcb-9945-61b98088131e')\"\n",
              "            title=\"Suggest charts\"\n",
              "            style=\"display:none;\">\n",
              "\n",
              "<svg xmlns=\"http://www.w3.org/2000/svg\" height=\"24px\"viewBox=\"0 0 24 24\"\n",
              "     width=\"24px\">\n",
              "    <g>\n",
              "        <path d=\"M19 3H5c-1.1 0-2 .9-2 2v14c0 1.1.9 2 2 2h14c1.1 0 2-.9 2-2V5c0-1.1-.9-2-2-2zM9 17H7v-7h2v7zm4 0h-2V7h2v10zm4 0h-2v-4h2v4z\"/>\n",
              "    </g>\n",
              "</svg>\n",
              "  </button>\n",
              "\n",
              "<style>\n",
              "  .colab-df-quickchart {\n",
              "      --bg-color: #E8F0FE;\n",
              "      --fill-color: #1967D2;\n",
              "      --hover-bg-color: #E2EBFA;\n",
              "      --hover-fill-color: #174EA6;\n",
              "      --disabled-fill-color: #AAA;\n",
              "      --disabled-bg-color: #DDD;\n",
              "  }\n",
              "\n",
              "  [theme=dark] .colab-df-quickchart {\n",
              "      --bg-color: #3B4455;\n",
              "      --fill-color: #D2E3FC;\n",
              "      --hover-bg-color: #434B5C;\n",
              "      --hover-fill-color: #FFFFFF;\n",
              "      --disabled-bg-color: #3B4455;\n",
              "      --disabled-fill-color: #666;\n",
              "  }\n",
              "\n",
              "  .colab-df-quickchart {\n",
              "    background-color: var(--bg-color);\n",
              "    border: none;\n",
              "    border-radius: 50%;\n",
              "    cursor: pointer;\n",
              "    display: none;\n",
              "    fill: var(--fill-color);\n",
              "    height: 32px;\n",
              "    padding: 0;\n",
              "    width: 32px;\n",
              "  }\n",
              "\n",
              "  .colab-df-quickchart:hover {\n",
              "    background-color: var(--hover-bg-color);\n",
              "    box-shadow: 0 1px 2px rgba(60, 64, 67, 0.3), 0 1px 3px 1px rgba(60, 64, 67, 0.15);\n",
              "    fill: var(--button-hover-fill-color);\n",
              "  }\n",
              "\n",
              "  .colab-df-quickchart-complete:disabled,\n",
              "  .colab-df-quickchart-complete:disabled:hover {\n",
              "    background-color: var(--disabled-bg-color);\n",
              "    fill: var(--disabled-fill-color);\n",
              "    box-shadow: none;\n",
              "  }\n",
              "\n",
              "  .colab-df-spinner {\n",
              "    border: 2px solid var(--fill-color);\n",
              "    border-color: transparent;\n",
              "    border-bottom-color: var(--fill-color);\n",
              "    animation:\n",
              "      spin 1s steps(1) infinite;\n",
              "  }\n",
              "\n",
              "  @keyframes spin {\n",
              "    0% {\n",
              "      border-color: transparent;\n",
              "      border-bottom-color: var(--fill-color);\n",
              "      border-left-color: var(--fill-color);\n",
              "    }\n",
              "    20% {\n",
              "      border-color: transparent;\n",
              "      border-left-color: var(--fill-color);\n",
              "      border-top-color: var(--fill-color);\n",
              "    }\n",
              "    30% {\n",
              "      border-color: transparent;\n",
              "      border-left-color: var(--fill-color);\n",
              "      border-top-color: var(--fill-color);\n",
              "      border-right-color: var(--fill-color);\n",
              "    }\n",
              "    40% {\n",
              "      border-color: transparent;\n",
              "      border-right-color: var(--fill-color);\n",
              "      border-top-color: var(--fill-color);\n",
              "    }\n",
              "    60% {\n",
              "      border-color: transparent;\n",
              "      border-right-color: var(--fill-color);\n",
              "    }\n",
              "    80% {\n",
              "      border-color: transparent;\n",
              "      border-right-color: var(--fill-color);\n",
              "      border-bottom-color: var(--fill-color);\n",
              "    }\n",
              "    90% {\n",
              "      border-color: transparent;\n",
              "      border-bottom-color: var(--fill-color);\n",
              "    }\n",
              "  }\n",
              "</style>\n",
              "\n",
              "  <script>\n",
              "    async function quickchart(key) {\n",
              "      const quickchartButtonEl =\n",
              "        document.querySelector('#' + key + ' button');\n",
              "      quickchartButtonEl.disabled = true;  // To prevent multiple clicks.\n",
              "      quickchartButtonEl.classList.add('colab-df-spinner');\n",
              "      try {\n",
              "        const charts = await google.colab.kernel.invokeFunction(\n",
              "            'suggestCharts', [key], {});\n",
              "      } catch (error) {\n",
              "        console.error('Error during call to suggestCharts:', error);\n",
              "      }\n",
              "      quickchartButtonEl.classList.remove('colab-df-spinner');\n",
              "      quickchartButtonEl.classList.add('colab-df-quickchart-complete');\n",
              "    }\n",
              "    (() => {\n",
              "      let quickchartButtonEl =\n",
              "        document.querySelector('#df-e1f1aee7-0e75-4dcb-9945-61b98088131e button');\n",
              "      quickchartButtonEl.style.display =\n",
              "        google.colab.kernel.accessAllowed ? 'block' : 'none';\n",
              "    })();\n",
              "  </script>\n",
              "</div>\n",
              "\n",
              "  <div id=\"id_e0bcc1b8-b020-4b3f-9e31-69a9bda61031\">\n",
              "    <style>\n",
              "      .colab-df-generate {\n",
              "        background-color: #E8F0FE;\n",
              "        border: none;\n",
              "        border-radius: 50%;\n",
              "        cursor: pointer;\n",
              "        display: none;\n",
              "        fill: #1967D2;\n",
              "        height: 32px;\n",
              "        padding: 0 0 0 0;\n",
              "        width: 32px;\n",
              "      }\n",
              "\n",
              "      .colab-df-generate:hover {\n",
              "        background-color: #E2EBFA;\n",
              "        box-shadow: 0px 1px 2px rgba(60, 64, 67, 0.3), 0px 1px 3px 1px rgba(60, 64, 67, 0.15);\n",
              "        fill: #174EA6;\n",
              "      }\n",
              "\n",
              "      [theme=dark] .colab-df-generate {\n",
              "        background-color: #3B4455;\n",
              "        fill: #D2E3FC;\n",
              "      }\n",
              "\n",
              "      [theme=dark] .colab-df-generate:hover {\n",
              "        background-color: #434B5C;\n",
              "        box-shadow: 0px 1px 3px 1px rgba(0, 0, 0, 0.15);\n",
              "        filter: drop-shadow(0px 1px 2px rgba(0, 0, 0, 0.3));\n",
              "        fill: #FFFFFF;\n",
              "      }\n",
              "    </style>\n",
              "    <button class=\"colab-df-generate\" onclick=\"generateWithVariable('df_features')\"\n",
              "            title=\"Generate code using this dataframe.\"\n",
              "            style=\"display:none;\">\n",
              "\n",
              "  <svg xmlns=\"http://www.w3.org/2000/svg\" height=\"24px\"viewBox=\"0 0 24 24\"\n",
              "       width=\"24px\">\n",
              "    <path d=\"M7,19H8.4L18.45,9,17,7.55,7,17.6ZM5,21V16.75L18.45,3.32a2,2,0,0,1,2.83,0l1.4,1.43a1.91,1.91,0,0,1,.58,1.4,1.91,1.91,0,0,1-.58,1.4L9.25,21ZM18.45,9,17,7.55Zm-12,3A5.31,5.31,0,0,0,4.9,8.1,5.31,5.31,0,0,0,1,6.5,5.31,5.31,0,0,0,4.9,4.9,5.31,5.31,0,0,0,6.5,1,5.31,5.31,0,0,0,8.1,4.9,5.31,5.31,0,0,0,12,6.5,5.46,5.46,0,0,0,6.5,12Z\"/>\n",
              "  </svg>\n",
              "    </button>\n",
              "    <script>\n",
              "      (() => {\n",
              "      const buttonEl =\n",
              "        document.querySelector('#id_e0bcc1b8-b020-4b3f-9e31-69a9bda61031 button.colab-df-generate');\n",
              "      buttonEl.style.display =\n",
              "        google.colab.kernel.accessAllowed ? 'block' : 'none';\n",
              "\n",
              "      buttonEl.onclick = () => {\n",
              "        google.colab.notebook.generateWithVariable('df_features');\n",
              "      }\n",
              "      })();\n",
              "    </script>\n",
              "  </div>\n",
              "\n",
              "    </div>\n",
              "  </div>\n"
            ],
            "application/vnd.google.colaboratory.intrinsic+json": {
              "type": "dataframe",
              "variable_name": "df_features",
              "summary": "{\n  \"name\": \"df_features\",\n  \"rows\": 4760,\n  \"fields\": [\n    {\n      \"column\": \"Movie_Genre\",\n      \"properties\": {\n        \"dtype\": \"category\",\n        \"num_unique_values\": 1164,\n        \"samples\": [\n          \"Family Animation Adventure\",\n          \"Adventure Science Fiction Action\",\n          \"Action Crime Drama Romance Thriller\"\n        ],\n        \"semantic_type\": \"\",\n        \"description\": \"\"\n      }\n    },\n    {\n      \"column\": \"Movie_Title\",\n      \"properties\": {\n        \"dtype\": \"string\",\n        \"num_unique_values\": 4757,\n        \"samples\": [\n          \"Soul Survivors\",\n          \"For Your Eyes Only\",\n          \"Up\"\n        ],\n        \"semantic_type\": \"\",\n        \"description\": \"\"\n      }\n    },\n    {\n      \"column\": \"Movie_Keywords\",\n      \"properties\": {\n        \"dtype\": \"string\",\n        \"num_unique_values\": 4203,\n        \"samples\": [\n          \"canada nazis sequel spin off ancient evil\",\n          \"sex professor wedding woman director columbia university\",\n          \"prophecy sea beach gold small town\"\n        ],\n        \"semantic_type\": \"\",\n        \"description\": \"\"\n      }\n    },\n    {\n      \"column\": \"Movie_Cast\",\n      \"properties\": {\n        \"dtype\": \"string\",\n        \"num_unique_values\": 4715,\n        \"samples\": [\n          \"Robin Tunney Fairuza Balk Neve Campbell Rachel True Skeet Ulrich\",\n          \"Peter Sellers Christopher Plummer Herbert Lom Catherine Schell Peter Arne\",\n          \"John Wayne Laraine Day Cedric Hardwicke Judith Anderson Anthony Quinn\"\n        ],\n        \"semantic_type\": \"\",\n        \"description\": \"\"\n      }\n    },\n    {\n      \"column\": \"Movie_Director\",\n      \"properties\": {\n        \"dtype\": \"category\",\n        \"num_unique_values\": 2332,\n        \"samples\": [\n          \"Rob McKittrick\",\n          \"Terron R. Parsons\",\n          \"Cyrus Nowrasteh\"\n        ],\n        \"semantic_type\": \"\",\n        \"description\": \"\"\n      }\n    }\n  ]\n}"
            }
          },
          "metadata": {},
          "execution_count": 20
        }
      ]
    },
    {
      "cell_type": "code",
      "source": [
        "x = df_features['Movie_Genre'] + ' ' + df_features['Movie_Title'] + ' ' + df_features['Movie_Keywords'] + ' ' + df_features['Movie_Cast'] + ' ' + df_features['Movie_Director']"
      ],
      "metadata": {
        "id": "cRHS_OSlyzIF"
      },
      "execution_count": null,
      "outputs": []
    },
    {
      "cell_type": "code",
      "source": [
        "x"
      ],
      "metadata": {
        "colab": {
          "base_uri": "https://localhost:8080/"
        },
        "id": "EyIksmtr0Uqw",
        "outputId": "ab398fd7-670a-41ef-9804-88a575826a27"
      },
      "execution_count": null,
      "outputs": [
        {
          "output_type": "execute_result",
          "data": {
            "text/plain": [
              "0       Crime Comedy Four Rooms hotel new year's eve w...\n",
              "1       Adventure Action Science Fiction Star Wars and...\n",
              "2       Animation Family Finding Nemo father son relat...\n",
              "3       Comedy Drama Romance Forrest Gump vietnam vete...\n",
              "4       Drama American Beauty male nudity female nudit...\n",
              "                              ...                        \n",
              "4755    Horror Midnight Cabaret  Lisa Hart Carroll Mic...\n",
              "4756    Comedy Family Drama Growing Up Smith  Roni Aku...\n",
              "4757    Thriller Drama 8 Days christian film sex traff...\n",
              "4758                            Family Running Forever   \n",
              "4759    Documentary To Be Frank, Sinatra at 100 music ...\n",
              "Length: 4760, dtype: object"
            ]
          },
          "metadata": {},
          "execution_count": 22
        }
      ]
    },
    {
      "cell_type": "code",
      "source": [
        "x.shape"
      ],
      "metadata": {
        "colab": {
          "base_uri": "https://localhost:8080/"
        },
        "id": "JUDaJnk10cpw",
        "outputId": "1a93b493-3444-429c-9c41-386e849635e0"
      },
      "execution_count": null,
      "outputs": [
        {
          "output_type": "execute_result",
          "data": {
            "text/plain": [
              "(4760,)"
            ]
          },
          "metadata": {},
          "execution_count": 23
        }
      ]
    },
    {
      "cell_type": "markdown",
      "source": [
        "**Get Features Text Conversions To Tokens**"
      ],
      "metadata": {
        "id": "LQTzpp700hX5"
      }
    },
    {
      "cell_type": "code",
      "source": [
        "from sklearn.feature_extraction.text import TfidfVectorizer"
      ],
      "metadata": {
        "id": "QvNtfQmt0q0J"
      },
      "execution_count": null,
      "outputs": []
    },
    {
      "cell_type": "code",
      "source": [
        "Tfidf = TfidfVectorizer()"
      ],
      "metadata": {
        "id": "fqHHNnq_05mT"
      },
      "execution_count": null,
      "outputs": []
    },
    {
      "cell_type": "code",
      "source": [
        "x = Tfidf.fit_transform(x)"
      ],
      "metadata": {
        "id": "6Z3FcJyR1B7K"
      },
      "execution_count": null,
      "outputs": []
    },
    {
      "cell_type": "code",
      "source": [
        "x.shape"
      ],
      "metadata": {
        "colab": {
          "base_uri": "https://localhost:8080/"
        },
        "id": "8lILhukO1KR8",
        "outputId": "c011334a-3fb9-4db5-a985-eeeb24f14808"
      },
      "execution_count": null,
      "outputs": [
        {
          "output_type": "execute_result",
          "data": {
            "text/plain": [
              "(4760, 17398)"
            ]
          },
          "metadata": {},
          "execution_count": 27
        }
      ]
    },
    {
      "cell_type": "code",
      "source": [
        "print(x)"
      ],
      "metadata": {
        "colab": {
          "base_uri": "https://localhost:8080/"
        },
        "id": "O-qeDkfd1NQs",
        "outputId": "a8a70db2-dea4-41e1-9eba-566df979eed6"
      },
      "execution_count": null,
      "outputs": [
        {
          "output_type": "stream",
          "name": "stdout",
          "text": [
            "  (0, 587)\t0.23928633448115588\n",
            "  (0, 447)\t0.2098710211091888\n",
            "  (0, 15553)\t0.21469570324014506\n",
            "  (0, 9750)\t0.20840812518706128\n",
            "  (0, 9529)\t0.2431625434904826\n",
            "  (0, 1390)\t0.24755702682362685\n",
            "  (0, 7868)\t0.14336223679044874\n",
            "  (0, 1202)\t0.20313129035819905\n",
            "  (0, 698)\t0.19652727006509427\n",
            "  (0, 13198)\t0.21140198270067004\n",
            "  (0, 15486)\t0.15376820564903265\n",
            "  (0, 13157)\t0.20700749936752574\n",
            "  (0, 1599)\t0.2358189473676872\n",
            "  (0, 16987)\t0.18559683210819897\n",
            "  (0, 5087)\t0.21469570324014506\n",
            "  (0, 17179)\t0.2043733147170281\n",
            "  (0, 11001)\t0.13706604023806182\n",
            "  (0, 7248)\t0.3631240432763315\n",
            "  (0, 13159)\t0.28878512964820724\n",
            "  (0, 5662)\t0.22718460779589042\n",
            "  (0, 3264)\t0.06633980014488709\n",
            "  (0, 3597)\t0.0956746133095292\n",
            "  (1, 9372)\t0.18551043742342785\n",
            "  (1, 6040)\t0.14694583926437732\n",
            "  (1, 6504)\t0.24210580162760723\n",
            "  :\t:\n",
            "  (4757, 2992)\t0.18150266924191866\n",
            "  (4757, 8434)\t0.19453249994632163\n",
            "  (4757, 15431)\t0.08521039957582192\n",
            "  (4757, 4503)\t0.06320517195117185\n",
            "  (4758, 5633)\t0.7060105192137399\n",
            "  (4758, 13284)\t0.6479102005923687\n",
            "  (4758, 5239)\t0.2859397117014391\n",
            "  (4759, 11373)\t0.25622917364057396\n",
            "  (4759, 11811)\t0.25622917364057396\n",
            "  (4759, 8959)\t0.25622917364057396\n",
            "  (4759, 165)\t0.25622917364057396\n",
            "  (4759, 2)\t0.25622917364057396\n",
            "  (4759, 14188)\t0.48877943896991377\n",
            "  (4759, 7161)\t0.19739463655542308\n",
            "  (4759, 3085)\t0.24438971948495689\n",
            "  (4759, 1386)\t0.20157313636720445\n",
            "  (4759, 10862)\t0.23598949307810865\n",
            "  (4759, 4352)\t0.13817334299788595\n",
            "  (4759, 14176)\t0.15159154307947867\n",
            "  (4759, 5691)\t0.2970300980472886\n",
            "  (4759, 940)\t0.16875472958610957\n",
            "  (4759, 15522)\t0.1309491018311398\n",
            "  (4759, 15571)\t0.14815231533070983\n",
            "  (4759, 1491)\t0.15945598038459433\n",
            "  (4759, 10763)\t0.12047436738952251\n"
          ]
        }
      ]
    },
    {
      "cell_type": "markdown",
      "source": [
        "**Get Similarity Score using Cosine Similarity**"
      ],
      "metadata": {
        "id": "W43g7QYc1ehu"
      }
    },
    {
      "cell_type": "code",
      "source": [
        "from sklearn.metrics.pairwise import cosine_similarity"
      ],
      "metadata": {
        "id": "8xK9Alh91m9A"
      },
      "execution_count": null,
      "outputs": []
    },
    {
      "cell_type": "code",
      "source": [
        "similarity_score = cosine_similarity(x)"
      ],
      "metadata": {
        "id": "Yrz8SE8014iI"
      },
      "execution_count": null,
      "outputs": []
    },
    {
      "cell_type": "code",
      "source": [
        "similarity_score"
      ],
      "metadata": {
        "colab": {
          "base_uri": "https://localhost:8080/"
        },
        "id": "SSr9NFy82DWC",
        "outputId": "1acbe65a-b55f-4d87-f97f-1e6df31df7e5"
      },
      "execution_count": null,
      "outputs": [
        {
          "output_type": "execute_result",
          "data": {
            "text/plain": [
              "array([[1.        , 0.        , 0.        , ..., 0.        , 0.        ,\n",
              "        0.        ],\n",
              "       [0.        , 1.        , 0.        , ..., 0.        , 0.        ,\n",
              "        0.        ],\n",
              "       [0.        , 0.        , 1.        , ..., 0.        , 0.02614996,\n",
              "        0.        ],\n",
              "       ...,\n",
              "       [0.        , 0.        , 0.        , ..., 1.        , 0.        ,\n",
              "        0.        ],\n",
              "       [0.        , 0.        , 0.02614996, ..., 0.        , 1.        ,\n",
              "        0.        ],\n",
              "       [0.        , 0.        , 0.        , ..., 0.        , 0.        ,\n",
              "        1.        ]])"
            ]
          },
          "metadata": {},
          "execution_count": 32
        }
      ]
    },
    {
      "cell_type": "markdown",
      "source": [
        "**Get Movie Name as Input from User and Validate for Closet Spelling**"
      ],
      "metadata": {
        "id": "hgvk1x4Z2IAT"
      }
    },
    {
      "cell_type": "code",
      "source": [
        "Favorite_movie_name = input(\"Enter your favorite movie name? \")"
      ],
      "metadata": {
        "colab": {
          "base_uri": "https://localhost:8080/"
        },
        "id": "qpsO9qs_2TYj",
        "outputId": "658e19e9-b4ae-46cc-d923-99ca94368d53"
      },
      "execution_count": null,
      "outputs": [
        {
          "name": "stdout",
          "output_type": "stream",
          "text": [
            "Enter your favorite movie name? Star Wars\n"
          ]
        }
      ]
    },
    {
      "cell_type": "code",
      "source": [
        "All_movies_title_List = df['Movie_Title'].tolist()"
      ],
      "metadata": {
        "id": "60JyI95J28GQ"
      },
      "execution_count": null,
      "outputs": []
    },
    {
      "cell_type": "code",
      "source": [
        "import difflib"
      ],
      "metadata": {
        "id": "gTnhTZGk3Uqx"
      },
      "execution_count": null,
      "outputs": []
    },
    {
      "cell_type": "code",
      "source": [
        "Movie_Recommendation = difflib.get_close_matches(Favorite_movie_name,All_movies_title_List)\n",
        "print(Movie_Recommendation)"
      ],
      "metadata": {
        "colab": {
          "base_uri": "https://localhost:8080/"
        },
        "id": "WsC-9QnA3X7q",
        "outputId": "1aad395f-89f8-44ba-f38c-93a156da53b8"
      },
      "execution_count": null,
      "outputs": [
        {
          "output_type": "stream",
          "name": "stdout",
          "text": [
            "['Star Wars', 'Star Trek', 'State Fair']\n"
          ]
        }
      ]
    },
    {
      "cell_type": "code",
      "source": [
        "close_match = Movie_Recommendation[0]\n",
        "print(close_match)"
      ],
      "metadata": {
        "colab": {
          "base_uri": "https://localhost:8080/"
        },
        "id": "5-jAUZ6p355f",
        "outputId": "bfac976c-d08b-45bd-b8b9-5c370b6db697"
      },
      "execution_count": null,
      "outputs": [
        {
          "output_type": "stream",
          "name": "stdout",
          "text": [
            "Star Wars\n"
          ]
        }
      ]
    },
    {
      "cell_type": "code",
      "source": [
        "Index_of_Close_Match_movie = df[df.Movie_Title == close_match]['Movie_ID'].values[0]\n",
        "print(Index_of_Close_Match_movie)"
      ],
      "metadata": {
        "colab": {
          "base_uri": "https://localhost:8080/"
        },
        "id": "d34DJB5R4XDv",
        "outputId": "7c616f02-cf6c-4a85-f6b8-8d098ca8ecce"
      },
      "execution_count": null,
      "outputs": [
        {
          "output_type": "stream",
          "name": "stdout",
          "text": [
            "2\n"
          ]
        }
      ]
    },
    {
      "cell_type": "markdown",
      "source": [
        "Getting List of Similar Movies"
      ],
      "metadata": {
        "id": "Q98Fo3Ev5x1z"
      }
    },
    {
      "cell_type": "code",
      "source": [
        "Recommendation_Score = list(enumerate(similarity_score[Index_of_Close_Match_movie]))\n",
        "print(Recommendation_Score)"
      ],
      "metadata": {
        "colab": {
          "base_uri": "https://localhost:8080/"
        },
        "id": "uPRGHhtW52Wj",
        "outputId": "86e3511d-c126-454e-b266-62bf8191d21d"
      },
      "execution_count": null,
      "outputs": [
        {
          "output_type": "stream",
          "name": "stdout",
          "text": [
            "[(0, 0.0), (1, 0.0), (2, 1.0000000000000002), (3, 0.0), (4, 0.0), (5, 0.0), (6, 0.0), (7, 0.0), (8, 0.0), (9, 0.0), (10, 0.0), (11, 0.0), (12, 0.0), (13, 0.0), (14, 0.07447184666259157), (15, 0.0), (16, 0.0), (17, 0.0), (18, 0.0), (19, 0.0), (20, 0.0), (21, 0.0), (22, 0.04095667872660534), (23, 0.0), (24, 0.0), (25, 0.0), (26, 0.04760973600862827), (27, 0.0), (28, 0.0), (29, 0.0), (30, 0.0), (31, 0.0), (32, 0.0), (33, 0.0), (34, 0.0), (35, 0.0), (36, 0.0), (37, 0.0), (38, 0.0), (39, 0.0), (40, 0.0), (41, 0.0), (42, 0.0), (43, 0.0), (44, 0.0), (45, 0.009573462711856578), (46, 0.0), (47, 0.02417269210226199), (48, 0.0), (49, 0.03219417877423739), (50, 0.0), (51, 0.0), (52, 0.0), (53, 0.06273859348173796), (54, 0.0), (55, 0.0), (56, 0.0), (57, 0.013364865465702272), (58, 0.033082790646785515), (59, 0.0), (60, 0.0), (61, 0.013025528791378294), (62, 0.0), (63, 0.0), (64, 0.0130366072138948), (65, 0.0), (66, 0.0), (67, 0.0), (68, 0.0), (69, 0.0), (70, 0.026799989376368457), (71, 0.0), (72, 0.024672194725222384), (73, 0.008848584286118146), (74, 0.0), (75, 0.0), (76, 0.0), (77, 0.0), (78, 0.0), (79, 0.0), (80, 0.0), (81, 0.0), (82, 0.0), (83, 0.0), (84, 0.0), (85, 0.0), (86, 0.0), (87, 0.0), (88, 0.0), (89, 0.0), (90, 0.0), (91, 0.00904495515339697), (92, 0.0), (93, 0.0), (94, 0.0), (95, 0.0), (96, 0.0), (97, 0.0), (98, 0.0), (99, 0.0), (100, 0.0), (101, 0.0), (102, 0.0), (103, 0.0), (104, 0.0), (105, 0.0), (106, 0.0), (107, 0.0), (108, 0.0), (109, 0.02147053803964644), (110, 0.0), (111, 0.0), (112, 0.0), (113, 0.0), (114, 0.0), (115, 0.0), (116, 0.0), (117, 0.007317787028583727), (118, 0.0), (119, 0.0), (120, 0.008695818293711782), (121, 0.033789716000064966), (122, 0.0), (123, 0.0), (124, 0.0), (125, 0.0), (126, 0.0), (127, 0.0), (128, 0.0), (129, 0.0), (130, 0.0), (131, 0.0), (132, 0.0), (133, 0.0), (134, 0.0), (135, 0.0), (136, 0.023844835675719895), (137, 0.02827672630670892), (138, 0.0), (139, 0.0), (140, 0.052222331720527315), (141, 0.0), (142, 0.0), (143, 0.0), (144, 0.0833570720682725), (145, 0.0), (146, 0.06033762003986625), (147, 0.0), (148, 0.0), (149, 0.010723926376862078), (150, 0.0), (151, 0.0), (152, 0.0), (153, 0.009475682240470322), (154, 0.014627069554906332), (155, 0.0), (156, 0.0), (157, 0.0), (158, 0.0), (159, 0.0), (160, 0.046699121263962216), (161, 0.0), (162, 0.0), (163, 0.0), (164, 0.021227176944155594), (165, 0.0), (166, 0.07779520210440183), (167, 0.02180616072440926), (168, 0.0), (169, 0.013501293018132432), (170, 0.012330422127560182), (171, 0.0), (172, 0.0), (173, 0.05368458731229246), (174, 0.0), (175, 0.0), (176, 0.013009721268744208), (177, 0.02150885538392955), (178, 0.0757941794868692), (179, 0.04093771808747436), (180, 0.0), (181, 0.0), (182, 0.0725186705176788), (183, 0.008962694889042156), (184, 0.0), (185, 0.03849156907531915), (186, 0.0), (187, 0.02537507329377874), (188, 0.03460770488022252), (189, 0.0), (190, 0.0), (191, 0.0), (192, 0.0), (193, 0.0), (194, 0.0), (195, 0.0), (196, 0.036237982060277854), (197, 0.0), (198, 0.05944149795728741), (199, 0.00822623046142287), (200, 0.0), (201, 0.014591723948909795), (202, 0.0), (203, 0.0), (204, 0.0), (205, 0.0), (206, 0.0), (207, 0.0), (208, 0.021872880280611295), (209, 0.0), (210, 0.0), (211, 0.0), (212, 0.0), (213, 0.0), (214, 0.0), (215, 0.0), (216, 0.0), (217, 0.0), (218, 0.0), (219, 0.038211983818798964), (220, 0.0), (221, 0.0), (222, 0.0), (223, 0.0), (224, 0.0), (225, 0.0), (226, 0.0), (227, 0.0), (228, 0.0), (229, 0.024641859135820707), (230, 0.07428060653423683), (231, 0.0), (232, 0.0), (233, 0.03188010130849962), (234, 0.0), (235, 0.0), (236, 0.0), (237, 0.0), (238, 0.0), (239, 0.0), (240, 0.0), (241, 0.0), (242, 0.007969102703611728), (243, 0.0), (244, 0.0), (245, 0.026738200569405013), (246, 0.0), (247, 0.18112699349724035), (248, 0.0), (249, 0.0), (250, 0.0), (251, 0.0), (252, 0.0), (253, 0.0), (254, 0.013288930778931774), (255, 0.0), (256, 0.0), (257, 0.009081338601364699), (258, 0.0), (259, 0.0), (260, 0.0), (261, 0.0), (262, 0.0), (263, 0.0), (264, 0.0), (265, 0.0), (266, 0.0), (267, 0.0), (268, 0.0), (269, 0.0), (270, 0.0), (271, 0.01175747499086472), (272, 0.0), (273, 0.0), (274, 0.0), (275, 0.026748425775183007), (276, 0.0), (277, 0.009165109650041501), (278, 0.0), (279, 0.013681674446772828), (280, 0.0), (281, 0.03367112895269817), (282, 0.0), (283, 0.0), (284, 0.0), (285, 0.0), (286, 0.04101107337871546), (287, 0.0), (288, 0.0), (289, 0.0), (290, 0.0), (291, 0.0), (292, 0.012277652708568695), (293, 0.0), (294, 0.0), (295, 0.0), (296, 0.0), (297, 0.009121942304646639), (298, 0.008933425521114913), (299, 0.008508114394813682), (300, 0.008343808536077734), (301, 0.00877775123076915), (302, 0.06329124950698312), (303, 0.0), (304, 0.0), (305, 0.0), (306, 0.0), (307, 0.0), (308, 0.009159724313208011), (309, 0.01214597902519028), (310, 0.0), (311, 0.0), (312, 0.013194835997312105), (313, 0.0), (314, 0.0), (315, 0.0), (316, 0.0), (317, 0.011939239755754318), (318, 0.0), (319, 0.0), (320, 0.0), (321, 0.0), (322, 0.0), (323, 0.0), (324, 0.07492770775764278), (325, 0.0), (326, 0.0), (327, 0.0), (328, 0.0), (329, 0.0), (330, 0.0), (331, 0.0), (332, 0.0), (333, 0.0), (334, 0.013367728837444012), (335, 0.023949563942744695), (336, 0.0), (337, 0.030890634187300377), (338, 0.0), (339, 0.0), (340, 0.008949013914949034), (341, 0.04971807028598031), (342, 0.0), (343, 0.0), (344, 0.008834728203110103), (345, 0.008541347983549125), (346, 0.03540789924664642), (347, 0.026942490388374186), (348, 0.0), (349, 0.0), (350, 0.02679350078237064), (351, 0.022802780636810648), (352, 0.0), (353, 0.07940043840445422), (354, 0.0), (355, 0.02682522941710096), (356, 0.0), (357, 0.0), (358, 0.0), (359, 0.0), (360, 0.028029428733397612), (361, 0.05634313925856406), (362, 0.05690568083515561), (363, 0.026262924356107054), (364, 0.0), (365, 0.027119284696030397), (366, 0.0), (367, 0.0), (368, 0.0), (369, 0.013253409545338577), (370, 0.02674104383179061), (371, 0.0), (372, 0.0), (373, 0.0), (374, 0.0), (375, 0.0), (376, 0.0), (377, 0.0), (378, 0.0), (379, 0.02558085975868376), (380, 0.0), (381, 0.0), (382, 0.0), (383, 0.008936839248899453), (384, 0.0), (385, 0.04548444626712355), (386, 0.0), (387, 0.0), (388, 0.0), (389, 0.0), (390, 0.0), (391, 0.026897639066392136), (392, 0.025598976639275593), (393, 0.0), (394, 0.0), (395, 0.07968392636770265), (396, 0.0), (397, 0.0), (398, 0.0), (399, 0.0), (400, 0.0), (401, 0.010547740074875092), (402, 0.0), (403, 0.0), (404, 0.018068035820222792), (405, 0.008608657827410928), (406, 0.03066045532254326), (407, 0.008904051688815317), (408, 0.0), (409, 0.02383831511927749), (410, 0.017605527260172595), (411, 0.0), (412, 0.0), (413, 0.009490727926133645), (414, 0.0), (415, 0.0), (416, 0.0), (417, 0.0), (418, 0.0), (419, 0.0), (420, 0.0), (421, 0.06294178728283323), (422, 0.0), (423, 0.02507602840136297), (424, 0.0), (425, 0.0), (426, 0.0), (427, 0.0638872170289322), (428, 0.022801351574041853), (429, 0.03818397020548795), (430, 0.0), (431, 0.0), (432, 0.0), (433, 0.0), (434, 0.0), (435, 0.0), (436, 0.0), (437, 0.007809411040658271), (438, 0.0), (439, 0.0), (440, 0.0), (441, 0.011470454267354538), (442, 0.0), (443, 0.0), (444, 0.0), (445, 0.02249454742747177), (446, 0.0381857884972385), (447, 0.0), (448, 0.0), (449, 0.0), (450, 0.0), (451, 0.02333486404793909), (452, 0.0), (453, 0.0), (454, 0.013713024972132599), (455, 0.0), (456, 0.0), (457, 0.022473624353569983), (458, 0.0), (459, 0.07675224443735301), (460, 0.0), (461, 0.04153617224041703), (462, 0.0), (463, 0.07382870058436437), (464, 0.0), (465, 0.012929713479057673), (466, 0.0), (467, 0.0), (468, 0.0), (469, 0.0), (470, 0.009410512858155695), (471, 0.0), (472, 0.034204819045080596), (473, 0.010757710830532013), (474, 0.07345722453939069), (475, 0.0), (476, 0.0), (477, 0.0), (478, 0.0), (479, 0.0), (480, 0.0), (481, 0.0), (482, 0.0), (483, 0.0), (484, 0.0), (485, 0.0), (486, 0.0), (487, 0.0), (488, 0.053665421121978585), (489, 0.014974593960755924), (490, 0.009797001466330264), (491, 0.0), (492, 0.0), (493, 0.0), (494, 0.0), (495, 0.0), (496, 0.0), (497, 0.007229381366063089), (498, 0.007813565277967078), (499, 0.0), (500, 0.02920171006780924), (501, 0.0), (502, 0.0), (503, 0.0), (504, 0.0), (505, 0.0), (506, 0.0), (507, 0.024006489953043043), (508, 0.0), (509, 0.0), (510, 0.0), (511, 0.008291869081770669), (512, 0.0), (513, 0.0), (514, 0.0), (515, 0.0), (516, 0.0), (517, 0.029908990812302066), (518, 0.0), (519, 0.008087154420761881), (520, 0.0), (521, 0.0), (522, 0.009556875784804367), (523, 0.0), (524, 0.020275761630204732), (525, 0.0), (526, 0.0), (527, 0.007780656380399014), (528, 0.00822066087424382), (529, 0.0), (530, 0.0), (531, 0.0), (532, 0.0), (533, 0.0), (534, 0.0), (535, 0.0), (536, 0.0), (537, 0.0), (538, 0.0), (539, 0.0), (540, 0.07182087715021522), (541, 0.0), (542, 0.0), (543, 0.0), (544, 0.0), (545, 0.0), (546, 0.008676474012895145), (547, 0.0), (548, 0.057207091311657486), (549, 0.021493702153004383), (550, 0.0), (551, 0.0), (552, 0.0), (553, 0.0), (554, 0.0), (555, 0.0), (556, 0.0), (557, 0.0), (558, 0.0), (559, 0.0), (560, 0.0), (561, 0.0), (562, 0.0), (563, 0.0), (564, 0.0), (565, 0.0), (566, 0.0), (567, 0.0), (568, 0.0), (569, 0.026378396306659287), (570, 0.0), (571, 0.0), (572, 0.0), (573, 0.0), (574, 0.0), (575, 0.0), (576, 0.009393829341178722), (577, 0.0), (578, 0.03706590609992116), (579, 0.0), (580, 0.0), (581, 0.0), (582, 0.0), (583, 0.0), (584, 0.02836073267844648), (585, 0.013255442200891874), (586, 0.0), (587, 0.0), (588, 0.0), (589, 0.0), (590, 0.0), (591, 0.0), (592, 0.0), (593, 0.0), (594, 0.02813593548005904), (595, 0.0), (596, 0.039587790061013164), (597, 0.008282698588554743), (598, 0.0), (599, 0.0), (600, 0.01337870122021532), (601, 0.0), (602, 0.0), (603, 0.0), (604, 0.0), (605, 0.0), (606, 0.0), (607, 0.012264419375477119), (608, 0.0), (609, 0.0), (610, 0.0), (611, 0.011192498349118235), (612, 0.0), (613, 0.0), (614, 0.0), (615, 0.04702770275751636), (616, 0.0), (617, 0.0), (618, 0.0), (619, 0.07675313434234689), (620, 0.036409424191824226), (621, 0.0), (622, 0.0), (623, 0.0), (624, 0.07003135340479456), (625, 0.0), (626, 0.0), (627, 0.0), (628, 0.013485963613332864), (629, 0.019346818939428256), (630, 0.0), (631, 0.0319059163041042), (632, 0.0), (633, 0.0), (634, 0.0), (635, 0.0), (636, 0.0), (637, 0.0), (638, 0.0), (639, 0.0), (640, 0.06026746603604212), (641, 0.017698494139506464), (642, 0.0), (643, 0.06656217642961963), (644, 0.0), (645, 0.0), (646, 0.02622059540216512), (647, 0.0), (648, 0.0), (649, 0.0), (650, 0.0), (651, 0.02431285313902316), (652, 0.0), (653, 0.0), (654, 0.0), (655, 0.0), (656, 0.0), (657, 0.008682381004311018), (658, 0.0), (659, 0.0), (660, 0.0), (661, 0.0), (662, 0.03764532825710574), (663, 0.0), (664, 0.0), (665, 0.0), (666, 0.0), (667, 0.0), (668, 0.0), (669, 0.0), (670, 0.0), (671, 0.0), (672, 0.0), (673, 0.0), (674, 0.01411722840428711), (675, 0.0), (676, 0.0), (677, 0.0), (678, 0.0), (679, 0.0), (680, 0.0), (681, 0.0), (682, 0.0), (683, 0.0), (684, 0.0), (685, 0.0), (686, 0.009374483179729958), (687, 0.0), (688, 0.0), (689, 0.013846847302656253), (690, 0.0), (691, 0.07793644965637175), (692, 0.0), (693, 0.012100512288960617), (694, 0.0), (695, 0.055832696980558316), (696, 0.0), (697, 0.0), (698, 0.07040900289895996), (699, 0.0), (700, 0.010384650989172916), (701, 0.0), (702, 0.0), (703, 0.008922664176194991), (704, 0.0), (705, 0.06236119191156432), (706, 0.027803027773961937), (707, 0.0), (708, 0.0), (709, 0.0), (710, 0.0), (711, 0.0), (712, 0.021335004422139744), (713, 0.009173966205792583), (714, 0.015778078809071863), (715, 0.008427384210866246), (716, 0.0), (717, 0.008728007664360063), (718, 0.0), (719, 0.0), (720, 0.007239981338072645), (721, 0.0), (722, 0.0), (723, 0.0), (724, 0.04379444532265346), (725, 0.008684938827539783), (726, 0.007715066782268002), (727, 0.0), (728, 0.0), (729, 0.0), (730, 0.06010956053136918), (731, 0.0), (732, 0.0), (733, 0.0), (734, 0.0), (735, 0.0), (736, 0.0), (737, 0.0), (738, 0.0), (739, 0.0), (740, 0.0), (741, 0.0), (742, 0.013062454307966986), (743, 0.03606924463171133), (744, 0.0), (745, 0.00891945129655414), (746, 0.0), (747, 0.0), (748, 0.0), (749, 0.0), (750, 0.0), (751, 0.0), (752, 0.09237736521011657), (753, 0.03775767539051191), (754, 0.0), (755, 0.04040273226189154), (756, 0.0), (757, 0.0), (758, 0.0), (759, 0.0), (760, 0.0), (761, 0.0), (762, 0.0), (763, 0.0), (764, 0.0), (765, 0.0), (766, 0.0), (767, 0.0), (768, 0.030684136910292086), (769, 0.01338141456784432), (770, 0.008220302379844599), (771, 0.0), (772, 0.0), (773, 0.010227657553596161), (774, 0.0), (775, 0.0), (776, 0.0), (777, 0.0), (778, 0.03175321799651737), (779, 0.0), (780, 0.0), (781, 0.010378146762877344), (782, 0.0), (783, 0.0), (784, 0.0), (785, 0.0), (786, 0.0), (787, 0.03353901505980446), (788, 0.0), (789, 0.0), (790, 0.0), (791, 0.0), (792, 0.0), (793, 0.0), (794, 0.05505349580680288), (795, 0.0), (796, 0.0), (797, 0.015002596044884802), (798, 0.0), (799, 0.0), (800, 0.0), (801, 0.0), (802, 0.016714433667176818), (803, 0.0), (804, 0.0), (805, 0.0), (806, 0.0), (807, 0.009001448449260444), (808, 0.0), (809, 0.0), (810, 0.0), (811, 0.0), (812, 0.0), (813, 0.0), (814, 0.0), (815, 0.0), (816, 0.0), (817, 0.019688824381752356), (818, 0.0), (819, 0.015715555478214443), (820, 0.0), (821, 0.013900980390338782), (822, 0.0), (823, 0.0), (824, 0.008128235300192464), (825, 0.0), (826, 0.0), (827, 0.0), (828, 0.0), (829, 0.0), (830, 0.0), (831, 0.011419797837831315), (832, 0.0), (833, 0.0), (834, 0.0), (835, 0.0), (836, 0.008683802649372706), (837, 0.0), (838, 0.0), (839, 0.0), (840, 0.0), (841, 0.0), (842, 0.0), (843, 0.013149089420647584), (844, 0.0), (845, 0.0), (846, 0.0), (847, 0.014744414994770859), (848, 0.0), (849, 0.013942488489288446), (850, 0.04305412187415665), (851, 0.0), (852, 0.03775158681359643), (853, 0.026298892233094867), (854, 0.04694653947819119), (855, 0.0), (856, 0.02421087522277189), (857, 0.0), (858, 0.0), (859, 0.010009369124551363), (860, 0.0), (861, 0.0), (862, 0.0), (863, 0.022234266753260658), (864, 0.0), (865, 0.0), (866, 0.0), (867, 0.0), (868, 0.0), (869, 0.0), (870, 0.0), (871, 0.0), (872, 0.01388111442075967), (873, 0.0), (874, 0.0), (875, 0.0), (876, 0.0), (877, 0.0), (878, 0.0), (879, 0.026786371410850898), (880, 0.025341573506119496), (881, 0.0), (882, 0.012529046655632464), (883, 0.0), (884, 0.02482784512608967), (885, 0.0), (886, 0.0), (887, 0.04009915664069566), (888, 0.0), (889, 0.0), (890, 0.0), (891, 0.0), (892, 0.0), (893, 0.0), (894, 0.0), (895, 0.0), (896, 0.0), (897, 0.0), (898, 0.0), (899, 0.02459074276720497), (900, 0.023044372784047952), (901, 0.021004453987833575), (902, 0.0), (903, 0.0), (904, 0.0), (905, 0.0), (906, 0.0), (907, 0.0), (908, 0.0), (909, 0.023868036878198717), (910, 0.0), (911, 0.0), (912, 0.02200249533409923), (913, 0.0), (914, 0.0), (915, 0.02897854075882708), (916, 0.0), (917, 0.0), (918, 0.0), (919, 0.0), (920, 0.022624233300760917), (921, 0.0), (922, 0.0), (923, 0.0), (924, 0.0), (925, 0.0), (926, 0.038252645242503804), (927, 0.0), (928, 0.0), (929, 0.0), (930, 0.0), (931, 0.00915345787597378), (932, 0.062110748540184), (933, 0.0), (934, 0.0), (935, 0.013084999690892335), (936, 0.039704369207194196), (937, 0.0), (938, 0.0), (939, 0.0), (940, 0.017186900286691852), (941, 0.0), (942, 0.0), (943, 0.0), (944, 0.0), (945, 0.0), (946, 0.009302604517208367), (947, 0.0), (948, 0.033800468702474516), (949, 0.0), (950, 0.0), (951, 0.0), (952, 0.0), (953, 0.0), (954, 0.02765528092614959), (955, 0.0), (956, 0.0), (957, 0.0), (958, 0.0), (959, 0.0), (960, 0.0), (961, 0.024418264685169964), (962, 0.0), (963, 0.0), (964, 0.0), (965, 0.0), (966, 0.0), (967, 0.0), (968, 0.0), (969, 0.0), (970, 0.0), (971, 0.013755901163170749), (972, 0.0), (973, 0.0), (974, 0.0), (975, 0.0), (976, 0.026772473302864586), (977, 0.008951945786953698), (978, 0.012978192926421321), (979, 0.0), (980, 0.0), (981, 0.0), (982, 0.0), (983, 0.0), (984, 0.0), (985, 0.0), (986, 0.0), (987, 0.0), (988, 0.061376714409678644), (989, 0.051770261437430964), (990, 0.0), (991, 0.0), (992, 0.0), (993, 0.0), (994, 0.0), (995, 0.0), (996, 0.0), (997, 0.0), (998, 0.013962972066615207), (999, 0.0), (1000, 0.0), (1001, 0.0), (1002, 0.034433622246683095), (1003, 0.0), (1004, 0.012553981849760767), (1005, 0.0), (1006, 0.013367766770057184), (1007, 0.0), (1008, 0.020906828082609866), (1009, 0.01187274673424317), (1010, 0.0), (1011, 0.02846238082188674), (1012, 0.0), (1013, 0.008836043547974926), (1014, 0.019026742627603125), (1015, 0.0), (1016, 0.02473232839874421), (1017, 0.0), (1018, 0.0), (1019, 0.0), (1020, 0.0), (1021, 0.02637197379375574), (1022, 0.0), (1023, 0.0), (1024, 0.0), (1025, 0.0225757961961389), (1026, 0.0), (1027, 0.0), (1028, 0.0), (1029, 0.0), (1030, 0.0), (1031, 0.0), (1032, 0.0), (1033, 0.0), (1034, 0.0), (1035, 0.0), (1036, 0.0), (1037, 0.0), (1038, 0.05522081556363847), (1039, 0.0), (1040, 0.009973320303797138), (1041, 0.05793889427976236), (1042, 0.0), (1043, 0.0), (1044, 0.0), (1045, 0.0), (1046, 0.02445403932846323), (1047, 0.0), (1048, 0.0), (1049, 0.01417963417459351), (1050, 0.04299366851645072), (1051, 0.0), (1052, 0.0), (1053, 0.0), (1054, 0.0), (1055, 0.0), (1056, 0.0), (1057, 0.02690444577002984), (1058, 0.0), (1059, 0.0), (1060, 0.0), (1061, 0.0), (1062, 0.012502716225803465), (1063, 0.0), (1064, 0.0), (1065, 0.0), (1066, 0.0), (1067, 0.0668109901562543), (1068, 0.0), (1069, 0.0), (1070, 0.0), (1071, 0.0), (1072, 0.07997061698702626), (1073, 0.013061661724879162), (1074, 0.0), (1075, 0.0), (1076, 0.058911715890486285), (1077, 0.01256286032113398), (1078, 0.0), (1079, 0.03415956316742845), (1080, 0.0), (1081, 0.0), (1082, 0.0), (1083, 0.0), (1084, 0.012968472045024913), (1085, 0.02306007305403987), (1086, 0.0), (1087, 0.0), (1088, 0.009549788762375751), (1089, 0.0), (1090, 0.0), (1091, 0.0), (1092, 0.0665065635511948), (1093, 0.0), (1094, 0.03551316418627618), (1095, 0.02821876452121972), (1096, 0.0), (1097, 0.0), (1098, 0.0), (1099, 0.0), (1100, 0.0), (1101, 0.0), (1102, 0.0), (1103, 0.014581139284475297), (1104, 0.014108331064496198), (1105, 0.0), (1106, 0.0), (1107, 0.06327817097710514), (1108, 0.0), (1109, 0.0), (1110, 0.0), (1111, 0.0), (1112, 0.013772434294429124), (1113, 0.0), (1114, 0.024210277561664467), (1115, 0.0), (1116, 0.009254065257118992), (1117, 0.0), (1118, 0.0), (1119, 0.0), (1120, 0.0), (1121, 0.0), (1122, 0.0), (1123, 0.0), (1124, 0.0), (1125, 0.0), (1126, 0.0), (1127, 0.0), (1128, 0.0), (1129, 0.0), (1130, 0.0), (1131, 0.0), (1132, 0.014110516658267435), (1133, 0.0), (1134, 0.0), (1135, 0.0), (1136, 0.0), (1137, 0.0), (1138, 0.0), (1139, 0.0), (1140, 0.0), (1141, 0.009445914652999288), (1142, 0.03777684130875225), (1143, 0.0), (1144, 0.007789594291551221), (1145, 0.0), (1146, 0.0), (1147, 0.0), (1148, 0.0), (1149, 0.0), (1150, 0.0), (1151, 0.0), (1152, 0.0), (1153, 0.0), (1154, 0.0), (1155, 0.008510072027296511), (1156, 0.0), (1157, 0.0), (1158, 0.0), (1159, 0.0), (1160, 0.0), (1161, 0.012790908427751239), (1162, 0.022915652650729854), (1163, 0.02353304411698566), (1164, 0.0), (1165, 0.027515768192820412), (1166, 0.02462902140372831), (1167, 0.0), (1168, 0.010806186009722638), (1169, 0.0), (1170, 0.0), (1171, 0.013710504345940335), (1172, 0.0), (1173, 0.0), (1174, 0.0), (1175, 0.0), (1176, 0.09982248105472628), (1177, 0.0), (1178, 0.0), (1179, 0.0), (1180, 0.0), (1181, 0.0), (1182, 0.10330696372132807), (1183, 0.0), (1184, 0.0), (1185, 0.0), (1186, 0.0), (1187, 0.0), (1188, 0.0), (1189, 0.028656822432436287), (1190, 0.0), (1191, 0.0), (1192, 0.0), (1193, 0.0), (1194, 0.0), (1195, 0.047300247610645316), (1196, 0.009246339356927485), (1197, 0.0), (1198, 0.022256523192350823), (1199, 0.0), (1200, 0.0), (1201, 0.0), (1202, 0.011649232217626135), (1203, 0.0), (1204, 0.00930652413839986), (1205, 0.0), (1206, 0.009168461915732659), (1207, 0.0), (1208, 0.011314688394238156), (1209, 0.0), (1210, 0.0), (1211, 0.0), (1212, 0.0593120184042503), (1213, 0.0), (1214, 0.0), (1215, 0.0), (1216, 0.0), (1217, 0.016499766534505998), (1218, 0.0), (1219, 0.0), (1220, 0.0), (1221, 0.0), (1222, 0.009195862391718984), (1223, 0.026941688450424005), (1224, 0.0), (1225, 0.0), (1226, 0.0), (1227, 0.0), (1228, 0.0), (1229, 0.0), (1230, 0.0), (1231, 0.012429874904250078), (1232, 0.0), (1233, 0.0), (1234, 0.0), (1235, 0.009105097028316233), (1236, 0.0), (1237, 0.0), (1238, 0.0), (1239, 0.0), (1240, 0.0), (1241, 0.03349795345324665), (1242, 0.0), (1243, 0.0), (1244, 0.0), (1245, 0.0), (1246, 0.025172396346304172), (1247, 0.0), (1248, 0.0), (1249, 0.0), (1250, 0.0), (1251, 0.09315596848657753), (1252, 0.0), (1253, 0.0), (1254, 0.0), (1255, 0.023346943306764928), (1256, 0.0), (1257, 0.07289824214494756), (1258, 0.0), (1259, 0.0), (1260, 0.0), (1261, 0.0), (1262, 0.0), (1263, 0.0), (1264, 0.0), (1265, 0.0), (1266, 0.0), (1267, 0.0), (1268, 0.007958080864606318), (1269, 0.0), (1270, 0.0), (1271, 0.0), (1272, 0.0), (1273, 0.0), (1274, 0.0), (1275, 0.0), (1276, 0.045828040253567154), (1277, 0.0), (1278, 0.0), (1279, 0.0), (1280, 0.0), (1281, 0.0), (1282, 0.0), (1283, 0.0), (1284, 0.05964046996163103), (1285, 0.01674585062510088), (1286, 0.0), (1287, 0.0), (1288, 0.0), (1289, 0.0), (1290, 0.0), (1291, 0.02472535869358783), (1292, 0.013461148447836909), (1293, 0.0), (1294, 0.0), (1295, 0.0), (1296, 0.0), (1297, 0.0), (1298, 0.008948950938215528), (1299, 0.0), (1300, 0.008985328551322566), (1301, 0.0), (1302, 0.0), (1303, 0.0), (1304, 0.0), (1305, 0.0), (1306, 0.0), (1307, 0.023905507005712298), (1308, 0.008069110162983529), (1309, 0.03080824650348745), (1310, 0.008963408026596313), (1311, 0.03482366846379944), (1312, 0.0), (1313, 0.0), (1314, 0.0), (1315, 0.0), (1316, 0.0), (1317, 0.0), (1318, 0.0), (1319, 0.05939420331509332), (1320, 0.0), (1321, 0.0), (1322, 0.0), (1323, 0.012098192321474273), (1324, 0.0), (1325, 0.0), (1326, 0.0), (1327, 0.09734937355186556), (1328, 0.00859994347262183), (1329, 0.0), (1330, 0.0), (1331, 0.0), (1332, 0.0), (1333, 0.022724189759970908), (1334, 0.0), (1335, 0.0), (1336, 0.023520005547271752), (1337, 0.0), (1338, 0.03677171854263093), (1339, 0.028113301777315622), (1340, 0.0), (1341, 0.0), (1342, 0.0), (1343, 0.0), (1344, 0.0), (1345, 0.0), (1346, 0.0), (1347, 0.0), (1348, 0.023268725160596547), (1349, 0.0), (1350, 0.0), (1351, 0.034883203991896164), (1352, 0.011826488985378029), (1353, 0.0), (1354, 0.0), (1355, 0.0), (1356, 0.03341223078608804), (1357, 0.0), (1358, 0.008374881934712508), (1359, 0.0), (1360, 0.0), (1361, 0.009103276636825154), (1362, 0.0), (1363, 0.0), (1364, 0.03932196311269478), (1365, 0.013628459040622628), (1366, 0.0), (1367, 0.0), (1368, 0.008835497955461562), (1369, 0.0), (1370, 0.00822047441165898), (1371, 0.0), (1372, 0.0), (1373, 0.02111239704308218), (1374, 0.0), (1375, 0.0), (1376, 0.02207255783181715), (1377, 0.0), (1378, 0.0), (1379, 0.0), (1380, 0.0), (1381, 0.0), (1382, 0.0), (1383, 0.02694531643823228), (1384, 0.0), (1385, 0.0), (1386, 0.0), (1387, 0.0), (1388, 0.0), (1389, 0.031818598028549916), (1390, 0.0), (1391, 0.0), (1392, 0.0), (1393, 0.0), (1394, 0.00889457924317693), (1395, 0.0), (1396, 0.0), (1397, 0.01225828029394903), (1398, 0.0), (1399, 0.0), (1400, 0.0), (1401, 0.0), (1402, 0.0), (1403, 0.029805098252057138), (1404, 0.0), (1405, 0.07544676621271164), (1406, 0.012683949849628737), (1407, 0.0), (1408, 0.0), (1409, 0.05941072713305615), (1410, 0.0), (1411, 0.0), (1412, 0.0), (1413, 0.0), (1414, 0.0), (1415, 0.0), (1416, 0.0), (1417, 0.0), (1418, 0.0), (1419, 0.0), (1420, 0.0), (1421, 0.013167065661486255), (1422, 0.0), (1423, 0.008619378669693742), (1424, 0.0), (1425, 0.008368543568607362), (1426, 0.0), (1427, 0.031137586782236416), (1428, 0.0), (1429, 0.0), (1430, 0.0), (1431, 0.0), (1432, 0.0), (1433, 0.06043815183449279), (1434, 0.0), (1435, 0.0), (1436, 0.0), (1437, 0.0), (1438, 0.0), (1439, 0.0), (1440, 0.0), (1441, 0.0), (1442, 0.0), (1443, 0.0), (1444, 0.0), (1445, 0.0), (1446, 0.0), (1447, 0.01375653034035762), (1448, 0.0), (1449, 0.0), (1450, 0.0), (1451, 0.008210518677725953), (1452, 0.0), (1453, 0.0), (1454, 0.0), (1455, 0.0), (1456, 0.0), (1457, 0.0), (1458, 0.0), (1459, 0.0), (1460, 0.057577309288515476), (1461, 0.020448012443781895), (1462, 0.0), (1463, 0.008618584480541449), (1464, 0.012960574296865921), (1465, 0.043027212767624286), (1466, 0.010244494223482524), (1467, 0.0), (1468, 0.0), (1469, 0.0), (1470, 0.0), (1471, 0.0), (1472, 0.0), (1473, 0.061012256461934505), (1474, 0.025041784620111737), (1475, 0.0), (1476, 0.0), (1477, 0.04723108982921747), (1478, 0.0), (1479, 0.0), (1480, 0.0), (1481, 0.026466434940820984), (1482, 0.02058034748958725), (1483, 0.0), (1484, 0.02791648520299457), (1485, 0.0262736525743086), (1486, 0.0), (1487, 0.0086442122636988), (1488, 0.0), (1489, 0.0), (1490, 0.0), (1491, 0.0), (1492, 0.012411766119908312), (1493, 0.0), (1494, 0.0), (1495, 0.022045413461975766), (1496, 0.03637383730172694), (1497, 0.0), (1498, 0.0), (1499, 0.0), (1500, 0.0), (1501, 0.0), (1502, 0.0), (1503, 0.0), (1504, 0.0), (1505, 0.06252464146879214), (1506, 0.0), (1507, 0.0), (1508, 0.0), (1509, 0.0), (1510, 0.0), (1511, 0.0), (1512, 0.0), (1513, 0.008287113519767703), (1514, 0.0), (1515, 0.0), (1516, 0.0), (1517, 0.0), (1518, 0.0), (1519, 0.0), (1520, 0.009377553414870916), (1521, 0.02443325918187066), (1522, 0.009061977889323922), (1523, 0.06180591797518594), (1524, 0.06583431043496972), (1525, 0.009415339286571754), (1526, 0.0), (1527, 0.0), (1528, 0.0), (1529, 0.0430115533579685), (1530, 0.0), (1531, 0.009691933974445946), (1532, 0.013607527159425686), (1533, 0.0), (1534, 0.0), (1535, 0.0), (1536, 0.0), (1537, 0.01917370952964), (1538, 0.023188211104645112), (1539, 0.007775684423620918), (1540, 0.0), (1541, 0.00946767590156396), (1542, 0.0), (1543, 0.0), (1544, 0.0), (1545, 0.0), (1546, 0.0), (1547, 0.0), (1548, 0.0), (1549, 0.0), (1550, 0.0), (1551, 0.0), (1552, 0.0342944053232994), (1553, 0.0), (1554, 0.0), (1555, 0.036870375359745466), (1556, 0.0), (1557, 0.09723971771336962), (1558, 0.0), (1559, 0.0), (1560, 0.0), (1561, 0.012736203655959451), (1562, 0.0), (1563, 0.0), (1564, 0.021806036604390268), (1565, 0.0), (1566, 0.0), (1567, 0.0), (1568, 0.0), (1569, 0.0), (1570, 0.02834067527757322), (1571, 0.0), (1572, 0.0), (1573, 0.0), (1574, 0.030552850683440238), (1575, 0.0), (1576, 0.0), (1577, 0.0), (1578, 0.04084802357184232), (1579, 0.0), (1580, 0.0), (1581, 0.0075023480441174135), (1582, 0.0), (1583, 0.0), (1584, 0.0), (1585, 0.0), (1586, 0.06356258509806786), (1587, 0.0), (1588, 0.0), (1589, 0.0), (1590, 0.0), (1591, 0.0), (1592, 0.0), (1593, 0.0), (1594, 0.013935688904966567), (1595, 0.0), (1596, 0.0), (1597, 0.0), (1598, 0.008302371587057817), (1599, 0.0), (1600, 0.025179021851302795), (1601, 0.027683989010757366), (1602, 0.04306254696478133), (1603, 0.0), (1604, 0.008865695569574368), (1605, 0.0), (1606, 0.03668617137333023), (1607, 0.024382105308633713), (1608, 0.0), (1609, 0.03184320757834399), (1610, 0.008155417320303655), (1611, 0.0), (1612, 0.0), (1613, 0.009239699131225989), (1614, 0.0), (1615, 0.03577048741985429), (1616, 0.0), (1617, 0.0), (1618, 0.0), (1619, 0.0), (1620, 0.0), (1621, 0.013242843067113616), (1622, 0.0), (1623, 0.0), (1624, 0.0), (1625, 0.011904075196990006), (1626, 0.0), (1627, 0.0), (1628, 0.0), (1629, 0.0), (1630, 0.0), (1631, 0.0), (1632, 0.0), (1633, 0.0), (1634, 0.026437333499754623), (1635, 0.0), (1636, 0.0), (1637, 0.0), (1638, 0.0), (1639, 0.0), (1640, 0.025159138741776693), (1641, 0.0), (1642, 0.0), (1643, 0.024868599798565084), (1644, 0.0), (1645, 0.0), (1646, 0.06586732419345252), (1647, 0.0340217799738426), (1648, 0.0), (1649, 0.0), (1650, 0.0), (1651, 0.0), (1652, 0.0), (1653, 0.0), (1654, 0.0), (1655, 0.0), (1656, 0.0), (1657, 0.0), (1658, 0.0), (1659, 0.0), (1660, 0.0), (1661, 0.0), (1662, 0.0), (1663, 0.013145863028941314), (1664, 0.0446437793662528), (1665, 0.0), (1666, 0.0), (1667, 0.012901007108882423), (1668, 0.0), (1669, 0.0), (1670, 0.008680157594607232), (1671, 0.0), (1672, 0.0), (1673, 0.03903601557594791), (1674, 0.0), (1675, 0.0), (1676, 0.00794357309274134), (1677, 0.0), (1678, 0.0), (1679, 0.0), (1680, 0.0), (1681, 0.0), (1682, 0.0), (1683, 0.008455422117623936), (1684, 0.007887111860933682), (1685, 0.0), (1686, 0.0), (1687, 0.0), (1688, 0.0), (1689, 0.0), (1690, 0.008433445643776374), (1691, 0.0), (1692, 0.0), (1693, 0.0), (1694, 0.0), (1695, 0.007421909181014283), (1696, 0.0), (1697, 0.008844348519942735), (1698, 0.02986273381546834), (1699, 0.0), (1700, 0.025420861184935663), (1701, 0.0), (1702, 0.0), (1703, 0.03515163376393782), (1704, 0.025125867313934996), (1705, 0.0), (1706, 0.02449462128576873), (1707, 0.0), (1708, 0.0), (1709, 0.0), (1710, 0.0), (1711, 0.02543707930272148), (1712, 0.021085583408979133), (1713, 0.008527787377672357), (1714, 0.06869645938171855), (1715, 0.05431465681276025), (1716, 0.0), (1717, 0.0), (1718, 0.0), (1719, 0.0), (1720, 0.041428019355983975), (1721, 0.0), (1722, 0.0), (1723, 0.0), (1724, 0.02778108517069856), (1725, 0.0), (1726, 0.04236178564483414), (1727, 0.0), (1728, 0.0), (1729, 0.0), (1730, 0.0), (1731, 0.009341092648122962), (1732, 0.0), (1733, 0.0), (1734, 0.0), (1735, 0.0), (1736, 0.0), (1737, 0.04096372460950209), (1738, 0.0), (1739, 0.0), (1740, 0.0), (1741, 0.015643308357037002), (1742, 0.0), (1743, 0.0), (1744, 0.008540164770125695), (1745, 0.0), (1746, 0.0), (1747, 0.0), (1748, 0.0), (1749, 0.0), (1750, 0.0), (1751, 0.0), (1752, 0.0), (1753, 0.0), (1754, 0.0), (1755, 0.024020265763950367), (1756, 0.0), (1757, 0.0), (1758, 0.11685410254983417), (1759, 0.013381812942422803), (1760, 0.0), (1761, 0.0), (1762, 0.01318686257912209), (1763, 0.0), (1764, 0.0), (1765, 0.0), (1766, 0.009341300447380883), (1767, 0.0), (1768, 0.013916387730879075), (1769, 0.023948435356579735), (1770, 0.0), (1771, 0.009362592057936844), (1772, 0.0), (1773, 0.0), (1774, 0.01234820605521898), (1775, 0.0), (1776, 0.0), (1777, 0.0), (1778, 0.013306138307482498), (1779, 0.0), (1780, 0.0), (1781, 0.0), (1782, 0.0), (1783, 0.008712602837687931), (1784, 0.016572402379625272), (1785, 0.0), (1786, 0.0), (1787, 0.0), (1788, 0.02826503981617511), (1789, 0.0), (1790, 0.0), (1791, 0.0), (1792, 0.0), (1793, 0.0), (1794, 0.03128953689234656), (1795, 0.0), (1796, 0.0), (1797, 0.0), (1798, 0.0), (1799, 0.0), (1800, 0.02220826342876374), (1801, 0.0), (1802, 0.0), (1803, 0.0), (1804, 0.008665445803846214), (1805, 0.0), (1806, 0.0), (1807, 0.0), (1808, 0.0), (1809, 0.0), (1810, 0.09000062869543829), (1811, 0.0), (1812, 0.026554049028005417), (1813, 0.08075819757251977), (1814, 0.0), (1815, 0.0), (1816, 0.0), (1817, 0.0), (1818, 0.0), (1819, 0.0), (1820, 0.022789033664426313), (1821, 0.0), (1822, 0.0), (1823, 0.0), (1824, 0.0), (1825, 0.0), (1826, 0.0), (1827, 0.0), (1828, 0.0), (1829, 0.0), (1830, 0.0077100816334633535), (1831, 0.0), (1832, 0.0), (1833, 0.012169424385341176), (1834, 0.11247517789619209), (1835, 0.026062660497102895), (1836, 0.02713255610479358), (1837, 0.02534202997962888), (1838, 0.0), (1839, 0.00856492236836594), (1840, 0.0), (1841, 0.024575964446751558), (1842, 0.03847678886455191), (1843, 0.03111745901281544), (1844, 0.036980943666570995), (1845, 0.04377725352865039), (1846, 0.02195971385064809), (1847, 0.0), (1848, 0.0), (1849, 0.009053949807956272), (1850, 0.015606696956282877), (1851, 0.0), (1852, 0.0), (1853, 0.0), (1854, 0.00871605335043242), (1855, 0.0), (1856, 0.0), (1857, 0.0), (1858, 0.0), (1859, 0.0), (1860, 0.0), (1861, 0.0481129765439614), (1862, 0.11326208807211341), (1863, 0.00829496340034633), (1864, 0.02561914308396431), (1865, 0.0), (1866, 0.030357542518380434), (1867, 0.0), (1868, 0.031057798126325482), (1869, 0.0), (1870, 0.0), (1871, 0.0), (1872, 0.0), (1873, 0.0), (1874, 0.0), (1875, 0.008290697540412314), (1876, 0.0), (1877, 0.01283851547961735), (1878, 0.008777862645283461), (1879, 0.0), (1880, 0.0), (1881, 0.0), (1882, 0.0), (1883, 0.01700031660873239), (1884, 0.0), (1885, 0.0), (1886, 0.04380523798922104), (1887, 0.0), (1888, 0.06834859697338488), (1889, 0.009713963621282897), (1890, 0.0), (1891, 0.025207884265464126), (1892, 0.0), (1893, 0.0), (1894, 0.0), (1895, 0.0), (1896, 0.0), (1897, 0.0), (1898, 0.00892640550857042), (1899, 0.0), (1900, 0.0), (1901, 0.0), (1902, 0.02211627605200182), (1903, 0.0), (1904, 0.0), (1905, 0.0), (1906, 0.0), (1907, 0.025775726899178442), (1908, 0.0), (1909, 0.0), (1910, 0.0), (1911, 0.00981646995325247), (1912, 0.012210133863257349), (1913, 0.008734326809660603), (1914, 0.0), (1915, 0.0), (1916, 0.0), (1917, 0.0), (1918, 0.0), (1919, 0.0), (1920, 0.0), (1921, 0.0), (1922, 0.0), (1923, 0.0), (1924, 0.0), (1925, 0.0), (1926, 0.0), (1927, 0.056522430589746445), (1928, 0.0), (1929, 0.0), (1930, 0.0), (1931, 0.0), (1932, 0.0077068498419982714), (1933, 0.0), (1934, 0.0), (1935, 0.01304950516286126), (1936, 0.00923430096583903), (1937, 0.0), (1938, 0.0), (1939, 0.0), (1940, 0.0), (1941, 0.0), (1942, 0.0), (1943, 0.008323825178558389), (1944, 0.0), (1945, 0.0), (1946, 0.0), (1947, 0.0), (1948, 0.0), (1949, 0.0), (1950, 0.05363445649698935), (1951, 0.013644848160312561), (1952, 0.0), (1953, 0.03803771868417427), (1954, 0.02427906450650481), (1955, 0.008710821545221056), (1956, 0.0), (1957, 0.0), (1958, 0.02135399968833955), (1959, 0.06310991768570037), (1960, 0.0), (1961, 0.009423923911973496), (1962, 0.0), (1963, 0.013610249855907766), (1964, 0.0), (1965, 0.0), (1966, 0.0), (1967, 0.0), (1968, 0.0), (1969, 0.0), (1970, 0.0), (1971, 0.0), (1972, 0.0), (1973, 0.012523203279333206), (1974, 0.0), (1975, 0.0), (1976, 0.0), (1977, 0.0), (1978, 0.0), (1979, 0.0338985329907946), (1980, 0.0), (1981, 0.0), (1982, 0.0), (1983, 0.0), (1984, 0.0), (1985, 0.0), (1986, 0.0), (1987, 0.0), (1988, 0.038553234877863156), (1989, 0.034913368062906416), (1990, 0.0), (1991, 0.0), (1992, 0.0), (1993, 0.0), (1994, 0.0), (1995, 0.0), (1996, 0.0), (1997, 0.0), (1998, 0.0), (1999, 0.026661671446548456), (2000, 0.0), (2001, 0.0), (2002, 0.0), (2003, 0.0), (2004, 0.0), (2005, 0.030426028581429045), (2006, 0.00834988879491435), (2007, 0.0), (2008, 0.0), (2009, 0.014138360718624683), (2010, 0.0), (2011, 0.0), (2012, 0.0), (2013, 0.0), (2014, 0.0), (2015, 0.0), (2016, 0.07453166988577732), (2017, 0.0), (2018, 0.0), (2019, 0.022274449749765165), (2020, 0.0), (2021, 0.0), (2022, 0.0), (2023, 0.0), (2024, 0.0), (2025, 0.0), (2026, 0.0), (2027, 0.0), (2028, 0.0), (2029, 0.02660173335008959), (2030, 0.02356873342336919), (2031, 0.0), (2032, 0.0), (2033, 0.0), (2034, 0.0), (2035, 0.0), (2036, 0.0), (2037, 0.0), (2038, 0.013059769608209905), (2039, 0.0), (2040, 0.12314672241926175), (2041, 0.02440079351202117), (2042, 0.0), (2043, 0.0), (2044, 0.0), (2045, 0.0), (2046, 0.00816973401197172), (2047, 0.0), (2048, 0.0), (2049, 0.008117544633340242), (2050, 0.008454564139851913), (2051, 0.0), (2052, 0.007346214890342776), (2053, 0.0), (2054, 0.0), (2055, 0.008053078031215235), (2056, 0.0), (2057, 0.0), (2058, 0.0), (2059, 0.021841550285364886), (2060, 0.0), (2061, 0.05918370376246418), (2062, 0.0), (2063, 0.0), (2064, 0.0), (2065, 0.0), (2066, 0.0), (2067, 0.0), (2068, 0.0), (2069, 0.0), (2070, 0.0), (2071, 0.0), (2072, 0.0), (2073, 0.0), (2074, 0.0), (2075, 0.0), (2076, 0.0), (2077, 0.0), (2078, 0.0), (2079, 0.0), (2080, 0.0), (2081, 0.0), (2082, 0.009546497683834441), (2083, 0.0), (2084, 0.0), (2085, 0.0), (2086, 0.008776605837690864), (2087, 0.007162846978597496), (2088, 0.0), (2089, 0.0), (2090, 0.0), (2091, 0.026307091798205416), (2092, 0.0), (2093, 0.0), (2094, 0.0), (2095, 0.021786784533575732), (2096, 0.0), (2097, 0.03897131808677283), (2098, 0.03488587414658816), (2099, 0.008853086777608916), (2100, 0.008068823002578128), (2101, 0.0), (2102, 0.032064489889748846), (2103, 0.0), (2104, 0.0), (2105, 0.0), (2106, 0.0), (2107, 0.0), (2108, 0.0), (2109, 0.013733501128421432), (2110, 0.0), (2111, 0.010249621470546942), (2112, 0.0), (2113, 0.04586417048327766), (2114, 0.0), (2115, 0.0), (2116, 0.013191898858104945), (2117, 0.022306435069582943), (2118, 0.0), (2119, 0.0), (2120, 0.0), (2121, 0.03423968402600469), (2122, 0.0), (2123, 0.0), (2124, 0.0), (2125, 0.008914895418516448), (2126, 0.0), (2127, 0.0), (2128, 0.0), (2129, 0.0), (2130, 0.0), (2131, 0.0), (2132, 0.0), (2133, 0.0), (2134, 0.0), (2135, 0.08008386213500707), (2136, 0.0), (2137, 0.0), (2138, 0.05136012104727516), (2139, 0.0), (2140, 0.0), (2141, 0.0), (2142, 0.0), (2143, 0.012827258174109794), (2144, 0.013902049482555717), (2145, 0.06246925467663955), (2146, 0.0), (2147, 0.0), (2148, 0.0), (2149, 0.0), (2150, 0.022828697103996508), (2151, 0.0), (2152, 0.0), (2153, 0.024363132304478438), (2154, 0.01002848711686019), (2155, 0.0), (2156, 0.0), (2157, 0.02503396886271042), (2158, 0.0), (2159, 0.0), (2160, 0.0), (2161, 0.030426582997918516), (2162, 0.0), (2163, 0.0), (2164, 0.0), (2165, 0.0), (2166, 0.0), (2167, 0.0), (2168, 0.0), (2169, 0.0), (2170, 0.0), (2171, 0.025179552014037196), (2172, 0.0), (2173, 0.0), (2174, 0.0), (2175, 0.0), (2176, 0.007971303241250014), (2177, 0.0), (2178, 0.0), (2179, 0.024559635407206293), (2180, 0.0), (2181, 0.0), (2182, 0.0), (2183, 0.03398575786569294), (2184, 0.026667777108521216), (2185, 0.0), (2186, 0.0), (2187, 0.0), (2188, 0.0), (2189, 0.0), (2190, 0.04231185399011138), (2191, 0.0), (2192, 0.01245805156150304), (2193, 0.0), (2194, 0.0), (2195, 0.0), (2196, 0.0), (2197, 0.0), (2198, 0.009161148247804148), (2199, 0.010206890063045685), (2200, 0.012771093106944392), (2201, 0.0260855739303861), (2202, 0.0), (2203, 0.0), (2204, 0.0), (2205, 0.0), (2206, 0.0), (2207, 0.022770381099022022), (2208, 0.0), (2209, 0.0), (2210, 0.009779641408146212), (2211, 0.011470008238803685), (2212, 0.026126553569461988), (2213, 0.0), (2214, 0.0), (2215, 0.0), (2216, 0.0), (2217, 0.0), (2218, 0.0), (2219, 0.0), (2220, 0.0), (2221, 0.0360400743305871), (2222, 0.0), (2223, 0.009497629962987421), (2224, 0.0), (2225, 0.0), (2226, 0.0), (2227, 0.0), (2228, 0.0), (2229, 0.0), (2230, 0.0), (2231, 0.0), (2232, 0.030230332196898694), (2233, 0.0), (2234, 0.013654398357661203), (2235, 0.0), (2236, 0.0), (2237, 0.0), (2238, 0.0), (2239, 0.0), (2240, 0.0), (2241, 0.0), (2242, 0.0), (2243, 0.0), (2244, 0.0), (2245, 0.013915443847523907), (2246, 0.0), (2247, 0.0), (2248, 0.0), (2249, 0.0), (2250, 0.0), (2251, 0.0), (2252, 0.0), (2253, 0.0), (2254, 0.0), (2255, 0.0), (2256, 0.0), (2257, 0.010560988285918917), (2258, 0.0), (2259, 0.009137141742288043), (2260, 0.00866804866512452), (2261, 0.010322371675704602), (2262, 0.008901185673907215), (2263, 0.027077649092891343), (2264, 0.08844605984931915), (2265, 0.007892220999233271), (2266, 0.0), (2267, 0.02745499578909586), (2268, 0.0), (2269, 0.011024334429003135), (2270, 0.0), (2271, 0.0), (2272, 0.0), (2273, 0.0), (2274, 0.0), (2275, 0.0), (2276, 0.0), (2277, 0.0), (2278, 0.0), (2279, 0.0), (2280, 0.046041244562522676), (2281, 0.011694607780596248), (2282, 0.0), (2283, 0.038430112923556026), (2284, 0.028246508692472277), (2285, 0.0), (2286, 0.0), (2287, 0.0), (2288, 0.0), (2289, 0.0), (2290, 0.07121739940850245), (2291, 0.0), (2292, 0.05820251398629986), (2293, 0.0), (2294, 0.03721125785794169), (2295, 0.0), (2296, 0.0), (2297, 0.0), (2298, 0.0), (2299, 0.056663614940488535), (2300, 0.0), (2301, 0.00926175081957396), (2302, 0.0), (2303, 0.02524036650900367), (2304, 0.0), (2305, 0.0), (2306, 0.0), (2307, 0.024741560648587388), (2308, 0.0), (2309, 0.0), (2310, 0.0), (2311, 0.0), (2312, 0.0), (2313, 0.0), (2314, 0.0), (2315, 0.0), (2316, 0.03826620513418549), (2317, 0.0390473314238625), (2318, 0.0), (2319, 0.009929763151623475), (2320, 0.0), (2321, 0.07879796627198858), (2322, 0.021932314877394693), (2323, 0.0), (2324, 0.0), (2325, 0.0), (2326, 0.0), (2327, 0.020826754661965607), (2328, 0.0), (2329, 0.03730687042966426), (2330, 0.0), (2331, 0.01301145025986501), (2332, 0.047271721762263776), (2333, 0.0), (2334, 0.0), (2335, 0.008983774855848566), (2336, 0.0), (2337, 0.009173272749311335), (2338, 0.0), (2339, 0.0), (2340, 0.0), (2341, 0.0), (2342, 0.0), (2343, 0.0), (2344, 0.0), (2345, 0.0), (2346, 0.0), (2347, 0.0), (2348, 0.0), (2349, 0.0), (2350, 0.0), (2351, 0.010430682849106677), (2352, 0.03431385688910905), (2353, 0.0), (2354, 0.0), (2355, 0.0), (2356, 0.0), (2357, 0.0), (2358, 0.00970194067273416), (2359, 0.0), (2360, 0.0), (2361, 0.0), (2362, 0.0), (2363, 0.0), (2364, 0.007698484680765083), (2365, 0.05480316267955726), (2366, 0.0), (2367, 0.008944289610771622), (2368, 0.0), (2369, 0.0), (2370, 0.06300404383586228), (2371, 0.009245509530355283), (2372, 0.03858137215096299), (2373, 0.0), (2374, 0.0), (2375, 0.0), (2376, 0.0), (2377, 0.0), (2378, 0.0), (2379, 0.011257038523754048), (2380, 0.0), (2381, 0.009600629248079754), (2382, 0.0), (2383, 0.0), (2384, 0.0), (2385, 0.0), (2386, 0.0), (2387, 0.0), (2388, 0.0), (2389, 0.007608619118575353), (2390, 0.02214397369875067), (2391, 0.0), (2392, 0.03172665695645517), (2393, 0.07462784830948947), (2394, 0.0), (2395, 0.0), (2396, 0.0), (2397, 0.0), (2398, 0.011745379887914813), (2399, 0.0), (2400, 0.0), (2401, 0.0), (2402, 0.012263912401615744), (2403, 0.0), (2404, 0.0), (2405, 0.012725596323396548), (2406, 0.06782258069348668), (2407, 0.0), (2408, 0.02448568829880986), (2409, 0.0), (2410, 0.0), (2411, 0.031320653761774495), (2412, 0.0), (2413, 0.0), (2414, 0.024782428189797118), (2415, 0.0), (2416, 0.0), (2417, 0.0), (2418, 0.0), (2419, 0.0), (2420, 0.0), (2421, 0.009953645520756435), (2422, 0.0), (2423, 0.05364923359333168), (2424, 0.0), (2425, 0.0), (2426, 0.0), (2427, 0.0), (2428, 0.0), (2429, 0.0), (2430, 0.009102631785313873), (2431, 0.0), (2432, 0.0), (2433, 0.02173658310207526), (2434, 0.0), (2435, 0.00911707167809203), (2436, 0.0), (2437, 0.0), (2438, 0.0), (2439, 0.0), (2440, 0.027669566769604175), (2441, 0.012158717228749066), (2442, 0.0), (2443, 0.06448356900467683), (2444, 0.0), (2445, 0.0), (2446, 0.0), (2447, 0.0), (2448, 0.010156999967474118), (2449, 0.011230142223823422), (2450, 0.030532355327701724), (2451, 0.026701138373504157), (2452, 0.0), (2453, 0.0), (2454, 0.0), (2455, 0.0), (2456, 0.010027401667114678), (2457, 0.0), (2458, 0.0), (2459, 0.0), (2460, 0.011920147743180709), (2461, 0.008526916301934764), (2462, 0.02416739418542835), (2463, 0.0), (2464, 0.0), (2465, 0.0), (2466, 0.00852925077567044), (2467, 0.0), (2468, 0.0), (2469, 0.0), (2470, 0.0), (2471, 0.0), (2472, 0.0647116758862839), (2473, 0.030065843742319805), (2474, 0.0), (2475, 0.0), (2476, 0.03701615466054302), (2477, 0.0), (2478, 0.0), (2479, 0.015633083881657475), (2480, 0.0), (2481, 0.0), (2482, 0.0), (2483, 0.0), (2484, 0.03408560773820228), (2485, 0.009527744296459884), (2486, 0.0), (2487, 0.0), (2488, 0.0), (2489, 0.0), (2490, 0.0), (2491, 0.0), (2492, 0.0), (2493, 0.03551898695513756), (2494, 0.0), (2495, 0.0), (2496, 0.0), (2497, 0.0), (2498, 0.0), (2499, 0.0), (2500, 0.0), (2501, 0.0), (2502, 0.050746937683873984), (2503, 0.0), (2504, 0.026486414248099513), (2505, 0.0), (2506, 0.0), (2507, 0.035736167553552925), (2508, 0.0), (2509, 0.03273423810464245), (2510, 0.03156266522724101), (2511, 0.0), (2512, 0.0), (2513, 0.0), (2514, 0.0), (2515, 0.0), (2516, 0.0252806204584723), (2517, 0.007827167012266944), (2518, 0.0), (2519, 0.0), (2520, 0.0), (2521, 0.030715662210769032), (2522, 0.0), (2523, 0.0), (2524, 0.0), (2525, 0.008921285296210705), (2526, 0.0), (2527, 0.0), (2528, 0.01464569675862087), (2529, 0.0), (2530, 0.01053087994069752), (2531, 0.009938395865597837), (2532, 0.0427150555101546), (2533, 0.0), (2534, 0.0), (2535, 0.008961440071365593), (2536, 0.0), (2537, 0.0), (2538, 0.0), (2539, 0.02165432174731389), (2540, 0.025076348557896293), (2541, 0.0), (2542, 0.0), (2543, 0.0), (2544, 0.008223420398431061), (2545, 0.0), (2546, 0.0), (2547, 0.0), (2548, 0.0), (2549, 0.008055550504544798), (2550, 0.0), (2551, 0.0), (2552, 0.0), (2553, 0.013279013179283039), (2554, 0.009104509423633566), (2555, 0.009670497465334198), (2556, 0.0), (2557, 0.0), (2558, 0.0), (2559, 0.0), (2560, 0.0), (2561, 0.0), (2562, 0.008955534170214084), (2563, 0.0), (2564, 0.0), (2565, 0.0), (2566, 0.0), (2567, 0.0), (2568, 0.0777023068843625), (2569, 0.0), (2570, 0.0), (2571, 0.0), (2572, 0.0), (2573, 0.0), (2574, 0.01550554942187601), (2575, 0.0), (2576, 0.0), (2577, 0.10039880844997542), (2578, 0.0), (2579, 0.02254519123750845), (2580, 0.0), (2581, 0.0), (2582, 0.010024596606397465), (2583, 0.025807307917118515), (2584, 0.04928102506337727), (2585, 0.0), (2586, 0.0), (2587, 0.0), (2588, 0.0), (2589, 0.025283338826483207), (2590, 0.008900975949837594), (2591, 0.009608232993199864), (2592, 0.009469863013805738), (2593, 0.008856662536030152), (2594, 0.0), (2595, 0.016233497032991626), (2596, 0.0), (2597, 0.012981506795470481), (2598, 0.0), (2599, 0.0), (2600, 0.0), (2601, 0.0), (2602, 0.0), (2603, 0.008316347950572147), (2604, 0.010401425626225735), (2605, 0.026009967349432037), (2606, 0.0), (2607, 0.0), (2608, 0.0), (2609, 0.0), (2610, 0.0), (2611, 0.0), (2612, 0.00892478397834762), (2613, 0.0), (2614, 0.008910116526062219), (2615, 0.08890711499143047), (2616, 0.0076635064080656885), (2617, 0.008851093897325578), (2618, 0.0), (2619, 0.0), (2620, 0.0), (2621, 0.0), (2622, 0.0), (2623, 0.07603369039592726), (2624, 0.0), (2625, 0.0), (2626, 0.0), (2627, 0.0), (2628, 0.0), (2629, 0.027625515650935704), (2630, 0.0), (2631, 0.0), (2632, 0.0), (2633, 0.0), (2634, 0.0), (2635, 0.0), (2636, 0.0), (2637, 0.010845371118217127), (2638, 0.0), (2639, 0.0), (2640, 0.0), (2641, 0.0), (2642, 0.0), (2643, 0.010463636020625677), (2644, 0.02333894975098209), (2645, 0.0), (2646, 0.00857933554739247), (2647, 0.10224224662337375), (2648, 0.0), (2649, 0.041602851205966934), (2650, 0.0), (2651, 0.0), (2652, 0.025900979620657745), (2653, 0.037536021959875036), (2654, 0.07417337580290585), (2655, 0.0), (2656, 0.021778411777788997), (2657, 0.0), (2658, 0.0), (2659, 0.0), (2660, 0.0), (2661, 0.03312039600574587), (2662, 0.03287528878464591), (2663, 0.013747576837641816), (2664, 0.031821897508800795), (2665, 0.0), (2666, 0.021714709788331486), (2667, 0.03699838873187966), (2668, 0.038205708149996964), (2669, 0.0), (2670, 0.0), (2671, 0.040842378144123864), (2672, 0.010395614559609065), (2673, 0.0), (2674, 0.0), (2675, 0.0), (2676, 0.0), (2677, 0.0), (2678, 0.0), (2679, 0.0), (2680, 0.0), (2681, 0.0), (2682, 0.07697589990713537), (2683, 0.022951498800987097), (2684, 0.0), (2685, 0.013698899891372752), (2686, 0.0), (2687, 0.0), (2688, 0.022153343685531346), (2689, 0.0), (2690, 0.0), (2691, 0.0), (2692, 0.0), (2693, 0.0), (2694, 0.0), (2695, 0.0), (2696, 0.0), (2697, 0.0), (2698, 0.0), (2699, 0.0), (2700, 0.0), (2701, 0.0), (2702, 0.0), (2703, 0.0), (2704, 0.04807373042671587), (2705, 0.0), (2706, 0.0), (2707, 0.0), (2708, 0.02297513147764435), (2709, 0.0), (2710, 0.010083710344965626), (2711, 0.03932390107213649), (2712, 0.0), (2713, 0.04104619926756482), (2714, 0.0), (2715, 0.01859212302403284), (2716, 0.0), (2717, 0.02435789561544239), (2718, 0.0), (2719, 0.035286684062770746), (2720, 0.0), (2721, 0.009328036549072516), (2722, 0.0), (2723, 0.02228037376065706), (2724, 0.0), (2725, 0.0), (2726, 0.0), (2727, 0.0), (2728, 0.0), (2729, 0.02582997990352698), (2730, 0.0), (2731, 0.0), (2732, 0.013349978861341106), (2733, 0.02615905208768422), (2734, 0.0), (2735, 0.0), (2736, 0.0), (2737, 0.0), (2738, 0.0), (2739, 0.0), (2740, 0.0), (2741, 0.020019096431026236), (2742, 0.0), (2743, 0.0), (2744, 0.0), (2745, 0.0), (2746, 0.0), (2747, 0.0), (2748, 0.0), (2749, 0.0), (2750, 0.0), (2751, 0.0), (2752, 0.039220501229178764), (2753, 0.0), (2754, 0.0), (2755, 0.0), (2756, 0.01154433629982426), (2757, 0.0), (2758, 0.009336787343590534), (2759, 0.0), (2760, 0.03722305271111251), (2761, 0.0), (2762, 0.0), (2763, 0.00966722434238725), (2764, 0.0), (2765, 0.0), (2766, 0.0), (2767, 0.0), (2768, 0.0), (2769, 0.0), (2770, 0.007903126815097665), (2771, 0.0), (2772, 0.009511424569933796), (2773, 0.0), (2774, 0.0), (2775, 0.0), (2776, 0.0), (2777, 0.0), (2778, 0.0), (2779, 0.0), (2780, 0.0), (2781, 0.027231877818727473), (2782, 0.04118428131017257), (2783, 0.03220733226501674), (2784, 0.0), (2785, 0.0), (2786, 0.0), (2787, 0.0), (2788, 0.0), (2789, 0.01231158061862529), (2790, 0.0), (2791, 0.0), (2792, 0.0), (2793, 0.0), (2794, 0.0), (2795, 0.0), (2796, 0.026039319718589006), (2797, 0.0), (2798, 0.0), (2799, 0.009865239037111928), (2800, 0.0), (2801, 0.0), (2802, 0.0), (2803, 0.0), (2804, 0.0), (2805, 0.0), (2806, 0.05474346048276513), (2807, 0.0), (2808, 0.0), (2809, 0.06062998235008102), (2810, 0.010644330797987349), (2811, 0.0), (2812, 0.008645031891451377), (2813, 0.023776852512072174), (2814, 0.009503787282344175), (2815, 0.0), (2816, 0.0), (2817, 0.0), (2818, 0.0), (2819, 0.0), (2820, 0.0), (2821, 0.0), (2822, 0.015514960575100885), (2823, 0.0), (2824, 0.0), (2825, 0.0), (2826, 0.0), (2827, 0.0), (2828, 0.0), (2829, 0.0), (2830, 0.0), (2831, 0.026403535846731732), (2832, 0.0), (2833, 0.0), (2834, 0.0), (2835, 0.008784627185750583), (2836, 0.0), (2837, 0.0), (2838, 0.0), (2839, 0.024487456178486446), (2840, 0.0), (2841, 0.0), (2842, 0.0), (2843, 0.0), (2844, 0.008715454440486959), (2845, 0.0), (2846, 0.0), (2847, 0.0), (2848, 0.0), (2849, 0.0), (2850, 0.0), (2851, 0.011652284452729419), (2852, 0.0), (2853, 0.10742253046406408), (2854, 0.0), (2855, 0.0), (2856, 0.023237718725203523), (2857, 0.059004790781001806), (2858, 0.0), (2859, 0.0), (2860, 0.0), (2861, 0.0), (2862, 0.0), (2863, 0.0), (2864, 0.03688134251417402), (2865, 0.0), (2866, 0.0), (2867, 0.008293782433752684), (2868, 0.0), (2869, 0.0), (2870, 0.0), (2871, 0.0), (2872, 0.0), (2873, 0.01168365382583938), (2874, 0.0), (2875, 0.0), (2876, 0.0), (2877, 0.0), (2878, 0.0), (2879, 0.0), (2880, 0.0), (2881, 0.0), (2882, 0.0), (2883, 0.0), (2884, 0.0), (2885, 0.016076159250070436), (2886, 0.0), (2887, 0.00807945903351854), (2888, 0.0), (2889, 0.0), (2890, 0.0), (2891, 0.0), (2892, 0.0), (2893, 0.02578616877342408), (2894, 0.0), (2895, 0.0), (2896, 0.008899326863791059), (2897, 0.04254480021391165), (2898, 0.0), (2899, 0.0), (2900, 0.0), (2901, 0.009966500406961218), (2902, 0.0), (2903, 0.0), (2904, 0.0), (2905, 0.0), (2906, 0.0), (2907, 0.0), (2908, 0.0), (2909, 0.009674577051741814), (2910, 0.0), (2911, 0.0), (2912, 0.0), (2913, 0.020758515511196778), (2914, 0.0), (2915, 0.01360404896767942), (2916, 0.009321881374260179), (2917, 0.0), (2918, 0.0), (2919, 0.0), (2920, 0.0), (2921, 0.0), (2922, 0.0), (2923, 0.0), (2924, 0.0), (2925, 0.0), (2926, 0.0), (2927, 0.025842545003323225), (2928, 0.0), (2929, 0.0), (2930, 0.0), (2931, 0.009206787877839283), (2932, 0.0), (2933, 0.0), (2934, 0.0), (2935, 0.0), (2936, 0.0), (2937, 0.0), (2938, 0.07650559459896332), (2939, 0.0), (2940, 0.0), (2941, 0.0), (2942, 0.0), (2943, 0.0), (2944, 0.03482519095612721), (2945, 0.0), (2946, 0.0), (2947, 0.0), (2948, 0.0), (2949, 0.0), (2950, 0.0), (2951, 0.0), (2952, 0.0), (2953, 0.0), (2954, 0.0), (2955, 0.0), (2956, 0.0), (2957, 0.0), (2958, 0.0129073900783281), (2959, 0.0), (2960, 0.0), (2961, 0.0), (2962, 0.0), (2963, 0.0), (2964, 0.025579066404926774), (2965, 0.0), (2966, 0.0), (2967, 0.0), (2968, 0.0), (2969, 0.0), (2970, 0.0), (2971, 0.0), (2972, 0.008531919586351197), (2973, 0.0), (2974, 0.0), (2975, 0.0), (2976, 0.008040635727644133), (2977, 0.0), (2978, 0.0), (2979, 0.0), (2980, 0.05227567854652716), (2981, 0.0), (2982, 0.0), (2983, 0.0), (2984, 0.0), (2985, 0.0), (2986, 0.0), (2987, 0.0), (2988, 0.0), (2989, 0.0), (2990, 0.0), (2991, 0.0), (2992, 0.0), (2993, 0.0), (2994, 0.0), (2995, 0.0), (2996, 0.0), (2997, 0.0), (2998, 0.011773796281464034), (2999, 0.011739911766990088), (3000, 0.0), (3001, 0.0), (3002, 0.0), (3003, 0.009971365163458293), (3004, 0.0), (3005, 0.0), (3006, 0.0), (3007, 0.0), (3008, 0.0), (3009, 0.0), (3010, 0.0), (3011, 0.0), (3012, 0.0), (3013, 0.0), (3014, 0.0), (3015, 0.028245682477083763), (3016, 0.0), (3017, 0.0), (3018, 0.0), (3019, 0.0), (3020, 0.0), (3021, 0.0), (3022, 0.0), (3023, 0.0), (3024, 0.0), (3025, 0.0), (3026, 0.0), (3027, 0.0), (3028, 0.0), (3029, 0.0), (3030, 0.06887182088620036), (3031, 0.0), (3032, 0.0), (3033, 0.008485779651591141), (3034, 0.011953073601302062), (3035, 0.0), (3036, 0.0), (3037, 0.0), (3038, 0.0), (3039, 0.0), (3040, 0.0), (3041, 0.0), (3042, 0.0), (3043, 0.0), (3044, 0.0), (3045, 0.0), (3046, 0.0), (3047, 0.0), (3048, 0.0), (3049, 0.0), (3050, 0.0), (3051, 0.0), (3052, 0.0), (3053, 0.0), (3054, 0.0), (3055, 0.0), (3056, 0.0), (3057, 0.0), (3058, 0.007480770728359948), (3059, 0.0), (3060, 0.0), (3061, 0.0), (3062, 0.0), (3063, 0.0), (3064, 0.0), (3065, 0.016170154457813782), (3066, 0.008321436281357519), (3067, 0.0), (3068, 0.0), (3069, 0.0), (3070, 0.0), (3071, 0.0), (3072, 0.0), (3073, 0.0), (3074, 0.025719914727848545), (3075, 0.0), (3076, 0.0), (3077, 0.0), (3078, 0.010622457579966325), (3079, 0.0), (3080, 0.00891166630311131), (3081, 0.009545902902349471), (3082, 0.0), (3083, 0.0), (3084, 0.008854747360182396), (3085, 0.0), (3086, 0.0), (3087, 0.0), (3088, 0.0), (3089, 0.0100417181289231), (3090, 0.009389866164702708), (3091, 0.05074204279348876), (3092, 0.0), (3093, 0.0), (3094, 0.014791537586060067), (3095, 0.0), (3096, 0.008011366838428713), (3097, 0.0), (3098, 0.013401505838917508), (3099, 0.0), (3100, 0.0), (3101, 0.0), (3102, 0.0), (3103, 0.0), (3104, 0.013700889888865985), (3105, 0.0), (3106, 0.0), (3107, 0.0), (3108, 0.0), (3109, 0.0), (3110, 0.0), (3111, 0.0231345177817026), (3112, 0.0083827637257277), (3113, 0.0), (3114, 0.0), (3115, 0.0), (3116, 0.03639396689071371), (3117, 0.0), (3118, 0.0), (3119, 0.041149138464913755), (3120, 0.07393051421127611), (3121, 0.009263284316156273), (3122, 0.0), (3123, 0.0), (3124, 0.0), (3125, 0.0), (3126, 0.0), (3127, 0.0), (3128, 0.02906357214127797), (3129, 0.0), (3130, 0.0), (3131, 0.0), (3132, 0.0), (3133, 0.0), (3134, 0.0), (3135, 0.0), (3136, 0.0), (3137, 0.01026766586323166), (3138, 0.019474828349462604), (3139, 0.0), (3140, 0.0), (3141, 0.009156465460518706), (3142, 0.01803767046343302), (3143, 0.0), (3144, 0.042928393089373025), (3145, 0.0), (3146, 0.0), (3147, 0.0), (3148, 0.013470843169080877), (3149, 0.0), (3150, 0.0), (3151, 0.009335260685401647), (3152, 0.0), (3153, 0.0), (3154, 0.0), (3155, 0.0), (3156, 0.0), (3157, 0.0), (3158, 0.0), (3159, 0.0), (3160, 0.0), (3161, 0.0), (3162, 0.1404605508184782), (3163, 0.0), (3164, 0.0), (3165, 0.0), (3166, 0.0), (3167, 0.022981929008129332), (3168, 0.0), (3169, 0.0), (3170, 0.0), (3171, 0.0), (3172, 0.0), (3173, 0.012282077327506087), (3174, 0.0), (3175, 0.0), (3176, 0.0), (3177, 0.0), (3178, 0.0), (3179, 0.02563847921702703), (3180, 0.0), (3181, 0.1014648209134926), (3182, 0.0), (3183, 0.0), (3184, 0.0), (3185, 0.0), (3186, 0.0), (3187, 0.008723878998501048), (3188, 0.014957920502202111), (3189, 0.009292530683572537), (3190, 0.0), (3191, 0.0), (3192, 0.043916664960369986), (3193, 0.0), (3194, 0.0), (3195, 0.0), (3196, 0.0), (3197, 0.0), (3198, 0.0), (3199, 0.017053960934493236), (3200, 0.0), (3201, 0.056910507988780015), (3202, 0.0), (3203, 0.0), (3204, 0.011953463577286083), (3205, 0.0), (3206, 0.0), (3207, 0.0), (3208, 0.026683526840288244), (3209, 0.0), (3210, 0.0), (3211, 0.008103416333685266), (3212, 0.06983466018131337), (3213, 0.0), (3214, 0.0), (3215, 0.0), (3216, 0.021658129844815317), (3217, 0.03112962474054104), (3218, 0.0), (3219, 0.011430856044155497), (3220, 0.0), (3221, 0.010448071480399416), (3222, 0.0), (3223, 0.0), (3224, 0.0), (3225, 0.0612560783094787), (3226, 0.020238818724642504), (3227, 0.0), (3228, 0.04654651278793102), (3229, 0.033165712096422426), (3230, 0.0), (3231, 0.0), (3232, 0.0), (3233, 0.0), (3234, 0.011326755940816426), (3235, 0.0), (3236, 0.034731186155116604), (3237, 0.0), (3238, 0.012977666022247083), (3239, 0.0), (3240, 0.0), (3241, 0.0), (3242, 0.0), (3243, 0.023771306182246814), (3244, 0.0), (3245, 0.0), (3246, 0.0), (3247, 0.0), (3248, 0.0), (3249, 0.0), (3250, 0.0), (3251, 0.0), (3252, 0.0), (3253, 0.0), (3254, 0.0), (3255, 0.0), (3256, 0.030599081337022944), (3257, 0.055424555517594565), (3258, 0.0), (3259, 0.0), (3260, 0.05679719600102538), (3261, 0.0), (3262, 0.0), (3263, 0.030162895016607322), (3264, 0.0), (3265, 0.0), (3266, 0.0), (3267, 0.0), (3268, 0.0), (3269, 0.0), (3270, 0.0), (3271, 0.0), (3272, 0.02252481345535297), (3273, 0.0), (3274, 0.0), (3275, 0.0), (3276, 0.0), (3277, 0.0), (3278, 0.0), (3279, 0.0), (3280, 0.0), (3281, 0.0), (3282, 0.031061971516992557), (3283, 0.0), (3284, 0.0), (3285, 0.0), (3286, 0.03820818706151177), (3287, 0.022532272998621775), (3288, 0.05480901425991122), (3289, 0.0), (3290, 0.0), (3291, 0.0), (3292, 0.0), (3293, 0.0), (3294, 0.0), (3295, 0.0), (3296, 0.0), (3297, 0.010358290886481014), (3298, 0.025886427962529893), (3299, 0.0), (3300, 0.0), (3301, 0.0), (3302, 0.041966719099431074), (3303, 0.0), (3304, 0.0), (3305, 0.0), (3306, 0.0), (3307, 0.0), (3308, 0.037224406990092995), (3309, 0.0), (3310, 0.0), (3311, 0.0), (3312, 0.0), (3313, 0.0), (3314, 0.0), (3315, 0.0), (3316, 0.0), (3317, 0.024721968781140805), (3318, 0.0), (3319, 0.0), (3320, 0.0), (3321, 0.0), (3322, 0.0), (3323, 0.0), (3324, 0.0), (3325, 0.0), (3326, 0.027534682427171272), (3327, 0.0), (3328, 0.0), (3329, 0.0), (3330, 0.0), (3331, 0.0), (3332, 0.0), (3333, 0.0), (3334, 0.0), (3335, 0.009134730834879298), (3336, 0.0), (3337, 0.0), (3338, 0.0), (3339, 0.0), (3340, 0.0), (3341, 0.0), (3342, 0.0), (3343, 0.0), (3344, 0.0), (3345, 0.0), (3346, 0.042749580111819806), (3347, 0.0), (3348, 0.0), (3349, 0.0), (3350, 0.013599930287263034), (3351, 0.0), (3352, 0.0), (3353, 0.0), (3354, 0.0), (3355, 0.0), (3356, 0.0), (3357, 0.0), (3358, 0.0), (3359, 0.0), (3360, 0.009150872424855221), (3361, 0.0286762520368699), (3362, 0.0), (3363, 0.0), (3364, 0.0), (3365, 0.0), (3366, 0.022901788615220783), (3367, 0.0), (3368, 0.0), (3369, 0.0), (3370, 0.0), (3371, 0.0), (3372, 0.0), (3373, 0.03740174192662761), (3374, 0.0), (3375, 0.02712835101359851), (3376, 0.013019540983427641), (3377, 0.0), (3378, 0.0), (3379, 0.04549236130579586), (3380, 0.043952631779439894), (3381, 0.0), (3382, 0.0), (3383, 0.0), (3384, 0.0), (3385, 0.0), (3386, 0.0), (3387, 0.0), (3388, 0.0), (3389, 0.008473616492550866), (3390, 0.08370090735600105), (3391, 0.0), (3392, 0.017206074489335175), (3393, 0.0), (3394, 0.0), (3395, 0.026788763546448612), (3396, 0.0), (3397, 0.02010003820385706), (3398, 0.0), (3399, 0.0), (3400, 0.0), (3401, 0.0), (3402, 0.0), (3403, 0.024253694436220153), (3404, 0.0), (3405, 0.0), (3406, 0.0), (3407, 0.0), (3408, 0.0), (3409, 0.0), (3410, 0.0), (3411, 0.0), (3412, 0.0), (3413, 0.014396657384992443), (3414, 0.0), (3415, 0.0), (3416, 0.0), (3417, 0.0), (3418, 0.0), (3419, 0.0), (3420, 0.0), (3421, 0.030494796284756483), (3422, 0.03243905143076595), (3423, 0.0), (3424, 0.0), (3425, 0.0), (3426, 0.0), (3427, 0.0), (3428, 0.0), (3429, 0.0), (3430, 0.011638959653251197), (3431, 0.0), (3432, 0.0), (3433, 0.0), (3434, 0.0), (3435, 0.0), (3436, 0.0), (3437, 0.0), (3438, 0.0), (3439, 0.0), (3440, 0.0), (3441, 0.02999991520244128), (3442, 0.01406338548993655), (3443, 0.0), (3444, 0.027306798799404862), (3445, 0.0), (3446, 0.0), (3447, 0.0), (3448, 0.0), (3449, 0.0), (3450, 0.0), (3451, 0.0), (3452, 0.0), (3453, 0.0), (3454, 0.0), (3455, 0.0), (3456, 0.0), (3457, 0.023874335855739066), (3458, 0.0), (3459, 0.008498367973155849), (3460, 0.0), (3461, 0.0489973289075801), (3462, 0.0), (3463, 0.0), (3464, 0.0), (3465, 0.0), (3466, 0.0), (3467, 0.15765617839419646), (3468, 0.026533375956388414), (3469, 0.0), (3470, 0.0), (3471, 0.14905056549612455), (3472, 0.009734321875003572), (3473, 0.024989388790568404), (3474, 0.0), (3475, 0.0), (3476, 0.021416423985929384), (3477, 0.0), (3478, 0.0), (3479, 0.0), (3480, 0.0), (3481, 0.0192869499166174), (3482, 0.023468287289128253), (3483, 0.02770287023345093), (3484, 0.023589640786384782), (3485, 0.022757148650447045), (3486, 0.0), (3487, 0.0), (3488, 0.035875216657619564), (3489, 0.056488504582685416), (3490, 0.0), (3491, 0.0), (3492, 0.0), (3493, 0.0), (3494, 0.0), (3495, 0.0), (3496, 0.0), (3497, 0.0), (3498, 0.0), (3499, 0.0), (3500, 0.0), (3501, 0.012487968780002315), (3502, 0.0), (3503, 0.026325611908177303), (3504, 0.0), (3505, 0.02622080561187971), (3506, 0.04479603650317706), (3507, 0.0), (3508, 0.021645453528847378), (3509, 0.0), (3510, 0.0), (3511, 0.014534122919495952), (3512, 0.020077818599658213), (3513, 0.0), (3514, 0.0), (3515, 0.016136568057304967), (3516, 0.0), (3517, 0.028408678863981292), (3518, 0.0), (3519, 0.0), (3520, 0.0), (3521, 0.0), (3522, 0.0), (3523, 0.0), (3524, 0.00996144437111365), (3525, 0.0), (3526, 0.030895348083365616), (3527, 0.0), (3528, 0.0), (3529, 0.0), (3530, 0.0), (3531, 0.0), (3532, 0.0), (3533, 0.007357907487098337), (3534, 0.0), (3535, 0.0), (3536, 0.009190079961311192), (3537, 0.0), (3538, 0.0), (3539, 0.024993436013536124), (3540, 0.071358250335584), (3541, 0.021270345076007006), (3542, 0.0), (3543, 0.0), (3544, 0.0), (3545, 0.008490118231519671), (3546, 0.0), (3547, 0.0), (3548, 0.0), (3549, 0.0), (3550, 0.03087837349505826), (3551, 0.0), (3552, 0.0), (3553, 0.0), (3554, 0.009005207511148004), (3555, 0.024767475729794604), (3556, 0.0), (3557, 0.017303891249516087), (3558, 0.0), (3559, 0.0), (3560, 0.0), (3561, 0.0), (3562, 0.03594771243645965), (3563, 0.0), (3564, 0.0), (3565, 0.0), (3566, 0.0), (3567, 0.0), (3568, 0.0), (3569, 0.0), (3570, 0.0), (3571, 0.026407956209739365), (3572, 0.0), (3573, 0.0), (3574, 0.02062002559275209), (3575, 0.0), (3576, 0.0), (3577, 0.0), (3578, 0.0), (3579, 0.0), (3580, 0.0), (3581, 0.008659908687835805), (3582, 0.0), (3583, 0.0), (3584, 0.0), (3585, 0.0), (3586, 0.0), (3587, 0.0), (3588, 0.0), (3589, 0.0), (3590, 0.0), (3591, 0.0), (3592, 0.0), (3593, 0.0), (3594, 0.0), (3595, 0.0), (3596, 0.0), (3597, 0.0), (3598, 0.0), (3599, 0.0), (3600, 0.0), (3601, 0.0), (3602, 0.0), (3603, 0.0), (3604, 0.0), (3605, 0.0), (3606, 0.034081693040948546), (3607, 0.02686542437617828), (3608, 0.0), (3609, 0.0), (3610, 0.00935914239395605), (3611, 0.029664508259717934), (3612, 0.0), (3613, 0.00959368930246206), (3614, 0.0), (3615, 0.011992872542319791), (3616, 0.04256675274624358), (3617, 0.0), (3618, 0.0), (3619, 0.0), (3620, 0.009837456117364191), (3621, 0.07386104820046159), (3622, 0.0), (3623, 0.0), (3624, 0.0), (3625, 0.0), (3626, 0.010900397481569747), (3627, 0.018156630137344525), (3628, 0.026453265926902537), (3629, 0.0), (3630, 0.0), (3631, 0.04302852041415786), (3632, 0.04131576862004302), (3633, 0.02401652603000954), (3634, 0.0), (3635, 0.0), (3636, 0.0), (3637, 0.0), (3638, 0.0), (3639, 0.0), (3640, 0.0), (3641, 0.0), (3642, 0.0), (3643, 0.008956509053762711), (3644, 0.0), (3645, 0.0), (3646, 0.008650953075397972), (3647, 0.0), (3648, 0.0), (3649, 0.0), (3650, 0.008687836675634025), (3651, 0.0), (3652, 0.0), (3653, 0.04363369772546591), (3654, 0.0), (3655, 0.040757958035172015), (3656, 0.020612032483494826), (3657, 0.0), (3658, 0.0), (3659, 0.053550215068048065), (3660, 0.0704862543436571), (3661, 0.0), (3662, 0.06066712049197011), (3663, 0.0), (3664, 0.0), (3665, 0.05383946618689632), (3666, 0.0), (3667, 0.0), (3668, 0.0), (3669, 0.0), (3670, 0.0), (3671, 0.028931113565318974), (3672, 0.0), (3673, 0.02288738545969489), (3674, 0.0), (3675, 0.0), (3676, 0.0), (3677, 0.0), (3678, 0.0), (3679, 0.0), (3680, 0.0), (3681, 0.01485479856221945), (3682, 0.008339544605854152), (3683, 0.0), (3684, 0.0), (3685, 0.022340435181726057), (3686, 0.0), (3687, 0.0), (3688, 0.0), (3689, 0.0), (3690, 0.0), (3691, 0.0), (3692, 0.0), (3693, 0.0), (3694, 0.0), (3695, 0.05050697123309301), (3696, 0.013750511093075925), (3697, 0.0), (3698, 0.023342739617508674), (3699, 0.0), (3700, 0.0), (3701, 0.01024207623162307), (3702, 0.0), (3703, 0.0), (3704, 0.00847368044959332), (3705, 0.0), (3706, 0.0), (3707, 0.0), (3708, 0.0), (3709, 0.0), (3710, 0.0), (3711, 0.0), (3712, 0.0), (3713, 0.0), (3714, 0.0), (3715, 0.0), (3716, 0.007676557991178897), (3717, 0.0), (3718, 0.0), (3719, 0.0), (3720, 0.0), (3721, 0.0), (3722, 0.022292025169800188), (3723, 0.0), (3724, 0.0), (3725, 0.0), (3726, 0.0076232800411234255), (3727, 0.0), (3728, 0.008550935557152396), (3729, 0.0), (3730, 0.0), (3731, 0.0), (3732, 0.0), (3733, 0.0), (3734, 0.024173430486381264), (3735, 0.024158130513942812), (3736, 0.0), (3737, 0.023570113489338747), (3738, 0.0), (3739, 0.0), (3740, 0.0), (3741, 0.0), (3742, 0.0), (3743, 0.023808242281601128), (3744, 0.0), (3745, 0.0), (3746, 0.012875016171276453), (3747, 0.027263051535981346), (3748, 0.0), (3749, 0.0), (3750, 0.0), (3751, 0.00952275213566304), (3752, 0.009264037001598082), (3753, 0.008910095879800753), (3754, 0.0), (3755, 0.0), (3756, 0.0), (3757, 0.04034030146732705), (3758, 0.0), (3759, 0.0), (3760, 0.0), (3761, 0.0), (3762, 0.0), (3763, 0.0096925647357753), (3764, 0.0), (3765, 0.0), (3766, 0.028953076450141644), (3767, 0.0), (3768, 0.013433664713689715), (3769, 0.0), (3770, 0.0), (3771, 0.0), (3772, 0.06985332235329718), (3773, 0.0), (3774, 0.0), (3775, 0.0), (3776, 0.025189388578385232), (3777, 0.0), (3778, 0.0), (3779, 0.0), (3780, 0.0), (3781, 0.013443345615012963), (3782, 0.0), (3783, 0.0), (3784, 0.0), (3785, 0.007964720758353023), (3786, 0.0), (3787, 0.0), (3788, 0.0), (3789, 0.0), (3790, 0.026941504720189847), (3791, 0.0), (3792, 0.019659418732613062), (3793, 0.0), (3794, 0.030874073060542424), (3795, 0.0), (3796, 0.011059944301188762), (3797, 0.0), (3798, 0.0), (3799, 0.0), (3800, 0.0), (3801, 0.0), (3802, 0.0), (3803, 0.022648180334271108), (3804, 0.0), (3805, 0.02165376564501084), (3806, 0.0), (3807, 0.0), (3808, 0.05792358106652144), (3809, 0.012960174148386319), (3810, 0.0), (3811, 0.0), (3812, 0.04201106402184733), (3813, 0.010079614463514084), (3814, 0.0), (3815, 0.0), (3816, 0.027004671187501952), (3817, 0.027565590850396577), (3818, 0.0), (3819, 0.0), (3820, 0.0), (3821, 0.0), (3822, 0.009380010343268451), (3823, 0.0), (3824, 0.012904853341675862), (3825, 0.046189681050498886), (3826, 0.0), (3827, 0.0), (3828, 0.0), (3829, 0.08361660621241232), (3830, 0.029386615337795463), (3831, 0.0), (3832, 0.0), (3833, 0.0), (3834, 0.0), (3835, 0.008328842620966996), (3836, 0.0), (3837, 0.0), (3838, 0.04065895676849242), (3839, 0.013288644682059682), (3840, 0.0), (3841, 0.00846446420709577), (3842, 0.0), (3843, 0.024413129203171045), (3844, 0.0), (3845, 0.0), (3846, 0.009050879738190114), (3847, 0.024070413120125606), (3848, 0.0), (3849, 0.0), (3850, 0.0), (3851, 0.03288702173639032), (3852, 0.084925773282059), (3853, 0.0), (3854, 0.0), (3855, 0.0), (3856, 0.0), (3857, 0.0), (3858, 0.009111319063887562), (3859, 0.0), (3860, 0.0), (3861, 0.012162900417679519), (3862, 0.0), (3863, 0.011989432819344161), (3864, 0.03583623837047382), (3865, 0.02363597488728801), (3866, 0.0), (3867, 0.0), (3868, 0.0), (3869, 0.0), (3870, 0.08535770791927373), (3871, 0.0822995408597737), (3872, 0.0), (3873, 0.0), (3874, 0.0), (3875, 0.0), (3876, 0.0), (3877, 0.04926674209202405), (3878, 0.033158356269023206), (3879, 0.0), (3880, 0.0), (3881, 0.0), (3882, 0.02621775701055386), (3883, 0.0), (3884, 0.0), (3885, 0.0), (3886, 0.0), (3887, 0.0), (3888, 0.0), (3889, 0.0), (3890, 0.024819286243262063), (3891, 0.0), (3892, 0.010196759685238003), (3893, 0.0), (3894, 0.007658301973198821), (3895, 0.0), (3896, 0.0), (3897, 0.0), (3898, 0.0), (3899, 0.018905016167923994), (3900, 0.0), (3901, 0.0), (3902, 0.0), (3903, 0.0), (3904, 0.0), (3905, 0.0), (3906, 0.015381435026237327), (3907, 0.0), (3908, 0.0), (3909, 0.0), (3910, 0.058651344121219286), (3911, 0.0), (3912, 0.0), (3913, 0.0), (3914, 0.0), (3915, 0.0), (3916, 0.0), (3917, 0.0), (3918, 0.0), (3919, 0.0), (3920, 0.0), (3921, 0.0), (3922, 0.0), (3923, 0.007886070711557886), (3924, 0.0), (3925, 0.0), (3926, 0.0226843186179303), (3927, 0.0), (3928, 0.0), (3929, 0.0), (3930, 0.033276442173552606), (3931, 0.0), (3932, 0.0), (3933, 0.0), (3934, 0.0), (3935, 0.0), (3936, 0.0), (3937, 0.0), (3938, 0.009507360875101347), (3939, 0.0), (3940, 0.0), (3941, 0.0), (3942, 0.0), (3943, 0.06010843815573132), (3944, 0.0), (3945, 0.0), (3946, 0.0), (3947, 0.0), (3948, 0.02516404859903589), (3949, 0.0), (3950, 0.0), (3951, 0.0), (3952, 0.0), (3953, 0.0), (3954, 0.0), (3955, 0.0), (3956, 0.05780837380377837), (3957, 0.0), (3958, 0.0), (3959, 0.0), (3960, 0.0), (3961, 0.0), (3962, 0.0), (3963, 0.0), (3964, 0.0), (3965, 0.0), (3966, 0.0), (3967, 0.0), (3968, 0.0), (3969, 0.0), (3970, 0.0), (3971, 0.0), (3972, 0.0), (3973, 0.0316356179478447), (3974, 0.0), (3975, 0.0), (3976, 0.0), (3977, 0.0), (3978, 0.0), (3979, 0.026213225419639025), (3980, 0.007833764109145455), (3981, 0.0), (3982, 0.0), (3983, 0.0), (3984, 0.0), (3985, 0.0), (3986, 0.055357518914775396), (3987, 0.0), (3988, 0.0), (3989, 0.0), (3990, 0.010904234773211742), (3991, 0.02211107579817689), (3992, 0.0), (3993, 0.0), (3994, 0.0), (3995, 0.0), (3996, 0.0), (3997, 0.0), (3998, 0.0), (3999, 0.0), (4000, 0.0), (4001, 0.0), (4002, 0.0), (4003, 0.0), (4004, 0.0), (4005, 0.0), (4006, 0.0), (4007, 0.0), (4008, 0.0), (4009, 0.02477374185825946), (4010, 0.02623975481790738), (4011, 0.0), (4012, 0.0), (4013, 0.03530059216429042), (4014, 0.0), (4015, 0.05497944071882177), (4016, 0.0), (4017, 0.0), (4018, 0.0), (4019, 0.0), (4020, 0.009615699584157731), (4021, 0.010253355365343803), (4022, 0.019733706491718832), (4023, 0.0), (4024, 0.0), (4025, 0.0), (4026, 0.0), (4027, 0.0), (4028, 0.0), (4029, 0.0), (4030, 0.0), (4031, 0.009989795380595957), (4032, 0.0), (4033, 0.0), (4034, 0.02797627232570346), (4035, 0.0), (4036, 0.0), (4037, 0.040256597481327615), (4038, 0.0), (4039, 0.0), (4040, 0.0), (4041, 0.0), (4042, 0.0), (4043, 0.0), (4044, 0.0), (4045, 0.0), (4046, 0.0), (4047, 0.0), (4048, 0.0), (4049, 0.0), (4050, 0.03321647658671839), (4051, 0.0), (4052, 0.0), (4053, 0.0), (4054, 0.06623068639914921), (4055, 0.0), (4056, 0.0), (4057, 0.0), (4058, 0.0), (4059, 0.0), (4060, 0.0), (4061, 0.0), (4062, 0.0), (4063, 0.0), (4064, 0.047190243482560026), (4065, 0.0), (4066, 0.022016961250946654), (4067, 0.0), (4068, 0.0), (4069, 0.0), (4070, 0.0), (4071, 0.0), (4072, 0.0), (4073, 0.0), (4074, 0.030370815381872935), (4075, 0.0), (4076, 0.0), (4077, 0.0), (4078, 0.0), (4079, 0.0), (4080, 0.0), (4081, 0.0), (4082, 0.0), (4083, 0.0), (4084, 0.0), (4085, 0.0), (4086, 0.026605334399946327), (4087, 0.0), (4088, 0.0), (4089, 0.06594592535735369), (4090, 0.0), (4091, 0.0), (4092, 0.0), (4093, 0.0), (4094, 0.0), (4095, 0.0), (4096, 0.0), (4097, 0.0), (4098, 0.0), (4099, 0.08441248690318927), (4100, 0.0), (4101, 0.0), (4102, 0.0), (4103, 0.0), (4104, 0.012319852112981863), (4105, 0.0), (4106, 0.013275107059266086), (4107, 0.0), (4108, 0.0), (4109, 0.0), (4110, 0.0), (4111, 0.013006508944622424), (4112, 0.021374478950187285), (4113, 0.01815568334385828), (4114, 0.014655481328748672), (4115, 0.0), (4116, 0.0), (4117, 0.0), (4118, 0.008756184694478943), (4119, 0.0), (4120, 0.026960780887121026), (4121, 0.0), (4122, 0.0), (4123, 0.0), (4124, 0.022548450898818493), (4125, 0.0), (4126, 0.0), (4127, 0.0), (4128, 0.0), (4129, 0.0), (4130, 0.0), (4131, 0.0), (4132, 0.0), (4133, 0.0), (4134, 0.03289289374782414), (4135, 0.05283651530016766), (4136, 0.008932566320765372), (4137, 0.0), (4138, 0.013326964962635099), (4139, 0.0), (4140, 0.009170643325505714), (4141, 0.0), (4142, 0.0), (4143, 0.0), (4144, 0.013020046684971158), (4145, 0.0), (4146, 0.024123901065511752), (4147, 0.015338207711896491), (4148, 0.0), (4149, 0.02535587849286051), (4150, 0.0), (4151, 0.0), (4152, 0.06410747296223385), (4153, 0.0), (4154, 0.0), (4155, 0.0), (4156, 0.0), (4157, 0.0), (4158, 0.0), (4159, 0.0), (4160, 0.008759876535672518), (4161, 0.0), (4162, 0.07573357285579015), (4163, 0.0), (4164, 0.02765297163460864), (4165, 0.0), (4166, 0.0), (4167, 0.0), (4168, 0.03571867631890492), (4169, 0.0), (4170, 0.0), (4171, 0.0), (4172, 0.0), (4173, 0.024147453686840258), (4174, 0.013965298984729722), (4175, 0.0), (4176, 0.0), (4177, 0.015659147818040682), (4178, 0.09202650200939518), (4179, 0.0), (4180, 0.0), (4181, 0.0), (4182, 0.037141848742093884), (4183, 0.0), (4184, 0.0), (4185, 0.0), (4186, 0.012635871124477192), (4187, 0.0), (4188, 0.0), (4189, 0.0), (4190, 0.0099640773086273), (4191, 0.056623183773273494), (4192, 0.0), (4193, 0.0), (4194, 0.009972917185874751), (4195, 0.025491245438431853), (4196, 0.02610709286429195), (4197, 0.028326236767624524), (4198, 0.0), (4199, 0.029775021960090076), (4200, 0.0), (4201, 0.0), (4202, 0.0), (4203, 0.0), (4204, 0.0), (4205, 0.0), (4206, 0.0), (4207, 0.02652755154700106), (4208, 0.0), (4209, 0.0), (4210, 0.040372958936338875), (4211, 0.0), (4212, 0.0), (4213, 0.034400580143344225), (4214, 0.0), (4215, 0.0), (4216, 0.0), (4217, 0.0), (4218, 0.0079579643385868), (4219, 0.0), (4220, 0.0), (4221, 0.0), (4222, 0.0), (4223, 0.0), (4224, 0.0), (4225, 0.036038897105776305), (4226, 0.0), (4227, 0.0), (4228, 0.0), (4229, 0.0), (4230, 0.0), (4231, 0.0), (4232, 0.0), (4233, 0.0), (4234, 0.0), (4235, 0.0), (4236, 0.0), (4237, 0.0341339812160259), (4238, 0.0), (4239, 0.0), (4240, 0.0), (4241, 0.0), (4242, 0.0), (4243, 0.0), (4244, 0.0), (4245, 0.013004440688175696), (4246, 0.0), (4247, 0.0), (4248, 0.0), (4249, 0.0), (4250, 0.014198170651348438), (4251, 0.0), (4252, 0.0), (4253, 0.0), (4254, 0.0), (4255, 0.0), (4256, 0.0), (4257, 0.0), (4258, 0.009874099309589105), (4259, 0.010248934518357348), (4260, 0.022916938454512994), (4261, 0.0), (4262, 0.0), (4263, 0.0), (4264, 0.0), (4265, 0.0), (4266, 0.0), (4267, 0.0), (4268, 0.0), (4269, 0.0), (4270, 0.022569163291203266), (4271, 0.0), (4272, 0.0), (4273, 0.0), (4274, 0.0), (4275, 0.0), (4276, 0.034478451771080165), (4277, 0.0), (4278, 0.0), (4279, 0.0), (4280, 0.06844835109025194), (4281, 0.0), (4282, 0.0), (4283, 0.0), (4284, 0.0), (4285, 0.0), (4286, 0.03054847553206423), (4287, 0.0), (4288, 0.0), (4289, 0.0), (4290, 0.0), (4291, 0.0), (4292, 0.0), (4293, 0.0), (4294, 0.0), (4295, 0.013843703094475468), (4296, 0.0), (4297, 0.019369711895908984), (4298, 0.0), (4299, 0.0), (4300, 0.0), (4301, 0.0), (4302, 0.0), (4303, 0.02356391485497042), (4304, 0.0), (4305, 0.0), (4306, 0.0), (4307, 0.0), (4308, 0.0), (4309, 0.0), (4310, 0.0), (4311, 0.0), (4312, 0.0), (4313, 0.0), (4314, 0.03166105927824858), (4315, 0.0), (4316, 0.0), (4317, 0.0), (4318, 0.0), (4319, 0.0), (4320, 0.0), (4321, 0.0), (4322, 0.0), (4323, 0.01484959142784724), (4324, 0.0), (4325, 0.0), (4326, 0.0), (4327, 0.013667102507037303), (4328, 0.0), (4329, 0.022762360514369792), (4330, 0.008317373077293412), (4331, 0.0), (4332, 0.0), (4333, 0.0), (4334, 0.03128362202146169), (4335, 0.0), (4336, 0.043043845214976444), (4337, 0.026101351085759967), (4338, 0.008565672531592444), (4339, 0.0), (4340, 0.00911694649976196), (4341, 0.028204082856074536), (4342, 0.022400487237329084), (4343, 0.0), (4344, 0.021606001604840552), (4345, 0.025482519175980687), (4346, 0.028965740402258744), (4347, 0.02319801446939372), (4348, 0.008133649090767352), (4349, 0.0), (4350, 0.0), (4351, 0.024209155016931952), (4352, 0.0), (4353, 0.0), (4354, 0.0), (4355, 0.0), (4356, 0.008135675622404703), (4357, 0.0), (4358, 0.03187609576355249), (4359, 0.0), (4360, 0.0), (4361, 0.02561149175396637), (4362, 0.05648626888154282), (4363, 0.0), (4364, 0.008869587307083723), (4365, 0.0), (4366, 0.0), (4367, 0.0), (4368, 0.0), (4369, 0.0), (4370, 0.0), (4371, 0.030011194122626872), (4372, 0.017819197108510536), (4373, 0.0), (4374, 0.07241952212896145), (4375, 0.0), (4376, 0.0), (4377, 0.0), (4378, 0.0), (4379, 0.0), (4380, 0.013664679890817892), (4381, 0.0), (4382, 0.0), (4383, 0.0), (4384, 0.0), (4385, 0.0), (4386, 0.0), (4387, 0.0), (4388, 0.0), (4389, 0.0), (4390, 0.0), (4391, 0.0), (4392, 0.0), (4393, 0.0), (4394, 0.08326167991071054), (4395, 0.008880697531774949), (4396, 0.014924159017170827), (4397, 0.009240407301462014), (4398, 0.0), (4399, 0.0), (4400, 0.0), (4401, 0.06369859329132802), (4402, 0.0), (4403, 0.0), (4404, 0.0), (4405, 0.008243149871838721), (4406, 0.0), (4407, 0.0), (4408, 0.0), (4409, 0.0), (4410, 0.014374970566093423), (4411, 0.03448958094441313), (4412, 0.0), (4413, 0.0), (4414, 0.0), (4415, 0.0), (4416, 0.0), (4417, 0.0), (4418, 0.0), (4419, 0.0), (4420, 0.020511982495870804), (4421, 0.02738560567778763), (4422, 0.0125322446900996), (4423, 0.0), (4424, 0.0), (4425, 0.0), (4426, 0.018157333167151832), (4427, 0.0), (4428, 0.0), (4429, 0.0), (4430, 0.02561243021055969), (4431, 0.0), (4432, 0.025548153479014072), (4433, 0.01408599116338069), (4434, 0.0), (4435, 0.0), (4436, 0.0), (4437, 0.0), (4438, 0.0), (4439, 0.0), (4440, 0.0), (4441, 0.0), (4442, 0.0), (4443, 0.03167774075531053), (4444, 0.0), (4445, 0.0), (4446, 0.0), (4447, 0.007922762306065876), (4448, 0.0), (4449, 0.0), (4450, 0.0), (4451, 0.0), (4452, 0.0), (4453, 0.0), (4454, 0.010299093508053692), (4455, 0.025033321062835432), (4456, 0.027219252886316547), (4457, 0.02291107441468966), (4458, 0.0), (4459, 0.0), (4460, 0.0), (4461, 0.0), (4462, 0.0), (4463, 0.0), (4464, 0.0), (4465, 0.0), (4466, 0.0), (4467, 0.0), (4468, 0.0), (4469, 0.0), (4470, 0.0), (4471, 0.0), (4472, 0.0), (4473, 0.0), (4474, 0.0), (4475, 0.0), (4476, 0.0), (4477, 0.0), (4478, 0.05348841439590954), (4479, 0.013589194332514896), (4480, 0.0), (4481, 0.0), (4482, 0.009244288462663145), (4483, 0.010561485945699578), (4484, 0.0), (4485, 0.026790993675010005), (4486, 0.0), (4487, 0.0), (4488, 0.0), (4489, 0.0), (4490, 0.0), (4491, 0.0), (4492, 0.02566980600372704), (4493, 0.0), (4494, 0.0), (4495, 0.0), (4496, 0.0), (4497, 0.0), (4498, 0.0), (4499, 0.0), (4500, 0.04358760315437485), (4501, 0.009047412528912302), (4502, 0.0), (4503, 0.0), (4504, 0.0), (4505, 0.0), (4506, 0.0), (4507, 0.0), (4508, 0.0), (4509, 0.0), (4510, 0.0), (4511, 0.012106978280276322), (4512, 0.0), (4513, 0.0), (4514, 0.0), (4515, 0.0), (4516, 0.00951711527615685), (4517, 0.0), (4518, 0.0), (4519, 0.03992547837513456), (4520, 0.0), (4521, 0.0), (4522, 0.0), (4523, 0.058759764563966733), (4524, 0.039847849236620866), (4525, 0.0), (4526, 0.02416581600318332), (4527, 0.0), (4528, 0.0), (4529, 0.0), (4530, 0.012284834920630849), (4531, 0.0), (4532, 0.0), (4533, 0.0), (4534, 0.0), (4535, 0.0), (4536, 0.0), (4537, 0.0), (4538, 0.0), (4539, 0.0), (4540, 0.0), (4541, 0.0), (4542, 0.0), (4543, 0.0), (4544, 0.0), (4545, 0.0), (4546, 0.0), (4547, 0.0), (4548, 0.0), (4549, 0.0), (4550, 0.0), (4551, 0.0), (4552, 0.0), (4553, 0.0), (4554, 0.02785335343863658), (4555, 0.02097141257149362), (4556, 0.0), (4557, 0.0), (4558, 0.01230233646260308), (4559, 0.02389897610252171), (4560, 0.0), (4561, 0.0), (4562, 0.016754813715615977), (4563, 0.0), (4564, 0.0), (4565, 0.0), (4566, 0.03344567642517818), (4567, 0.0), (4568, 0.0), (4569, 0.008347707467950332), (4570, 0.02296983226882335), (4571, 0.0), (4572, 0.0), (4573, 0.0), (4574, 0.0), (4575, 0.0), (4576, 0.0), (4577, 0.0), (4578, 0.0), (4579, 0.029620991634241214), (4580, 0.0), (4581, 0.0), (4582, 0.013191327239072197), (4583, 0.0), (4584, 0.0), (4585, 0.0), (4586, 0.0), (4587, 0.0), (4588, 0.0), (4589, 0.0), (4590, 0.0), (4591, 0.0), (4592, 0.0), (4593, 0.0), (4594, 0.0), (4595, 0.0), (4596, 0.0), (4597, 0.0), (4598, 0.007356308946011059), (4599, 0.009295913040280776), (4600, 0.0), (4601, 0.0), (4602, 0.0), (4603, 0.007821005792910441), (4604, 0.008780046423694485), (4605, 0.052347329342793236), (4606, 0.0), (4607, 0.0), (4608, 0.0), (4609, 0.011820070227949335), (4610, 0.0), (4611, 0.0), (4612, 0.0), (4613, 0.017796816507288007), (4614, 0.0), (4615, 0.0), (4616, 0.01151106917855639), (4617, 0.0), (4618, 0.0), (4619, 0.0), (4620, 0.0), (4621, 0.0), (4622, 0.0), (4623, 0.0), (4624, 0.0), (4625, 0.02465072466675632), (4626, 0.0), (4627, 0.0), (4628, 0.0), (4629, 0.0), (4630, 0.0), (4631, 0.0), (4632, 0.0), (4633, 0.02888414009714008), (4634, 0.0), (4635, 0.0), (4636, 0.0), (4637, 0.0), (4638, 0.0), (4639, 0.0), (4640, 0.031881994749455356), (4641, 0.06407320582558484), (4642, 0.0), (4643, 0.0), (4644, 0.0), (4645, 0.0), (4646, 0.0), (4647, 0.012533819179390778), (4648, 0.0), (4649, 0.0), (4650, 0.03295096374587788), (4651, 0.0), (4652, 0.0), (4653, 0.0), (4654, 0.0), (4655, 0.0), (4656, 0.0), (4657, 0.0), (4658, 0.02836079976636394), (4659, 0.0), (4660, 0.0), (4661, 0.0), (4662, 0.02603757316417165), (4663, 0.0), (4664, 0.0), (4665, 0.0), (4666, 0.0), (4667, 0.0), (4668, 0.0), (4669, 0.0), (4670, 0.0), (4671, 0.0), (4672, 0.0), (4673, 0.0), (4674, 0.0), (4675, 0.039266404938408384), (4676, 0.013266684427929928), (4677, 0.0), (4678, 0.0), (4679, 0.0), (4680, 0.0), (4681, 0.0), (4682, 0.0), (4683, 0.0), (4684, 0.0), (4685, 0.0), (4686, 0.0), (4687, 0.0), (4688, 0.0), (4689, 0.0), (4690, 0.0), (4691, 0.0), (4692, 0.0), (4693, 0.0), (4694, 0.0), (4695, 0.028632032643614903), (4696, 0.0), (4697, 0.0), (4698, 0.0), (4699, 0.0), (4700, 0.0), (4701, 0.0), (4702, 0.0), (4703, 0.015122942559709085), (4704, 0.0), (4705, 0.0), (4706, 0.0), (4707, 0.0), (4708, 0.0), (4709, 0.0), (4710, 0.0), (4711, 0.008996740386408502), (4712, 0.0), (4713, 0.0), (4714, 0.0), (4715, 0.0), (4716, 0.03998760144947218), (4717, 0.0), (4718, 0.03673670720242095), (4719, 0.0), (4720, 0.0), (4721, 0.0), (4722, 0.0), (4723, 0.0), (4724, 0.0), (4725, 0.0), (4726, 0.012400625787164353), (4727, 0.0), (4728, 0.0), (4729, 0.0), (4730, 0.009415436806708326), (4731, 0.0), (4732, 0.0), (4733, 0.0), (4734, 0.0), (4735, 0.03881667096803279), (4736, 0.0), (4737, 0.010091640646145478), (4738, 0.0), (4739, 0.0), (4740, 0.010417968968816395), (4741, 0.0), (4742, 0.0), (4743, 0.0), (4744, 0.0), (4745, 0.0), (4746, 0.023181573383427172), (4747, 0.0), (4748, 0.0), (4749, 0.0), (4750, 0.0), (4751, 0.0), (4752, 0.0), (4753, 0.0), (4754, 0.02627128345336257), (4755, 0.0), (4756, 0.009778839847115074), (4757, 0.0), (4758, 0.026149960652870105), (4759, 0.0)]\n"
          ]
        }
      ]
    },
    {
      "cell_type": "code",
      "source": [
        "len(Recommendation_Score)"
      ],
      "metadata": {
        "colab": {
          "base_uri": "https://localhost:8080/"
        },
        "id": "vJkMsJ4D6Q8i",
        "outputId": "c11503e4-be1d-4293-d0af-9e2688a75a8d"
      },
      "execution_count": null,
      "outputs": [
        {
          "output_type": "execute_result",
          "data": {
            "text/plain": [
              "4760"
            ]
          },
          "metadata": {},
          "execution_count": 48
        }
      ]
    },
    {
      "cell_type": "markdown",
      "source": [
        "**Get All Movies Sort Based On Recommendation Score wrt favorite Movie**"
      ],
      "metadata": {
        "id": "nmbXqKJn6hHo"
      }
    },
    {
      "cell_type": "code",
      "source": [
        "Sorted_Similar_movies  = sorted(Recommendation_Score, key = lambda x:x[1], reverse = True)\n",
        "print(Sorted_Similar_movies)"
      ],
      "metadata": {
        "colab": {
          "base_uri": "https://localhost:8080/"
        },
        "id": "3469Ka4n6toX",
        "outputId": "5c66fa20-45c3-4f1b-a43b-76d541f23499"
      },
      "execution_count": null,
      "outputs": [
        {
          "output_type": "stream",
          "name": "stdout",
          "text": [
            "[(2, 1.0000000000000002), (247, 0.18112699349724035), (3467, 0.15765617839419646), (3471, 0.14905056549612455), (3162, 0.1404605508184782), (2040, 0.12314672241926175), (1758, 0.11685410254983417), (1862, 0.11326208807211341), (1834, 0.11247517789619209), (2853, 0.10742253046406408), (1182, 0.10330696372132807), (2647, 0.10224224662337375), (3181, 0.1014648209134926), (2577, 0.10039880844997542), (1176, 0.09982248105472628), (1327, 0.09734937355186556), (1557, 0.09723971771336962), (1251, 0.09315596848657753), (752, 0.09237736521011657), (4178, 0.09202650200939518), (1810, 0.09000062869543829), (2615, 0.08890711499143047), (2264, 0.08844605984931915), (3870, 0.08535770791927373), (3852, 0.084925773282059), (4099, 0.08441248690318927), (3390, 0.08370090735600105), (3829, 0.08361660621241232), (144, 0.0833570720682725), (4394, 0.08326167991071054), (3871, 0.0822995408597737), (1813, 0.08075819757251977), (2135, 0.08008386213500707), (1072, 0.07997061698702626), (395, 0.07968392636770265), (353, 0.07940043840445422), (2321, 0.07879796627198858), (691, 0.07793644965637175), (166, 0.07779520210440183), (2568, 0.0777023068843625), (2682, 0.07697589990713537), (619, 0.07675313434234689), (459, 0.07675224443735301), (2938, 0.07650559459896332), (2623, 0.07603369039592726), (178, 0.0757941794868692), (4162, 0.07573357285579015), (1405, 0.07544676621271164), (324, 0.07492770775764278), (2393, 0.07462784830948947), (2016, 0.07453166988577732), (14, 0.07447184666259157), (230, 0.07428060653423683), (2654, 0.07417337580290585), (3120, 0.07393051421127611), (3621, 0.07386104820046159), (463, 0.07382870058436437), (474, 0.07345722453939069), (1257, 0.07289824214494756), (182, 0.0725186705176788), (4374, 0.07241952212896145), (540, 0.07182087715021522), (3540, 0.071358250335584), (2290, 0.07121739940850245), (3660, 0.0704862543436571), (698, 0.07040900289895996), (624, 0.07003135340479456), (3772, 0.06985332235329718), (3212, 0.06983466018131337), (3030, 0.06887182088620036), (1714, 0.06869645938171855), (4280, 0.06844835109025194), (1888, 0.06834859697338488), (2406, 0.06782258069348668), (1067, 0.0668109901562543), (643, 0.06656217642961963), (1092, 0.0665065635511948), (4054, 0.06623068639914921), (4089, 0.06594592535735369), (1646, 0.06586732419345252), (1524, 0.06583431043496972), (2472, 0.0647116758862839), (2443, 0.06448356900467683), (4152, 0.06410747296223385), (4641, 0.06407320582558484), (427, 0.0638872170289322), (4401, 0.06369859329132802), (1586, 0.06356258509806786), (302, 0.06329124950698312), (1107, 0.06327817097710514), (1959, 0.06310991768570037), (2370, 0.06300404383586228), (421, 0.06294178728283323), (53, 0.06273859348173796), (1505, 0.06252464146879214), (2145, 0.06246925467663955), (705, 0.06236119191156432), (932, 0.062110748540184), (1523, 0.06180591797518594), (988, 0.061376714409678644), (3225, 0.0612560783094787), (1473, 0.061012256461934505), (3662, 0.06066712049197011), (2809, 0.06062998235008102), (1433, 0.06043815183449279), (146, 0.06033762003986625), (640, 0.06026746603604212), (730, 0.06010956053136918), (3943, 0.06010843815573132), (1284, 0.05964046996163103), (198, 0.05944149795728741), (1409, 0.05941072713305615), (1319, 0.05939420331509332), (1212, 0.0593120184042503), (2061, 0.05918370376246418), (2857, 0.059004790781001806), (1076, 0.058911715890486285), (4523, 0.058759764563966733), (3910, 0.058651344121219286), (2292, 0.05820251398629986), (1041, 0.05793889427976236), (3808, 0.05792358106652144), (3956, 0.05780837380377837), (1460, 0.057577309288515476), (548, 0.057207091311657486), (3201, 0.056910507988780015), (362, 0.05690568083515561), (3260, 0.05679719600102538), (2299, 0.056663614940488535), (4191, 0.056623183773273494), (1927, 0.056522430589746445), (3489, 0.056488504582685416), (4362, 0.05648626888154282), (361, 0.05634313925856406), (695, 0.055832696980558316), (3257, 0.055424555517594565), (3986, 0.055357518914775396), (1038, 0.05522081556363847), (794, 0.05505349580680288), (4015, 0.05497944071882177), (3288, 0.05480901425991122), (2365, 0.05480316267955726), (2806, 0.05474346048276513), (1715, 0.05431465681276025), (3665, 0.05383946618689632), (173, 0.05368458731229246), (488, 0.053665421121978585), (2423, 0.05364923359333168), (1950, 0.05363445649698935), (3659, 0.053550215068048065), (4478, 0.05348841439590954), (4135, 0.05283651530016766), (4605, 0.052347329342793236), (2980, 0.05227567854652716), (140, 0.052222331720527315), (989, 0.051770261437430964), (2138, 0.05136012104727516), (2502, 0.050746937683873984), (3091, 0.05074204279348876), (3695, 0.05050697123309301), (341, 0.04971807028598031), (2584, 0.04928102506337727), (3877, 0.04926674209202405), (3461, 0.0489973289075801), (1861, 0.0481129765439614), (2704, 0.04807373042671587), (26, 0.04760973600862827), (1195, 0.047300247610645316), (2332, 0.047271721762263776), (1477, 0.04723108982921747), (4064, 0.047190243482560026), (615, 0.04702770275751636), (854, 0.04694653947819119), (160, 0.046699121263962216), (3228, 0.04654651278793102), (3825, 0.046189681050498886), (2280, 0.046041244562522676), (2113, 0.04586417048327766), (1276, 0.045828040253567154), (3379, 0.04549236130579586), (385, 0.04548444626712355), (3506, 0.04479603650317706), (1664, 0.0446437793662528), (3380, 0.043952631779439894), (3192, 0.043916664960369986), (1886, 0.04380523798922104), (724, 0.04379444532265346), (1845, 0.04377725352865039), (3653, 0.04363369772546591), (4500, 0.04358760315437485), (1602, 0.04306254696478133), (850, 0.04305412187415665), (4336, 0.043043845214976444), (3631, 0.04302852041415786), (1465, 0.043027212767624286), (1529, 0.0430115533579685), (1050, 0.04299366851645072), (3144, 0.042928393089373025), (3346, 0.042749580111819806), (2532, 0.0427150555101546), (3616, 0.04256675274624358), (2897, 0.04254480021391165), (1726, 0.04236178564483414), (2190, 0.04231185399011138), (3812, 0.04201106402184733), (3302, 0.041966719099431074), (2649, 0.041602851205966934), (461, 0.04153617224041703), (1720, 0.041428019355983975), (3632, 0.04131576862004302), (2782, 0.04118428131017257), (3119, 0.041149138464913755), (2713, 0.04104619926756482), (286, 0.04101107337871546), (1737, 0.04096372460950209), (22, 0.04095667872660534), (179, 0.04093771808747436), (1578, 0.04084802357184232), (2671, 0.040842378144123864), (3655, 0.040757958035172015), (3838, 0.04065895676849242), (755, 0.04040273226189154), (4210, 0.040372958936338875), (3757, 0.04034030146732705), (4037, 0.040256597481327615), (887, 0.04009915664069566), (4716, 0.03998760144947218), (4519, 0.03992547837513456), (4524, 0.039847849236620866), (936, 0.039704369207194196), (596, 0.039587790061013164), (2711, 0.03932390107213649), (1364, 0.03932196311269478), (4675, 0.039266404938408384), (2752, 0.039220501229178764), (2317, 0.0390473314238625), (1673, 0.03903601557594791), (2097, 0.03897131808677283), (4735, 0.03881667096803279), (2372, 0.03858137215096299), (1988, 0.038553234877863156), (185, 0.03849156907531915), (1842, 0.03847678886455191), (2283, 0.038430112923556026), (2316, 0.03826620513418549), (926, 0.038252645242503804), (219, 0.038211983818798964), (3286, 0.03820818706151177), (2668, 0.038205708149996964), (446, 0.0381857884972385), (429, 0.03818397020548795), (1953, 0.03803771868417427), (1142, 0.03777684130875225), (753, 0.03775767539051191), (852, 0.03775158681359643), (662, 0.03764532825710574), (2653, 0.037536021959875036), (3373, 0.03740174192662761), (2329, 0.03730687042966426), (3308, 0.037224406990092995), (2760, 0.03722305271111251), (2294, 0.03721125785794169), (4182, 0.037141848742093884), (578, 0.03706590609992116), (2476, 0.03701615466054302), (2667, 0.03699838873187966), (1844, 0.036980943666570995), (2864, 0.03688134251417402), (1555, 0.036870375359745466), (1338, 0.03677171854263093), (4718, 0.03673670720242095), (1606, 0.03668617137333023), (620, 0.036409424191824226), (3116, 0.03639396689071371), (1496, 0.03637383730172694), (196, 0.036237982060277854), (743, 0.03606924463171133), (2221, 0.0360400743305871), (4225, 0.036038897105776305), (3562, 0.03594771243645965), (3488, 0.035875216657619564), (3864, 0.03583623837047382), (1615, 0.03577048741985429), (2507, 0.035736167553552925), (4168, 0.03571867631890492), (2493, 0.03551898695513756), (1094, 0.03551316418627618), (346, 0.03540789924664642), (4013, 0.03530059216429042), (2719, 0.035286684062770746), (1703, 0.03515163376393782), (1989, 0.034913368062906416), (2098, 0.03488587414658816), (1351, 0.034883203991896164), (2944, 0.03482519095612721), (1311, 0.03482366846379944), (3236, 0.034731186155116604), (188, 0.03460770488022252), (4411, 0.03448958094441313), (4276, 0.034478451771080165), (1002, 0.034433622246683095), (4213, 0.034400580143344225), (2352, 0.03431385688910905), (1552, 0.0342944053232994), (2121, 0.03423968402600469), (472, 0.034204819045080596), (1079, 0.03415956316742845), (4237, 0.0341339812160259), (2484, 0.03408560773820228), (3606, 0.034081693040948546), (1647, 0.0340217799738426), (2183, 0.03398575786569294), (1979, 0.0338985329907946), (948, 0.033800468702474516), (121, 0.033789716000064966), (281, 0.03367112895269817), (787, 0.03353901505980446), (1241, 0.03349795345324665), (4566, 0.03344567642517818), (1356, 0.03341223078608804), (3930, 0.033276442173552606), (4050, 0.03321647658671839), (3229, 0.033165712096422426), (3878, 0.033158356269023206), (2661, 0.03312039600574587), (58, 0.033082790646785515), (4650, 0.03295096374587788), (4134, 0.03289289374782414), (3851, 0.03288702173639032), (2662, 0.03287528878464591), (2509, 0.03273423810464245), (3422, 0.03243905143076595), (2783, 0.03220733226501674), (49, 0.03219417877423739), (2102, 0.032064489889748846), (631, 0.0319059163041042), (4640, 0.031881994749455356), (233, 0.03188010130849962), (4358, 0.03187609576355249), (1609, 0.03184320757834399), (2664, 0.031821897508800795), (1389, 0.031818598028549916), (778, 0.03175321799651737), (2392, 0.03172665695645517), (4443, 0.03167774075531053), (4314, 0.03166105927824858), (3973, 0.0316356179478447), (2510, 0.03156266522724101), (2411, 0.031320653761774495), (1794, 0.03128953689234656), (4334, 0.03128362202146169), (1427, 0.031137586782236416), (3217, 0.03112962474054104), (1843, 0.03111745901281544), (3282, 0.031061971516992557), (1868, 0.031057798126325482), (3526, 0.030895348083365616), (337, 0.030890634187300377), (3550, 0.03087837349505826), (3794, 0.030874073060542424), (1309, 0.03080824650348745), (2521, 0.030715662210769032), (768, 0.030684136910292086), (406, 0.03066045532254326), (3256, 0.030599081337022944), (1574, 0.030552850683440238), (4286, 0.03054847553206423), (2450, 0.030532355327701724), (3421, 0.030494796284756483), (2161, 0.030426582997918516), (2005, 0.030426028581429045), (4074, 0.030370815381872935), (1866, 0.030357542518380434), (2232, 0.030230332196898694), (3263, 0.030162895016607322), (2473, 0.030065843742319805), (4371, 0.030011194122626872), (3441, 0.02999991520244128), (517, 0.029908990812302066), (1698, 0.02986273381546834), (1403, 0.029805098252057138), (4199, 0.029775021960090076), (3611, 0.029664508259717934), (4579, 0.029620991634241214), (3830, 0.029386615337795463), (500, 0.02920171006780924), (3128, 0.02906357214127797), (915, 0.02897854075882708), (4346, 0.028965740402258744), (3766, 0.028953076450141644), (3671, 0.028931113565318974), (4633, 0.02888414009714008), (3361, 0.0286762520368699), (1189, 0.028656822432436287), (4695, 0.028632032643614903), (1011, 0.02846238082188674), (3517, 0.028408678863981292), (4658, 0.02836079976636394), (584, 0.02836073267844648), (1570, 0.02834067527757322), (4197, 0.028326236767624524), (137, 0.02827672630670892), (1788, 0.02826503981617511), (2284, 0.028246508692472277), (3015, 0.028245682477083763), (1095, 0.02821876452121972), (4341, 0.028204082856074536), (594, 0.02813593548005904), (1339, 0.028113301777315622), (360, 0.028029428733397612), (4034, 0.02797627232570346), (1484, 0.02791648520299457), (4554, 0.02785335343863658), (706, 0.027803027773961937), (1724, 0.02778108517069856), (3483, 0.02770287023345093), (1601, 0.027683989010757366), (2440, 0.027669566769604175), (954, 0.02765528092614959), (4164, 0.02765297163460864), (2629, 0.027625515650935704), (3817, 0.027565590850396577), (3326, 0.027534682427171272), (1165, 0.027515768192820412), (2267, 0.02745499578909586), (4421, 0.02738560567778763), (3444, 0.027306798799404862), (3747, 0.027263051535981346), (2781, 0.027231877818727473), (4456, 0.027219252886316547), (1836, 0.02713255610479358), (3375, 0.02712835101359851), (365, 0.027119284696030397), (2263, 0.027077649092891343), (3816, 0.027004671187501952), (4120, 0.026960780887121026), (1383, 0.02694531643823228), (347, 0.026942490388374186), (1223, 0.026941688450424005), (3790, 0.026941504720189847), (1057, 0.02690444577002984), (391, 0.026897639066392136), (3607, 0.02686542437617828), (355, 0.02682522941710096), (70, 0.026799989376368457), (350, 0.02679350078237064), (4485, 0.026790993675010005), (3395, 0.026788763546448612), (879, 0.026786371410850898), (976, 0.026772473302864586), (275, 0.026748425775183007), (370, 0.02674104383179061), (245, 0.026738200569405013), (2451, 0.026701138373504157), (3208, 0.026683526840288244), (2184, 0.026667777108521216), (1999, 0.026661671446548456), (4086, 0.026605334399946327), (2029, 0.02660173335008959), (1812, 0.026554049028005417), (3468, 0.026533375956388414), (4207, 0.02652755154700106), (2504, 0.026486414248099513), (1481, 0.026466434940820984), (3628, 0.026453265926902537), (1634, 0.026437333499754623), (3571, 0.026407956209739365), (2831, 0.026403535846731732), (569, 0.026378396306659287), (1021, 0.02637197379375574), (3503, 0.026325611908177303), (2091, 0.026307091798205416), (853, 0.026298892233094867), (1485, 0.0262736525743086), (4754, 0.02627128345336257), (363, 0.026262924356107054), (4010, 0.02623975481790738), (3505, 0.02622080561187971), (646, 0.02622059540216512), (3882, 0.02621775701055386), (3979, 0.026213225419639025), (2733, 0.02615905208768422), (4758, 0.026149960652870105), (2212, 0.026126553569461988), (4196, 0.02610709286429195), (4337, 0.026101351085759967), (2201, 0.0260855739303861), (1835, 0.026062660497102895), (2796, 0.026039319718589006), (4662, 0.02603757316417165), (2605, 0.026009967349432037), (2652, 0.025900979620657745), (3298, 0.025886427962529893), (2927, 0.025842545003323225), (2729, 0.02582997990352698), (2583, 0.025807307917118515), (2893, 0.02578616877342408), (1907, 0.025775726899178442), (3074, 0.025719914727848545), (4492, 0.02566980600372704), (3179, 0.02563847921702703), (1864, 0.02561914308396431), (4430, 0.02561243021055969), (4361, 0.02561149175396637), (392, 0.025598976639275593), (379, 0.02558085975868376), (2964, 0.025579066404926774), (4432, 0.025548153479014072), (4195, 0.025491245438431853), (4345, 0.025482519175980687), (1711, 0.02543707930272148), (1700, 0.025420861184935663), (187, 0.02537507329377874), (4149, 0.02535587849286051), (1837, 0.02534202997962888), (880, 0.025341573506119496), (2589, 0.025283338826483207), (2516, 0.0252806204584723), (2303, 0.02524036650900367), (1891, 0.025207884265464126), (3776, 0.025189388578385232), (2171, 0.025179552014037196), (1600, 0.025179021851302795), (1246, 0.025172396346304172), (3948, 0.02516404859903589), (1640, 0.025159138741776693), (1704, 0.025125867313934996), (2540, 0.025076348557896293), (423, 0.02507602840136297), (1474, 0.025041784620111737), (2157, 0.02503396886271042), (4455, 0.025033321062835432), (3539, 0.024993436013536124), (3473, 0.024989388790568404), (1643, 0.024868599798565084), (884, 0.02482784512608967), (3890, 0.024819286243262063), (2414, 0.024782428189797118), (4009, 0.02477374185825946), (3555, 0.024767475729794604), (2307, 0.024741560648587388), (1016, 0.02473232839874421), (1291, 0.02472535869358783), (3317, 0.024721968781140805), (72, 0.024672194725222384), (4625, 0.02465072466675632), (229, 0.024641859135820707), (1166, 0.02462902140372831), (899, 0.02459074276720497), (1841, 0.024575964446751558), (2179, 0.024559635407206293), (1706, 0.02449462128576873), (2839, 0.024487456178486446), (2408, 0.02448568829880986), (1046, 0.02445403932846323), (1521, 0.02443325918187066), (961, 0.024418264685169964), (3843, 0.024413129203171045), (2041, 0.02440079351202117), (1607, 0.024382105308633713), (2153, 0.024363132304478438), (2717, 0.02435789561544239), (651, 0.02431285313902316), (1954, 0.02427906450650481), (3403, 0.024253694436220153), (856, 0.02421087522277189), (1114, 0.024210277561664467), (4351, 0.024209155016931952), (3734, 0.024173430486381264), (47, 0.02417269210226199), (2462, 0.02416739418542835), (4526, 0.02416581600318332), (3735, 0.024158130513942812), (4173, 0.024147453686840258), (4146, 0.024123901065511752), (3847, 0.024070413120125606), (1755, 0.024020265763950367), (3633, 0.02401652603000954), (507, 0.024006489953043043), (335, 0.023949563942744695), (1769, 0.023948435356579735), (1307, 0.023905507005712298), (4559, 0.02389897610252171), (3457, 0.023874335855739066), (909, 0.023868036878198717), (136, 0.023844835675719895), (409, 0.02383831511927749), (3743, 0.023808242281601128), (2813, 0.023776852512072174), (3243, 0.023771306182246814), (3865, 0.02363597488728801), (3484, 0.023589640786384782), (3737, 0.023570113489338747), (2030, 0.02356873342336919), (4303, 0.02356391485497042), (1163, 0.02353304411698566), (1336, 0.023520005547271752), (3482, 0.023468287289128253), (1255, 0.023346943306764928), (3698, 0.023342739617508674), (2644, 0.02333894975098209), (451, 0.02333486404793909), (1348, 0.023268725160596547), (2856, 0.023237718725203523), (4347, 0.02319801446939372), (1538, 0.023188211104645112), (4746, 0.023181573383427172), (3111, 0.0231345177817026), (1085, 0.02306007305403987), (900, 0.023044372784047952), (3167, 0.022981929008129332), (2708, 0.02297513147764435), (4570, 0.02296983226882335), (2683, 0.022951498800987097), (4260, 0.022916938454512994), (1162, 0.022915652650729854), (4457, 0.02291107441468966), (3366, 0.022901788615220783), (3673, 0.02288738545969489), (2150, 0.022828697103996508), (351, 0.022802780636810648), (428, 0.022801351574041853), (1820, 0.022789033664426313), (2207, 0.022770381099022022), (4329, 0.022762360514369792), (3485, 0.022757148650447045), (1333, 0.022724189759970908), (3926, 0.0226843186179303), (3803, 0.022648180334271108), (920, 0.022624233300760917), (1025, 0.0225757961961389), (4270, 0.022569163291203266), (4124, 0.022548450898818493), (2579, 0.02254519123750845), (3287, 0.022532272998621775), (3272, 0.02252481345535297), (445, 0.02249454742747177), (457, 0.022473624353569983), (4342, 0.022400487237329084), (3685, 0.022340435181726057), (2117, 0.022306435069582943), (3722, 0.022292025169800188), (2723, 0.02228037376065706), (2019, 0.022274449749765165), (1198, 0.022256523192350823), (863, 0.022234266753260658), (1800, 0.02220826342876374), (2688, 0.022153343685531346), (2390, 0.02214397369875067), (1902, 0.02211627605200182), (3991, 0.02211107579817689), (1376, 0.02207255783181715), (1495, 0.022045413461975766), (4066, 0.022016961250946654), (912, 0.02200249533409923), (1846, 0.02195971385064809), (2322, 0.021932314877394693), (208, 0.021872880280611295), (2059, 0.021841550285364886), (167, 0.02180616072440926), (1564, 0.021806036604390268), (2095, 0.021786784533575732), (2656, 0.021778411777788997), (2433, 0.02173658310207526), (2666, 0.021714709788331486), (3216, 0.021658129844815317), (2539, 0.02165432174731389), (3805, 0.02165376564501084), (3508, 0.021645453528847378), (4344, 0.021606001604840552), (177, 0.02150885538392955), (549, 0.021493702153004383), (109, 0.02147053803964644), (3476, 0.021416423985929384), (4112, 0.021374478950187285), (1958, 0.02135399968833955), (712, 0.021335004422139744), (3541, 0.021270345076007006), (164, 0.021227176944155594), (1373, 0.02111239704308218), (1712, 0.021085583408979133), (901, 0.021004453987833575), (4555, 0.02097141257149362), (1008, 0.020906828082609866), (2327, 0.020826754661965607), (2913, 0.020758515511196778), (3574, 0.02062002559275209), (3656, 0.020612032483494826), (1482, 0.02058034748958725), (4420, 0.020511982495870804), (1461, 0.020448012443781895), (524, 0.020275761630204732), (3226, 0.020238818724642504), (3397, 0.02010003820385706), (3512, 0.020077818599658213), (2741, 0.020019096431026236), (4022, 0.019733706491718832), (817, 0.019688824381752356), (3792, 0.019659418732613062), (3138, 0.019474828349462604), (4297, 0.019369711895908984), (629, 0.019346818939428256), (3481, 0.0192869499166174), (1537, 0.01917370952964), (1014, 0.019026742627603125), (3899, 0.018905016167923994), (2715, 0.01859212302403284), (4426, 0.018157333167151832), (3627, 0.018156630137344525), (4113, 0.01815568334385828), (404, 0.018068035820222792), (3142, 0.01803767046343302), (4372, 0.017819197108510536), (4613, 0.017796816507288007), (641, 0.017698494139506464), (410, 0.017605527260172595), (3557, 0.017303891249516087), (3392, 0.017206074489335175), (940, 0.017186900286691852), (3199, 0.017053960934493236), (1883, 0.01700031660873239), (4562, 0.016754813715615977), (1285, 0.01674585062510088), (802, 0.016714433667176818), (1784, 0.016572402379625272), (1217, 0.016499766534505998), (2595, 0.016233497032991626), (3065, 0.016170154457813782), (3515, 0.016136568057304967), (2885, 0.016076159250070436), (714, 0.015778078809071863), (819, 0.015715555478214443), (4177, 0.015659147818040682), (1741, 0.015643308357037002), (2479, 0.015633083881657475), (1850, 0.015606696956282877), (2822, 0.015514960575100885), (2574, 0.01550554942187601), (3906, 0.015381435026237327), (4147, 0.015338207711896491), (4703, 0.015122942559709085), (797, 0.015002596044884802), (489, 0.014974593960755924), (3188, 0.014957920502202111), (4396, 0.014924159017170827), (3681, 0.01485479856221945), (4323, 0.01484959142784724), (3094, 0.014791537586060067), (847, 0.014744414994770859), (4114, 0.014655481328748672), (2528, 0.01464569675862087), (154, 0.014627069554906332), (201, 0.014591723948909795), (1103, 0.014581139284475297), (3511, 0.014534122919495952), (3413, 0.014396657384992443), (4410, 0.014374970566093423), (4250, 0.014198170651348438), (1049, 0.01417963417459351), (2009, 0.014138360718624683), (674, 0.01411722840428711), (1132, 0.014110516658267435), (1104, 0.014108331064496198), (4433, 0.01408599116338069), (3442, 0.01406338548993655), (4174, 0.013965298984729722), (998, 0.013962972066615207), (849, 0.013942488489288446), (1594, 0.013935688904966567), (1768, 0.013916387730879075), (2245, 0.013915443847523907), (2144, 0.013902049482555717), (821, 0.013900980390338782), (872, 0.01388111442075967), (689, 0.013846847302656253), (4295, 0.013843703094475468), (1112, 0.013772434294429124), (1447, 0.01375653034035762), (971, 0.013755901163170749), (3696, 0.013750511093075925), (2663, 0.013747576837641816), (2109, 0.013733501128421432), (454, 0.013713024972132599), (1171, 0.013710504345940335), (3104, 0.013700889888865985), (2685, 0.013698899891372752), (279, 0.013681674446772828), (4327, 0.013667102507037303), (4380, 0.013664679890817892), (2234, 0.013654398357661203), (1951, 0.013644848160312561), (1365, 0.013628459040622628), (1963, 0.013610249855907766), (1532, 0.013607527159425686), (2915, 0.01360404896767942), (3350, 0.013599930287263034), (4479, 0.013589194332514896), (169, 0.013501293018132432), (628, 0.013485963613332864), (3148, 0.013470843169080877), (1292, 0.013461148447836909), (3781, 0.013443345615012963), (3768, 0.013433664713689715), (3098, 0.013401505838917508), (1759, 0.013381812942422803), (769, 0.01338141456784432), (600, 0.01337870122021532), (1006, 0.013367766770057184), (334, 0.013367728837444012), (57, 0.013364865465702272), (2732, 0.013349978861341106), (4138, 0.013326964962635099), (1778, 0.013306138307482498), (254, 0.013288930778931774), (3839, 0.013288644682059682), (2553, 0.013279013179283039), (4106, 0.013275107059266086), (4676, 0.013266684427929928), (585, 0.013255442200891874), (369, 0.013253409545338577), (1621, 0.013242843067113616), (312, 0.013194835997312105), (2116, 0.013191898858104945), (4582, 0.013191327239072197), (1762, 0.01318686257912209), (1421, 0.013167065661486255), (843, 0.013149089420647584), (1663, 0.013145863028941314), (935, 0.013084999690892335), (742, 0.013062454307966986), (1073, 0.013061661724879162), (2038, 0.013059769608209905), (1935, 0.01304950516286126), (64, 0.0130366072138948), (61, 0.013025528791378294), (4144, 0.013020046684971158), (3376, 0.013019540983427641), (2331, 0.01301145025986501), (176, 0.013009721268744208), (4111, 0.013006508944622424), (4245, 0.013004440688175696), (2597, 0.012981506795470481), (978, 0.012978192926421321), (3238, 0.012977666022247083), (1084, 0.012968472045024913), (1464, 0.012960574296865921), (3809, 0.012960174148386319), (465, 0.012929713479057673), (2958, 0.0129073900783281), (3824, 0.012904853341675862), (1667, 0.012901007108882423), (3746, 0.012875016171276453), (1877, 0.01283851547961735), (2143, 0.012827258174109794), (1161, 0.012790908427751239), (2200, 0.012771093106944392), (1561, 0.012736203655959451), (2405, 0.012725596323396548), (1406, 0.012683949849628737), (4186, 0.012635871124477192), (1077, 0.01256286032113398), (1004, 0.012553981849760767), (4647, 0.012533819179390778), (4422, 0.0125322446900996), (882, 0.012529046655632464), (1973, 0.012523203279333206), (1062, 0.012502716225803465), (3501, 0.012487968780002315), (2192, 0.01245805156150304), (1231, 0.012429874904250078), (1492, 0.012411766119908312), (4726, 0.012400625787164353), (1774, 0.01234820605521898), (170, 0.012330422127560182), (4104, 0.012319852112981863), (2789, 0.01231158061862529), (4558, 0.01230233646260308), (4530, 0.012284834920630849), (3173, 0.012282077327506087), (292, 0.012277652708568695), (607, 0.012264419375477119), (2402, 0.012263912401615744), (1397, 0.01225828029394903), (1912, 0.012210133863257349), (1833, 0.012169424385341176), (3861, 0.012162900417679519), (2441, 0.012158717228749066), (309, 0.01214597902519028), (4511, 0.012106978280276322), (693, 0.012100512288960617), (1323, 0.012098192321474273), (3615, 0.011992872542319791), (3863, 0.011989432819344161), (3204, 0.011953463577286083), (3034, 0.011953073601302062), (317, 0.011939239755754318), (2460, 0.011920147743180709), (1625, 0.011904075196990006), (1009, 0.01187274673424317), (1352, 0.011826488985378029), (4609, 0.011820070227949335), (2998, 0.011773796281464034), (271, 0.01175747499086472), (2398, 0.011745379887914813), (2999, 0.011739911766990088), (2281, 0.011694607780596248), (2873, 0.01168365382583938), (2851, 0.011652284452729419), (1202, 0.011649232217626135), (3430, 0.011638959653251197), (2756, 0.01154433629982426), (4616, 0.01151106917855639), (441, 0.011470454267354538), (2211, 0.011470008238803685), (3219, 0.011430856044155497), (831, 0.011419797837831315), (3234, 0.011326755940816426), (1208, 0.011314688394238156), (2379, 0.011257038523754048), (2449, 0.011230142223823422), (611, 0.011192498349118235), (3796, 0.011059944301188762), (2269, 0.011024334429003135), (3990, 0.010904234773211742), (3626, 0.010900397481569747), (2637, 0.010845371118217127), (1168, 0.010806186009722638), (473, 0.010757710830532013), (149, 0.010723926376862078), (2810, 0.010644330797987349), (3078, 0.010622457579966325), (4483, 0.010561485945699578), (2257, 0.010560988285918917), (401, 0.010547740074875092), (2530, 0.01053087994069752), (2643, 0.010463636020625677), (3221, 0.010448071480399416), (2351, 0.010430682849106677), (4740, 0.010417968968816395), (2604, 0.010401425626225735), (2672, 0.010395614559609065), (700, 0.010384650989172916), (781, 0.010378146762877344), (3297, 0.010358290886481014), (2261, 0.010322371675704602), (4454, 0.010299093508053692), (3137, 0.01026766586323166), (4021, 0.010253355365343803), (2111, 0.010249621470546942), (4259, 0.010248934518357348), (1466, 0.010244494223482524), (3701, 0.01024207623162307), (773, 0.010227657553596161), (2199, 0.010206890063045685), (3892, 0.010196759685238003), (2448, 0.010156999967474118), (4737, 0.010091640646145478), (2710, 0.010083710344965626), (3813, 0.010079614463514084), (3089, 0.0100417181289231), (2154, 0.01002848711686019), (2456, 0.010027401667114678), (2582, 0.010024596606397465), (859, 0.010009369124551363), (4031, 0.009989795380595957), (1040, 0.009973320303797138), (4194, 0.009972917185874751), (3003, 0.009971365163458293), (2901, 0.009966500406961218), (4190, 0.0099640773086273), (3524, 0.00996144437111365), (2421, 0.009953645520756435), (2531, 0.009938395865597837), (2319, 0.009929763151623475), (4258, 0.009874099309589105), (2799, 0.009865239037111928), (3620, 0.009837456117364191), (1911, 0.00981646995325247), (490, 0.009797001466330264), (2210, 0.009779641408146212), (4756, 0.009778839847115074), (3472, 0.009734321875003572), (1889, 0.009713963621282897), (2358, 0.00970194067273416), (3763, 0.0096925647357753), (1531, 0.009691933974445946), (2909, 0.009674577051741814), (2555, 0.009670497465334198), (2763, 0.00966722434238725), (4020, 0.009615699584157731), (2591, 0.009608232993199864), (2381, 0.009600629248079754), (3613, 0.00959368930246206), (45, 0.009573462711856578), (522, 0.009556875784804367), (1088, 0.009549788762375751), (2082, 0.009546497683834441), (3081, 0.009545902902349471), (2485, 0.009527744296459884), (3751, 0.00952275213566304), (4516, 0.00951711527615685), (2772, 0.009511424569933796), (3938, 0.009507360875101347), (2814, 0.009503787282344175), (2223, 0.009497629962987421), (413, 0.009490727926133645), (153, 0.009475682240470322), (2592, 0.009469863013805738), (1541, 0.00946767590156396), (1141, 0.009445914652999288), (1961, 0.009423923911973496), (4730, 0.009415436806708326), (1525, 0.009415339286571754), (470, 0.009410512858155695), (576, 0.009393829341178722), (3090, 0.009389866164702708), (3822, 0.009380010343268451), (1520, 0.009377553414870916), (686, 0.009374483179729958), (1771, 0.009362592057936844), (3610, 0.00935914239395605), (1766, 0.009341300447380883), (1731, 0.009341092648122962), (2758, 0.009336787343590534), (3151, 0.009335260685401647), (2721, 0.009328036549072516), (2916, 0.009321881374260179), (1204, 0.00930652413839986), (946, 0.009302604517208367), (4599, 0.009295913040280776), (3189, 0.009292530683572537), (3752, 0.009264037001598082), (3121, 0.009263284316156273), (2301, 0.00926175081957396), (1116, 0.009254065257118992), (1196, 0.009246339356927485), (2371, 0.009245509530355283), (4482, 0.009244288462663145), (4397, 0.009240407301462014), (1613, 0.009239699131225989), (1936, 0.00923430096583903), (2931, 0.009206787877839283), (1222, 0.009195862391718984), (3536, 0.009190079961311192), (713, 0.009173966205792583), (2337, 0.009173272749311335), (4140, 0.009170643325505714), (1206, 0.009168461915732659), (277, 0.009165109650041501), (2198, 0.009161148247804148), (308, 0.009159724313208011), (3141, 0.009156465460518706), (931, 0.00915345787597378), (3360, 0.009150872424855221), (2259, 0.009137141742288043), (3335, 0.009134730834879298), (297, 0.009121942304646639), (2435, 0.00911707167809203), (4340, 0.00911694649976196), (3858, 0.009111319063887562), (1235, 0.009105097028316233), (2554, 0.009104509423633566), (1361, 0.009103276636825154), (2430, 0.009102631785313873), (257, 0.009081338601364699), (1522, 0.009061977889323922), (1849, 0.009053949807956272), (3846, 0.009050879738190114), (4501, 0.009047412528912302), (91, 0.00904495515339697), (3554, 0.009005207511148004), (807, 0.009001448449260444), (4711, 0.008996740386408502), (1300, 0.008985328551322566), (2335, 0.008983774855848566), (1310, 0.008963408026596313), (183, 0.008962694889042156), (2535, 0.008961440071365593), (3643, 0.008956509053762711), (2562, 0.008955534170214084), (977, 0.008951945786953698), (340, 0.008949013914949034), (1298, 0.008948950938215528), (2367, 0.008944289610771622), (383, 0.008936839248899453), (298, 0.008933425521114913), (4136, 0.008932566320765372), (1898, 0.00892640550857042), (2612, 0.00892478397834762), (703, 0.008922664176194991), (2525, 0.008921285296210705), (745, 0.00891945129655414), (2125, 0.008914895418516448), (3080, 0.00891166630311131), (2614, 0.008910116526062219), (3753, 0.008910095879800753), (407, 0.008904051688815317), (2262, 0.008901185673907215), (2590, 0.008900975949837594), (2896, 0.008899326863791059), (1394, 0.00889457924317693), (4395, 0.008880697531774949), (4364, 0.008869587307083723), (1604, 0.008865695569574368), (2593, 0.008856662536030152), (3084, 0.008854747360182396), (2099, 0.008853086777608916), (2617, 0.008851093897325578), (73, 0.008848584286118146), (1697, 0.008844348519942735), (1013, 0.008836043547974926), (1368, 0.008835497955461562), (344, 0.008834728203110103), (2835, 0.008784627185750583), (4604, 0.008780046423694485), (1878, 0.008777862645283461), (301, 0.00877775123076915), (2086, 0.008776605837690864), (4160, 0.008759876535672518), (4118, 0.008756184694478943), (1913, 0.008734326809660603), (717, 0.008728007664360063), (3187, 0.008723878998501048), (1854, 0.00871605335043242), (2844, 0.008715454440486959), (1783, 0.008712602837687931), (1955, 0.008710821545221056), (120, 0.008695818293711782), (3650, 0.008687836675634025), (725, 0.008684938827539783), (836, 0.008683802649372706), (657, 0.008682381004311018), (1670, 0.008680157594607232), (546, 0.008676474012895145), (2260, 0.00866804866512452), (1804, 0.008665445803846214), (3581, 0.008659908687835805), (3646, 0.008650953075397972), (2812, 0.008645031891451377), (1487, 0.0086442122636988), (1423, 0.008619378669693742), (1463, 0.008618584480541449), (405, 0.008608657827410928), (1328, 0.00859994347262183), (2646, 0.00857933554739247), (4338, 0.008565672531592444), (1839, 0.00856492236836594), (3728, 0.008550935557152396), (345, 0.008541347983549125), (1744, 0.008540164770125695), (2972, 0.008531919586351197), (2466, 0.00852925077567044), (1713, 0.008527787377672357), (2461, 0.008526916301934764), (1155, 0.008510072027296511), (299, 0.008508114394813682), (3459, 0.008498367973155849), (3545, 0.008490118231519671), (3033, 0.008485779651591141), (3704, 0.00847368044959332), (3389, 0.008473616492550866), (3841, 0.00846446420709577), (1683, 0.008455422117623936), (2050, 0.008454564139851913), (1690, 0.008433445643776374), (715, 0.008427384210866246), (3112, 0.0083827637257277), (1358, 0.008374881934712508), (1425, 0.008368543568607362), (2006, 0.00834988879491435), (4569, 0.008347707467950332), (300, 0.008343808536077734), (3682, 0.008339544605854152), (3835, 0.008328842620966996), (1943, 0.008323825178558389), (3066, 0.008321436281357519), (4330, 0.008317373077293412), (2603, 0.008316347950572147), (1598, 0.008302371587057817), (1863, 0.00829496340034633), (2867, 0.008293782433752684), (511, 0.008291869081770669), (1875, 0.008290697540412314), (1513, 0.008287113519767703), (597, 0.008282698588554743), (4405, 0.008243149871838721), (199, 0.00822623046142287), (2544, 0.008223420398431061), (528, 0.00822066087424382), (1370, 0.00822047441165898), (770, 0.008220302379844599), (1451, 0.008210518677725953), (2046, 0.00816973401197172), (1610, 0.008155417320303655), (4356, 0.008135675622404703), (4348, 0.008133649090767352), (824, 0.008128235300192464), (2049, 0.008117544633340242), (3211, 0.008103416333685266), (519, 0.008087154420761881), (2887, 0.00807945903351854), (1308, 0.008069110162983529), (2100, 0.008068823002578128), (2549, 0.008055550504544798), (2055, 0.008053078031215235), (2976, 0.008040635727644133), (3096, 0.008011366838428713), (2176, 0.007971303241250014), (242, 0.007969102703611728), (3785, 0.007964720758353023), (1268, 0.007958080864606318), (4218, 0.0079579643385868), (1676, 0.00794357309274134), (4447, 0.007922762306065876), (2770, 0.007903126815097665), (2265, 0.007892220999233271), (1684, 0.007887111860933682), (3923, 0.007886070711557886), (3980, 0.007833764109145455), (2517, 0.007827167012266944), (4603, 0.007821005792910441), (498, 0.007813565277967078), (437, 0.007809411040658271), (1144, 0.007789594291551221), (527, 0.007780656380399014), (1539, 0.007775684423620918), (726, 0.007715066782268002), (1830, 0.0077100816334633535), (1932, 0.0077068498419982714), (2364, 0.007698484680765083), (3716, 0.007676557991178897), (2616, 0.0076635064080656885), (3894, 0.007658301973198821), (3726, 0.0076232800411234255), (2389, 0.007608619118575353), (1581, 0.0075023480441174135), (3058, 0.007480770728359948), (1695, 0.007421909181014283), (3533, 0.007357907487098337), (4598, 0.007356308946011059), (2052, 0.007346214890342776), (117, 0.007317787028583727), (720, 0.007239981338072645), (497, 0.007229381366063089), (2087, 0.007162846978597496), (0, 0.0), (1, 0.0), (3, 0.0), (4, 0.0), (5, 0.0), (6, 0.0), (7, 0.0), (8, 0.0), (9, 0.0), (10, 0.0), (11, 0.0), (12, 0.0), (13, 0.0), (15, 0.0), (16, 0.0), (17, 0.0), (18, 0.0), (19, 0.0), (20, 0.0), (21, 0.0), (23, 0.0), (24, 0.0), (25, 0.0), (27, 0.0), (28, 0.0), (29, 0.0), (30, 0.0), (31, 0.0), (32, 0.0), (33, 0.0), (34, 0.0), (35, 0.0), (36, 0.0), (37, 0.0), (38, 0.0), (39, 0.0), (40, 0.0), (41, 0.0), (42, 0.0), (43, 0.0), (44, 0.0), (46, 0.0), (48, 0.0), (50, 0.0), (51, 0.0), (52, 0.0), (54, 0.0), (55, 0.0), (56, 0.0), (59, 0.0), (60, 0.0), (62, 0.0), (63, 0.0), (65, 0.0), (66, 0.0), (67, 0.0), (68, 0.0), (69, 0.0), (71, 0.0), (74, 0.0), (75, 0.0), (76, 0.0), (77, 0.0), (78, 0.0), (79, 0.0), (80, 0.0), (81, 0.0), (82, 0.0), (83, 0.0), (84, 0.0), (85, 0.0), (86, 0.0), (87, 0.0), (88, 0.0), (89, 0.0), (90, 0.0), (92, 0.0), (93, 0.0), (94, 0.0), (95, 0.0), (96, 0.0), (97, 0.0), (98, 0.0), (99, 0.0), (100, 0.0), (101, 0.0), (102, 0.0), (103, 0.0), (104, 0.0), (105, 0.0), (106, 0.0), (107, 0.0), (108, 0.0), (110, 0.0), (111, 0.0), (112, 0.0), (113, 0.0), (114, 0.0), (115, 0.0), (116, 0.0), (118, 0.0), (119, 0.0), (122, 0.0), (123, 0.0), (124, 0.0), (125, 0.0), (126, 0.0), (127, 0.0), (128, 0.0), (129, 0.0), (130, 0.0), (131, 0.0), (132, 0.0), (133, 0.0), (134, 0.0), (135, 0.0), (138, 0.0), (139, 0.0), (141, 0.0), (142, 0.0), (143, 0.0), (145, 0.0), (147, 0.0), (148, 0.0), (150, 0.0), (151, 0.0), (152, 0.0), (155, 0.0), (156, 0.0), (157, 0.0), (158, 0.0), (159, 0.0), (161, 0.0), (162, 0.0), (163, 0.0), (165, 0.0), (168, 0.0), (171, 0.0), (172, 0.0), (174, 0.0), (175, 0.0), (180, 0.0), (181, 0.0), (184, 0.0), (186, 0.0), (189, 0.0), (190, 0.0), (191, 0.0), (192, 0.0), (193, 0.0), (194, 0.0), (195, 0.0), (197, 0.0), (200, 0.0), (202, 0.0), (203, 0.0), (204, 0.0), (205, 0.0), (206, 0.0), (207, 0.0), (209, 0.0), (210, 0.0), (211, 0.0), (212, 0.0), (213, 0.0), (214, 0.0), (215, 0.0), (216, 0.0), (217, 0.0), (218, 0.0), (220, 0.0), (221, 0.0), (222, 0.0), (223, 0.0), (224, 0.0), (225, 0.0), (226, 0.0), (227, 0.0), (228, 0.0), (231, 0.0), (232, 0.0), (234, 0.0), (235, 0.0), (236, 0.0), (237, 0.0), (238, 0.0), (239, 0.0), (240, 0.0), (241, 0.0), (243, 0.0), (244, 0.0), (246, 0.0), (248, 0.0), (249, 0.0), (250, 0.0), (251, 0.0), (252, 0.0), (253, 0.0), (255, 0.0), (256, 0.0), (258, 0.0), (259, 0.0), (260, 0.0), (261, 0.0), (262, 0.0), (263, 0.0), (264, 0.0), (265, 0.0), (266, 0.0), (267, 0.0), (268, 0.0), (269, 0.0), (270, 0.0), (272, 0.0), (273, 0.0), (274, 0.0), (276, 0.0), (278, 0.0), (280, 0.0), (282, 0.0), (283, 0.0), (284, 0.0), (285, 0.0), (287, 0.0), (288, 0.0), (289, 0.0), (290, 0.0), (291, 0.0), (293, 0.0), (294, 0.0), (295, 0.0), (296, 0.0), (303, 0.0), (304, 0.0), (305, 0.0), (306, 0.0), (307, 0.0), (310, 0.0), (311, 0.0), (313, 0.0), (314, 0.0), (315, 0.0), (316, 0.0), (318, 0.0), (319, 0.0), (320, 0.0), (321, 0.0), (322, 0.0), (323, 0.0), (325, 0.0), (326, 0.0), (327, 0.0), (328, 0.0), (329, 0.0), (330, 0.0), (331, 0.0), (332, 0.0), (333, 0.0), (336, 0.0), (338, 0.0), (339, 0.0), (342, 0.0), (343, 0.0), (348, 0.0), (349, 0.0), (352, 0.0), (354, 0.0), (356, 0.0), (357, 0.0), (358, 0.0), (359, 0.0), (364, 0.0), (366, 0.0), (367, 0.0), (368, 0.0), (371, 0.0), (372, 0.0), (373, 0.0), (374, 0.0), (375, 0.0), (376, 0.0), (377, 0.0), (378, 0.0), (380, 0.0), (381, 0.0), (382, 0.0), (384, 0.0), (386, 0.0), (387, 0.0), (388, 0.0), (389, 0.0), (390, 0.0), (393, 0.0), (394, 0.0), (396, 0.0), (397, 0.0), (398, 0.0), (399, 0.0), (400, 0.0), (402, 0.0), (403, 0.0), (408, 0.0), (411, 0.0), (412, 0.0), (414, 0.0), (415, 0.0), (416, 0.0), (417, 0.0), (418, 0.0), (419, 0.0), (420, 0.0), (422, 0.0), (424, 0.0), (425, 0.0), (426, 0.0), (430, 0.0), (431, 0.0), (432, 0.0), (433, 0.0), (434, 0.0), (435, 0.0), (436, 0.0), (438, 0.0), (439, 0.0), (440, 0.0), (442, 0.0), (443, 0.0), (444, 0.0), (447, 0.0), (448, 0.0), (449, 0.0), (450, 0.0), (452, 0.0), (453, 0.0), (455, 0.0), (456, 0.0), (458, 0.0), (460, 0.0), (462, 0.0), (464, 0.0), (466, 0.0), (467, 0.0), (468, 0.0), (469, 0.0), (471, 0.0), (475, 0.0), (476, 0.0), (477, 0.0), (478, 0.0), (479, 0.0), (480, 0.0), (481, 0.0), (482, 0.0), (483, 0.0), (484, 0.0), (485, 0.0), (486, 0.0), (487, 0.0), (491, 0.0), (492, 0.0), (493, 0.0), (494, 0.0), (495, 0.0), (496, 0.0), (499, 0.0), (501, 0.0), (502, 0.0), (503, 0.0), (504, 0.0), (505, 0.0), (506, 0.0), (508, 0.0), (509, 0.0), (510, 0.0), (512, 0.0), (513, 0.0), (514, 0.0), (515, 0.0), (516, 0.0), (518, 0.0), (520, 0.0), (521, 0.0), (523, 0.0), (525, 0.0), (526, 0.0), (529, 0.0), (530, 0.0), (531, 0.0), (532, 0.0), (533, 0.0), (534, 0.0), (535, 0.0), (536, 0.0), (537, 0.0), (538, 0.0), (539, 0.0), (541, 0.0), (542, 0.0), (543, 0.0), (544, 0.0), (545, 0.0), (547, 0.0), (550, 0.0), (551, 0.0), (552, 0.0), (553, 0.0), (554, 0.0), (555, 0.0), (556, 0.0), (557, 0.0), (558, 0.0), (559, 0.0), (560, 0.0), (561, 0.0), (562, 0.0), (563, 0.0), (564, 0.0), (565, 0.0), (566, 0.0), (567, 0.0), (568, 0.0), (570, 0.0), (571, 0.0), (572, 0.0), (573, 0.0), (574, 0.0), (575, 0.0), (577, 0.0), (579, 0.0), (580, 0.0), (581, 0.0), (582, 0.0), (583, 0.0), (586, 0.0), (587, 0.0), (588, 0.0), (589, 0.0), (590, 0.0), (591, 0.0), (592, 0.0), (593, 0.0), (595, 0.0), (598, 0.0), (599, 0.0), (601, 0.0), (602, 0.0), (603, 0.0), (604, 0.0), (605, 0.0), (606, 0.0), (608, 0.0), (609, 0.0), (610, 0.0), (612, 0.0), (613, 0.0), (614, 0.0), (616, 0.0), (617, 0.0), (618, 0.0), (621, 0.0), (622, 0.0), (623, 0.0), (625, 0.0), (626, 0.0), (627, 0.0), (630, 0.0), (632, 0.0), (633, 0.0), (634, 0.0), (635, 0.0), (636, 0.0), (637, 0.0), (638, 0.0), (639, 0.0), (642, 0.0), (644, 0.0), (645, 0.0), (647, 0.0), (648, 0.0), (649, 0.0), (650, 0.0), (652, 0.0), (653, 0.0), (654, 0.0), (655, 0.0), (656, 0.0), (658, 0.0), (659, 0.0), (660, 0.0), (661, 0.0), (663, 0.0), (664, 0.0), (665, 0.0), (666, 0.0), (667, 0.0), (668, 0.0), (669, 0.0), (670, 0.0), (671, 0.0), (672, 0.0), (673, 0.0), (675, 0.0), (676, 0.0), (677, 0.0), (678, 0.0), (679, 0.0), (680, 0.0), (681, 0.0), (682, 0.0), (683, 0.0), (684, 0.0), (685, 0.0), (687, 0.0), (688, 0.0), (690, 0.0), (692, 0.0), (694, 0.0), (696, 0.0), (697, 0.0), (699, 0.0), (701, 0.0), (702, 0.0), (704, 0.0), (707, 0.0), (708, 0.0), (709, 0.0), (710, 0.0), (711, 0.0), (716, 0.0), (718, 0.0), (719, 0.0), (721, 0.0), (722, 0.0), (723, 0.0), (727, 0.0), (728, 0.0), (729, 0.0), (731, 0.0), (732, 0.0), (733, 0.0), (734, 0.0), (735, 0.0), (736, 0.0), (737, 0.0), (738, 0.0), (739, 0.0), (740, 0.0), (741, 0.0), (744, 0.0), (746, 0.0), (747, 0.0), (748, 0.0), (749, 0.0), (750, 0.0), (751, 0.0), (754, 0.0), (756, 0.0), (757, 0.0), (758, 0.0), (759, 0.0), (760, 0.0), (761, 0.0), (762, 0.0), (763, 0.0), (764, 0.0), (765, 0.0), (766, 0.0), (767, 0.0), (771, 0.0), (772, 0.0), (774, 0.0), (775, 0.0), (776, 0.0), (777, 0.0), (779, 0.0), (780, 0.0), (782, 0.0), (783, 0.0), (784, 0.0), (785, 0.0), (786, 0.0), (788, 0.0), (789, 0.0), (790, 0.0), (791, 0.0), (792, 0.0), (793, 0.0), (795, 0.0), (796, 0.0), (798, 0.0), (799, 0.0), (800, 0.0), (801, 0.0), (803, 0.0), (804, 0.0), (805, 0.0), (806, 0.0), (808, 0.0), (809, 0.0), (810, 0.0), (811, 0.0), (812, 0.0), (813, 0.0), (814, 0.0), (815, 0.0), (816, 0.0), (818, 0.0), (820, 0.0), (822, 0.0), (823, 0.0), (825, 0.0), (826, 0.0), (827, 0.0), (828, 0.0), (829, 0.0), (830, 0.0), (832, 0.0), (833, 0.0), (834, 0.0), (835, 0.0), (837, 0.0), (838, 0.0), (839, 0.0), (840, 0.0), (841, 0.0), (842, 0.0), (844, 0.0), (845, 0.0), (846, 0.0), (848, 0.0), (851, 0.0), (855, 0.0), (857, 0.0), (858, 0.0), (860, 0.0), (861, 0.0), (862, 0.0), (864, 0.0), (865, 0.0), (866, 0.0), (867, 0.0), (868, 0.0), (869, 0.0), (870, 0.0), (871, 0.0), (873, 0.0), (874, 0.0), (875, 0.0), (876, 0.0), (877, 0.0), (878, 0.0), (881, 0.0), (883, 0.0), (885, 0.0), (886, 0.0), (888, 0.0), (889, 0.0), (890, 0.0), (891, 0.0), (892, 0.0), (893, 0.0), (894, 0.0), (895, 0.0), (896, 0.0), (897, 0.0), (898, 0.0), (902, 0.0), (903, 0.0), (904, 0.0), (905, 0.0), (906, 0.0), (907, 0.0), (908, 0.0), (910, 0.0), (911, 0.0), (913, 0.0), (914, 0.0), (916, 0.0), (917, 0.0), (918, 0.0), (919, 0.0), (921, 0.0), (922, 0.0), (923, 0.0), (924, 0.0), (925, 0.0), (927, 0.0), (928, 0.0), (929, 0.0), (930, 0.0), (933, 0.0), (934, 0.0), (937, 0.0), (938, 0.0), (939, 0.0), (941, 0.0), (942, 0.0), (943, 0.0), (944, 0.0), (945, 0.0), (947, 0.0), (949, 0.0), (950, 0.0), (951, 0.0), (952, 0.0), (953, 0.0), (955, 0.0), (956, 0.0), (957, 0.0), (958, 0.0), (959, 0.0), (960, 0.0), (962, 0.0), (963, 0.0), (964, 0.0), (965, 0.0), (966, 0.0), (967, 0.0), (968, 0.0), (969, 0.0), (970, 0.0), (972, 0.0), (973, 0.0), (974, 0.0), (975, 0.0), (979, 0.0), (980, 0.0), (981, 0.0), (982, 0.0), (983, 0.0), (984, 0.0), (985, 0.0), (986, 0.0), (987, 0.0), (990, 0.0), (991, 0.0), (992, 0.0), (993, 0.0), (994, 0.0), (995, 0.0), (996, 0.0), (997, 0.0), (999, 0.0), (1000, 0.0), (1001, 0.0), (1003, 0.0), (1005, 0.0), (1007, 0.0), (1010, 0.0), (1012, 0.0), (1015, 0.0), (1017, 0.0), (1018, 0.0), (1019, 0.0), (1020, 0.0), (1022, 0.0), (1023, 0.0), (1024, 0.0), (1026, 0.0), (1027, 0.0), (1028, 0.0), (1029, 0.0), (1030, 0.0), (1031, 0.0), (1032, 0.0), (1033, 0.0), (1034, 0.0), (1035, 0.0), (1036, 0.0), (1037, 0.0), (1039, 0.0), (1042, 0.0), (1043, 0.0), (1044, 0.0), (1045, 0.0), (1047, 0.0), (1048, 0.0), (1051, 0.0), (1052, 0.0), (1053, 0.0), (1054, 0.0), (1055, 0.0), (1056, 0.0), (1058, 0.0), (1059, 0.0), (1060, 0.0), (1061, 0.0), (1063, 0.0), (1064, 0.0), (1065, 0.0), (1066, 0.0), (1068, 0.0), (1069, 0.0), (1070, 0.0), (1071, 0.0), (1074, 0.0), (1075, 0.0), (1078, 0.0), (1080, 0.0), (1081, 0.0), (1082, 0.0), (1083, 0.0), (1086, 0.0), (1087, 0.0), (1089, 0.0), (1090, 0.0), (1091, 0.0), (1093, 0.0), (1096, 0.0), (1097, 0.0), (1098, 0.0), (1099, 0.0), (1100, 0.0), (1101, 0.0), (1102, 0.0), (1105, 0.0), (1106, 0.0), (1108, 0.0), (1109, 0.0), (1110, 0.0), (1111, 0.0), (1113, 0.0), (1115, 0.0), (1117, 0.0), (1118, 0.0), (1119, 0.0), (1120, 0.0), (1121, 0.0), (1122, 0.0), (1123, 0.0), (1124, 0.0), (1125, 0.0), (1126, 0.0), (1127, 0.0), (1128, 0.0), (1129, 0.0), (1130, 0.0), (1131, 0.0), (1133, 0.0), (1134, 0.0), (1135, 0.0), (1136, 0.0), (1137, 0.0), (1138, 0.0), (1139, 0.0), (1140, 0.0), (1143, 0.0), (1145, 0.0), (1146, 0.0), (1147, 0.0), (1148, 0.0), (1149, 0.0), (1150, 0.0), (1151, 0.0), (1152, 0.0), (1153, 0.0), (1154, 0.0), (1156, 0.0), (1157, 0.0), (1158, 0.0), (1159, 0.0), (1160, 0.0), (1164, 0.0), (1167, 0.0), (1169, 0.0), (1170, 0.0), (1172, 0.0), (1173, 0.0), (1174, 0.0), (1175, 0.0), (1177, 0.0), (1178, 0.0), (1179, 0.0), (1180, 0.0), (1181, 0.0), (1183, 0.0), (1184, 0.0), (1185, 0.0), (1186, 0.0), (1187, 0.0), (1188, 0.0), (1190, 0.0), (1191, 0.0), (1192, 0.0), (1193, 0.0), (1194, 0.0), (1197, 0.0), (1199, 0.0), (1200, 0.0), (1201, 0.0), (1203, 0.0), (1205, 0.0), (1207, 0.0), (1209, 0.0), (1210, 0.0), (1211, 0.0), (1213, 0.0), (1214, 0.0), (1215, 0.0), (1216, 0.0), (1218, 0.0), (1219, 0.0), (1220, 0.0), (1221, 0.0), (1224, 0.0), (1225, 0.0), (1226, 0.0), (1227, 0.0), (1228, 0.0), (1229, 0.0), (1230, 0.0), (1232, 0.0), (1233, 0.0), (1234, 0.0), (1236, 0.0), (1237, 0.0), (1238, 0.0), (1239, 0.0), (1240, 0.0), (1242, 0.0), (1243, 0.0), (1244, 0.0), (1245, 0.0), (1247, 0.0), (1248, 0.0), (1249, 0.0), (1250, 0.0), (1252, 0.0), (1253, 0.0), (1254, 0.0), (1256, 0.0), (1258, 0.0), (1259, 0.0), (1260, 0.0), (1261, 0.0), (1262, 0.0), (1263, 0.0), (1264, 0.0), (1265, 0.0), (1266, 0.0), (1267, 0.0), (1269, 0.0), (1270, 0.0), (1271, 0.0), (1272, 0.0), (1273, 0.0), (1274, 0.0), (1275, 0.0), (1277, 0.0), (1278, 0.0), (1279, 0.0), (1280, 0.0), (1281, 0.0), (1282, 0.0), (1283, 0.0), (1286, 0.0), (1287, 0.0), (1288, 0.0), (1289, 0.0), (1290, 0.0), (1293, 0.0), (1294, 0.0), (1295, 0.0), (1296, 0.0), (1297, 0.0), (1299, 0.0), (1301, 0.0), (1302, 0.0), (1303, 0.0), (1304, 0.0), (1305, 0.0), (1306, 0.0), (1312, 0.0), (1313, 0.0), (1314, 0.0), (1315, 0.0), (1316, 0.0), (1317, 0.0), (1318, 0.0), (1320, 0.0), (1321, 0.0), (1322, 0.0), (1324, 0.0), (1325, 0.0), (1326, 0.0), (1329, 0.0), (1330, 0.0), (1331, 0.0), (1332, 0.0), (1334, 0.0), (1335, 0.0), (1337, 0.0), (1340, 0.0), (1341, 0.0), (1342, 0.0), (1343, 0.0), (1344, 0.0), (1345, 0.0), (1346, 0.0), (1347, 0.0), (1349, 0.0), (1350, 0.0), (1353, 0.0), (1354, 0.0), (1355, 0.0), (1357, 0.0), (1359, 0.0), (1360, 0.0), (1362, 0.0), (1363, 0.0), (1366, 0.0), (1367, 0.0), (1369, 0.0), (1371, 0.0), (1372, 0.0), (1374, 0.0), (1375, 0.0), (1377, 0.0), (1378, 0.0), (1379, 0.0), (1380, 0.0), (1381, 0.0), (1382, 0.0), (1384, 0.0), (1385, 0.0), (1386, 0.0), (1387, 0.0), (1388, 0.0), (1390, 0.0), (1391, 0.0), (1392, 0.0), (1393, 0.0), (1395, 0.0), (1396, 0.0), (1398, 0.0), (1399, 0.0), (1400, 0.0), (1401, 0.0), (1402, 0.0), (1404, 0.0), (1407, 0.0), (1408, 0.0), (1410, 0.0), (1411, 0.0), (1412, 0.0), (1413, 0.0), (1414, 0.0), (1415, 0.0), (1416, 0.0), (1417, 0.0), (1418, 0.0), (1419, 0.0), (1420, 0.0), (1422, 0.0), (1424, 0.0), (1426, 0.0), (1428, 0.0), (1429, 0.0), (1430, 0.0), (1431, 0.0), (1432, 0.0), (1434, 0.0), (1435, 0.0), (1436, 0.0), (1437, 0.0), (1438, 0.0), (1439, 0.0), (1440, 0.0), (1441, 0.0), (1442, 0.0), (1443, 0.0), (1444, 0.0), (1445, 0.0), (1446, 0.0), (1448, 0.0), (1449, 0.0), (1450, 0.0), (1452, 0.0), (1453, 0.0), (1454, 0.0), (1455, 0.0), (1456, 0.0), (1457, 0.0), (1458, 0.0), (1459, 0.0), (1462, 0.0), (1467, 0.0), (1468, 0.0), (1469, 0.0), (1470, 0.0), (1471, 0.0), (1472, 0.0), (1475, 0.0), (1476, 0.0), (1478, 0.0), (1479, 0.0), (1480, 0.0), (1483, 0.0), (1486, 0.0), (1488, 0.0), (1489, 0.0), (1490, 0.0), (1491, 0.0), (1493, 0.0), (1494, 0.0), (1497, 0.0), (1498, 0.0), (1499, 0.0), (1500, 0.0), (1501, 0.0), (1502, 0.0), (1503, 0.0), (1504, 0.0), (1506, 0.0), (1507, 0.0), (1508, 0.0), (1509, 0.0), (1510, 0.0), (1511, 0.0), (1512, 0.0), (1514, 0.0), (1515, 0.0), (1516, 0.0), (1517, 0.0), (1518, 0.0), (1519, 0.0), (1526, 0.0), (1527, 0.0), (1528, 0.0), (1530, 0.0), (1533, 0.0), (1534, 0.0), (1535, 0.0), (1536, 0.0), (1540, 0.0), (1542, 0.0), (1543, 0.0), (1544, 0.0), (1545, 0.0), (1546, 0.0), (1547, 0.0), (1548, 0.0), (1549, 0.0), (1550, 0.0), (1551, 0.0), (1553, 0.0), (1554, 0.0), (1556, 0.0), (1558, 0.0), (1559, 0.0), (1560, 0.0), (1562, 0.0), (1563, 0.0), (1565, 0.0), (1566, 0.0), (1567, 0.0), (1568, 0.0), (1569, 0.0), (1571, 0.0), (1572, 0.0), (1573, 0.0), (1575, 0.0), (1576, 0.0), (1577, 0.0), (1579, 0.0), (1580, 0.0), (1582, 0.0), (1583, 0.0), (1584, 0.0), (1585, 0.0), (1587, 0.0), (1588, 0.0), (1589, 0.0), (1590, 0.0), (1591, 0.0), (1592, 0.0), (1593, 0.0), (1595, 0.0), (1596, 0.0), (1597, 0.0), (1599, 0.0), (1603, 0.0), (1605, 0.0), (1608, 0.0), (1611, 0.0), (1612, 0.0), (1614, 0.0), (1616, 0.0), (1617, 0.0), (1618, 0.0), (1619, 0.0), (1620, 0.0), (1622, 0.0), (1623, 0.0), (1624, 0.0), (1626, 0.0), (1627, 0.0), (1628, 0.0), (1629, 0.0), (1630, 0.0), (1631, 0.0), (1632, 0.0), (1633, 0.0), (1635, 0.0), (1636, 0.0), (1637, 0.0), (1638, 0.0), (1639, 0.0), (1641, 0.0), (1642, 0.0), (1644, 0.0), (1645, 0.0), (1648, 0.0), (1649, 0.0), (1650, 0.0), (1651, 0.0), (1652, 0.0), (1653, 0.0), (1654, 0.0), (1655, 0.0), (1656, 0.0), (1657, 0.0), (1658, 0.0), (1659, 0.0), (1660, 0.0), (1661, 0.0), (1662, 0.0), (1665, 0.0), (1666, 0.0), (1668, 0.0), (1669, 0.0), (1671, 0.0), (1672, 0.0), (1674, 0.0), (1675, 0.0), (1677, 0.0), (1678, 0.0), (1679, 0.0), (1680, 0.0), (1681, 0.0), (1682, 0.0), (1685, 0.0), (1686, 0.0), (1687, 0.0), (1688, 0.0), (1689, 0.0), (1691, 0.0), (1692, 0.0), (1693, 0.0), (1694, 0.0), (1696, 0.0), (1699, 0.0), (1701, 0.0), (1702, 0.0), (1705, 0.0), (1707, 0.0), (1708, 0.0), (1709, 0.0), (1710, 0.0), (1716, 0.0), (1717, 0.0), (1718, 0.0), (1719, 0.0), (1721, 0.0), (1722, 0.0), (1723, 0.0), (1725, 0.0), (1727, 0.0), (1728, 0.0), (1729, 0.0), (1730, 0.0), (1732, 0.0), (1733, 0.0), (1734, 0.0), (1735, 0.0), (1736, 0.0), (1738, 0.0), (1739, 0.0), (1740, 0.0), (1742, 0.0), (1743, 0.0), (1745, 0.0), (1746, 0.0), (1747, 0.0), (1748, 0.0), (1749, 0.0), (1750, 0.0), (1751, 0.0), (1752, 0.0), (1753, 0.0), (1754, 0.0), (1756, 0.0), (1757, 0.0), (1760, 0.0), (1761, 0.0), (1763, 0.0), (1764, 0.0), (1765, 0.0), (1767, 0.0), (1770, 0.0), (1772, 0.0), (1773, 0.0), (1775, 0.0), (1776, 0.0), (1777, 0.0), (1779, 0.0), (1780, 0.0), (1781, 0.0), (1782, 0.0), (1785, 0.0), (1786, 0.0), (1787, 0.0), (1789, 0.0), (1790, 0.0), (1791, 0.0), (1792, 0.0), (1793, 0.0), (1795, 0.0), (1796, 0.0), (1797, 0.0), (1798, 0.0), (1799, 0.0), (1801, 0.0), (1802, 0.0), (1803, 0.0), (1805, 0.0), (1806, 0.0), (1807, 0.0), (1808, 0.0), (1809, 0.0), (1811, 0.0), (1814, 0.0), (1815, 0.0), (1816, 0.0), (1817, 0.0), (1818, 0.0), (1819, 0.0), (1821, 0.0), (1822, 0.0), (1823, 0.0), (1824, 0.0), (1825, 0.0), (1826, 0.0), (1827, 0.0), (1828, 0.0), (1829, 0.0), (1831, 0.0), (1832, 0.0), (1838, 0.0), (1840, 0.0), (1847, 0.0), (1848, 0.0), (1851, 0.0), (1852, 0.0), (1853, 0.0), (1855, 0.0), (1856, 0.0), (1857, 0.0), (1858, 0.0), (1859, 0.0), (1860, 0.0), (1865, 0.0), (1867, 0.0), (1869, 0.0), (1870, 0.0), (1871, 0.0), (1872, 0.0), (1873, 0.0), (1874, 0.0), (1876, 0.0), (1879, 0.0), (1880, 0.0), (1881, 0.0), (1882, 0.0), (1884, 0.0), (1885, 0.0), (1887, 0.0), (1890, 0.0), (1892, 0.0), (1893, 0.0), (1894, 0.0), (1895, 0.0), (1896, 0.0), (1897, 0.0), (1899, 0.0), (1900, 0.0), (1901, 0.0), (1903, 0.0), (1904, 0.0), (1905, 0.0), (1906, 0.0), (1908, 0.0), (1909, 0.0), (1910, 0.0), (1914, 0.0), (1915, 0.0), (1916, 0.0), (1917, 0.0), (1918, 0.0), (1919, 0.0), (1920, 0.0), (1921, 0.0), (1922, 0.0), (1923, 0.0), (1924, 0.0), (1925, 0.0), (1926, 0.0), (1928, 0.0), (1929, 0.0), (1930, 0.0), (1931, 0.0), (1933, 0.0), (1934, 0.0), (1937, 0.0), (1938, 0.0), (1939, 0.0), (1940, 0.0), (1941, 0.0), (1942, 0.0), (1944, 0.0), (1945, 0.0), (1946, 0.0), (1947, 0.0), (1948, 0.0), (1949, 0.0), (1952, 0.0), (1956, 0.0), (1957, 0.0), (1960, 0.0), (1962, 0.0), (1964, 0.0), (1965, 0.0), (1966, 0.0), (1967, 0.0), (1968, 0.0), (1969, 0.0), (1970, 0.0), (1971, 0.0), (1972, 0.0), (1974, 0.0), (1975, 0.0), (1976, 0.0), (1977, 0.0), (1978, 0.0), (1980, 0.0), (1981, 0.0), (1982, 0.0), (1983, 0.0), (1984, 0.0), (1985, 0.0), (1986, 0.0), (1987, 0.0), (1990, 0.0), (1991, 0.0), (1992, 0.0), (1993, 0.0), (1994, 0.0), (1995, 0.0), (1996, 0.0), (1997, 0.0), (1998, 0.0), (2000, 0.0), (2001, 0.0), (2002, 0.0), (2003, 0.0), (2004, 0.0), (2007, 0.0), (2008, 0.0), (2010, 0.0), (2011, 0.0), (2012, 0.0), (2013, 0.0), (2014, 0.0), (2015, 0.0), (2017, 0.0), (2018, 0.0), (2020, 0.0), (2021, 0.0), (2022, 0.0), (2023, 0.0), (2024, 0.0), (2025, 0.0), (2026, 0.0), (2027, 0.0), (2028, 0.0), (2031, 0.0), (2032, 0.0), (2033, 0.0), (2034, 0.0), (2035, 0.0), (2036, 0.0), (2037, 0.0), (2039, 0.0), (2042, 0.0), (2043, 0.0), (2044, 0.0), (2045, 0.0), (2047, 0.0), (2048, 0.0), (2051, 0.0), (2053, 0.0), (2054, 0.0), (2056, 0.0), (2057, 0.0), (2058, 0.0), (2060, 0.0), (2062, 0.0), (2063, 0.0), (2064, 0.0), (2065, 0.0), (2066, 0.0), (2067, 0.0), (2068, 0.0), (2069, 0.0), (2070, 0.0), (2071, 0.0), (2072, 0.0), (2073, 0.0), (2074, 0.0), (2075, 0.0), (2076, 0.0), (2077, 0.0), (2078, 0.0), (2079, 0.0), (2080, 0.0), (2081, 0.0), (2083, 0.0), (2084, 0.0), (2085, 0.0), (2088, 0.0), (2089, 0.0), (2090, 0.0), (2092, 0.0), (2093, 0.0), (2094, 0.0), (2096, 0.0), (2101, 0.0), (2103, 0.0), (2104, 0.0), (2105, 0.0), (2106, 0.0), (2107, 0.0), (2108, 0.0), (2110, 0.0), (2112, 0.0), (2114, 0.0), (2115, 0.0), (2118, 0.0), (2119, 0.0), (2120, 0.0), (2122, 0.0), (2123, 0.0), (2124, 0.0), (2126, 0.0), (2127, 0.0), (2128, 0.0), (2129, 0.0), (2130, 0.0), (2131, 0.0), (2132, 0.0), (2133, 0.0), (2134, 0.0), (2136, 0.0), (2137, 0.0), (2139, 0.0), (2140, 0.0), (2141, 0.0), (2142, 0.0), (2146, 0.0), (2147, 0.0), (2148, 0.0), (2149, 0.0), (2151, 0.0), (2152, 0.0), (2155, 0.0), (2156, 0.0), (2158, 0.0), (2159, 0.0), (2160, 0.0), (2162, 0.0), (2163, 0.0), (2164, 0.0), (2165, 0.0), (2166, 0.0), (2167, 0.0), (2168, 0.0), (2169, 0.0), (2170, 0.0), (2172, 0.0), (2173, 0.0), (2174, 0.0), (2175, 0.0), (2177, 0.0), (2178, 0.0), (2180, 0.0), (2181, 0.0), (2182, 0.0), (2185, 0.0), (2186, 0.0), (2187, 0.0), (2188, 0.0), (2189, 0.0), (2191, 0.0), (2193, 0.0), (2194, 0.0), (2195, 0.0), (2196, 0.0), (2197, 0.0), (2202, 0.0), (2203, 0.0), (2204, 0.0), (2205, 0.0), (2206, 0.0), (2208, 0.0), (2209, 0.0), (2213, 0.0), (2214, 0.0), (2215, 0.0), (2216, 0.0), (2217, 0.0), (2218, 0.0), (2219, 0.0), (2220, 0.0), (2222, 0.0), (2224, 0.0), (2225, 0.0), (2226, 0.0), (2227, 0.0), (2228, 0.0), (2229, 0.0), (2230, 0.0), (2231, 0.0), (2233, 0.0), (2235, 0.0), (2236, 0.0), (2237, 0.0), (2238, 0.0), (2239, 0.0), (2240, 0.0), (2241, 0.0), (2242, 0.0), (2243, 0.0), (2244, 0.0), (2246, 0.0), (2247, 0.0), (2248, 0.0), (2249, 0.0), (2250, 0.0), (2251, 0.0), (2252, 0.0), (2253, 0.0), (2254, 0.0), (2255, 0.0), (2256, 0.0), (2258, 0.0), (2266, 0.0), (2268, 0.0), (2270, 0.0), (2271, 0.0), (2272, 0.0), (2273, 0.0), (2274, 0.0), (2275, 0.0), (2276, 0.0), (2277, 0.0), (2278, 0.0), (2279, 0.0), (2282, 0.0), (2285, 0.0), (2286, 0.0), (2287, 0.0), (2288, 0.0), (2289, 0.0), (2291, 0.0), (2293, 0.0), (2295, 0.0), (2296, 0.0), (2297, 0.0), (2298, 0.0), (2300, 0.0), (2302, 0.0), (2304, 0.0), (2305, 0.0), (2306, 0.0), (2308, 0.0), (2309, 0.0), (2310, 0.0), (2311, 0.0), (2312, 0.0), (2313, 0.0), (2314, 0.0), (2315, 0.0), (2318, 0.0), (2320, 0.0), (2323, 0.0), (2324, 0.0), (2325, 0.0), (2326, 0.0), (2328, 0.0), (2330, 0.0), (2333, 0.0), (2334, 0.0), (2336, 0.0), (2338, 0.0), (2339, 0.0), (2340, 0.0), (2341, 0.0), (2342, 0.0), (2343, 0.0), (2344, 0.0), (2345, 0.0), (2346, 0.0), (2347, 0.0), (2348, 0.0), (2349, 0.0), (2350, 0.0), (2353, 0.0), (2354, 0.0), (2355, 0.0), (2356, 0.0), (2357, 0.0), (2359, 0.0), (2360, 0.0), (2361, 0.0), (2362, 0.0), (2363, 0.0), (2366, 0.0), (2368, 0.0), (2369, 0.0), (2373, 0.0), (2374, 0.0), (2375, 0.0), (2376, 0.0), (2377, 0.0), (2378, 0.0), (2380, 0.0), (2382, 0.0), (2383, 0.0), (2384, 0.0), (2385, 0.0), (2386, 0.0), (2387, 0.0), (2388, 0.0), (2391, 0.0), (2394, 0.0), (2395, 0.0), (2396, 0.0), (2397, 0.0), (2399, 0.0), (2400, 0.0), (2401, 0.0), (2403, 0.0), (2404, 0.0), (2407, 0.0), (2409, 0.0), (2410, 0.0), (2412, 0.0), (2413, 0.0), (2415, 0.0), (2416, 0.0), (2417, 0.0), (2418, 0.0), (2419, 0.0), (2420, 0.0), (2422, 0.0), (2424, 0.0), (2425, 0.0), (2426, 0.0), (2427, 0.0), (2428, 0.0), (2429, 0.0), (2431, 0.0), (2432, 0.0), (2434, 0.0), (2436, 0.0), (2437, 0.0), (2438, 0.0), (2439, 0.0), (2442, 0.0), (2444, 0.0), (2445, 0.0), (2446, 0.0), (2447, 0.0), (2452, 0.0), (2453, 0.0), (2454, 0.0), (2455, 0.0), (2457, 0.0), (2458, 0.0), (2459, 0.0), (2463, 0.0), (2464, 0.0), (2465, 0.0), (2467, 0.0), (2468, 0.0), (2469, 0.0), (2470, 0.0), (2471, 0.0), (2474, 0.0), (2475, 0.0), (2477, 0.0), (2478, 0.0), (2480, 0.0), (2481, 0.0), (2482, 0.0), (2483, 0.0), (2486, 0.0), (2487, 0.0), (2488, 0.0), (2489, 0.0), (2490, 0.0), (2491, 0.0), (2492, 0.0), (2494, 0.0), (2495, 0.0), (2496, 0.0), (2497, 0.0), (2498, 0.0), (2499, 0.0), (2500, 0.0), (2501, 0.0), (2503, 0.0), (2505, 0.0), (2506, 0.0), (2508, 0.0), (2511, 0.0), (2512, 0.0), (2513, 0.0), (2514, 0.0), (2515, 0.0), (2518, 0.0), (2519, 0.0), (2520, 0.0), (2522, 0.0), (2523, 0.0), (2524, 0.0), (2526, 0.0), (2527, 0.0), (2529, 0.0), (2533, 0.0), (2534, 0.0), (2536, 0.0), (2537, 0.0), (2538, 0.0), (2541, 0.0), (2542, 0.0), (2543, 0.0), (2545, 0.0), (2546, 0.0), (2547, 0.0), (2548, 0.0), (2550, 0.0), (2551, 0.0), (2552, 0.0), (2556, 0.0), (2557, 0.0), (2558, 0.0), (2559, 0.0), (2560, 0.0), (2561, 0.0), (2563, 0.0), (2564, 0.0), (2565, 0.0), (2566, 0.0), (2567, 0.0), (2569, 0.0), (2570, 0.0), (2571, 0.0), (2572, 0.0), (2573, 0.0), (2575, 0.0), (2576, 0.0), (2578, 0.0), (2580, 0.0), (2581, 0.0), (2585, 0.0), (2586, 0.0), (2587, 0.0), (2588, 0.0), (2594, 0.0), (2596, 0.0), (2598, 0.0), (2599, 0.0), (2600, 0.0), (2601, 0.0), (2602, 0.0), (2606, 0.0), (2607, 0.0), (2608, 0.0), (2609, 0.0), (2610, 0.0), (2611, 0.0), (2613, 0.0), (2618, 0.0), (2619, 0.0), (2620, 0.0), (2621, 0.0), (2622, 0.0), (2624, 0.0), (2625, 0.0), (2626, 0.0), (2627, 0.0), (2628, 0.0), (2630, 0.0), (2631, 0.0), (2632, 0.0), (2633, 0.0), (2634, 0.0), (2635, 0.0), (2636, 0.0), (2638, 0.0), (2639, 0.0), (2640, 0.0), (2641, 0.0), (2642, 0.0), (2645, 0.0), (2648, 0.0), (2650, 0.0), (2651, 0.0), (2655, 0.0), (2657, 0.0), (2658, 0.0), (2659, 0.0), (2660, 0.0), (2665, 0.0), (2669, 0.0), (2670, 0.0), (2673, 0.0), (2674, 0.0), (2675, 0.0), (2676, 0.0), (2677, 0.0), (2678, 0.0), (2679, 0.0), (2680, 0.0), (2681, 0.0), (2684, 0.0), (2686, 0.0), (2687, 0.0), (2689, 0.0), (2690, 0.0), (2691, 0.0), (2692, 0.0), (2693, 0.0), (2694, 0.0), (2695, 0.0), (2696, 0.0), (2697, 0.0), (2698, 0.0), (2699, 0.0), (2700, 0.0), (2701, 0.0), (2702, 0.0), (2703, 0.0), (2705, 0.0), (2706, 0.0), (2707, 0.0), (2709, 0.0), (2712, 0.0), (2714, 0.0), (2716, 0.0), (2718, 0.0), (2720, 0.0), (2722, 0.0), (2724, 0.0), (2725, 0.0), (2726, 0.0), (2727, 0.0), (2728, 0.0), (2730, 0.0), (2731, 0.0), (2734, 0.0), (2735, 0.0), (2736, 0.0), (2737, 0.0), (2738, 0.0), (2739, 0.0), (2740, 0.0), (2742, 0.0), (2743, 0.0), (2744, 0.0), (2745, 0.0), (2746, 0.0), (2747, 0.0), (2748, 0.0), (2749, 0.0), (2750, 0.0), (2751, 0.0), (2753, 0.0), (2754, 0.0), (2755, 0.0), (2757, 0.0), (2759, 0.0), (2761, 0.0), (2762, 0.0), (2764, 0.0), (2765, 0.0), (2766, 0.0), (2767, 0.0), (2768, 0.0), (2769, 0.0), (2771, 0.0), (2773, 0.0), (2774, 0.0), (2775, 0.0), (2776, 0.0), (2777, 0.0), (2778, 0.0), (2779, 0.0), (2780, 0.0), (2784, 0.0), (2785, 0.0), (2786, 0.0), (2787, 0.0), (2788, 0.0), (2790, 0.0), (2791, 0.0), (2792, 0.0), (2793, 0.0), (2794, 0.0), (2795, 0.0), (2797, 0.0), (2798, 0.0), (2800, 0.0), (2801, 0.0), (2802, 0.0), (2803, 0.0), (2804, 0.0), (2805, 0.0), (2807, 0.0), (2808, 0.0), (2811, 0.0), (2815, 0.0), (2816, 0.0), (2817, 0.0), (2818, 0.0), (2819, 0.0), (2820, 0.0), (2821, 0.0), (2823, 0.0), (2824, 0.0), (2825, 0.0), (2826, 0.0), (2827, 0.0), (2828, 0.0), (2829, 0.0), (2830, 0.0), (2832, 0.0), (2833, 0.0), (2834, 0.0), (2836, 0.0), (2837, 0.0), (2838, 0.0), (2840, 0.0), (2841, 0.0), (2842, 0.0), (2843, 0.0), (2845, 0.0), (2846, 0.0), (2847, 0.0), (2848, 0.0), (2849, 0.0), (2850, 0.0), (2852, 0.0), (2854, 0.0), (2855, 0.0), (2858, 0.0), (2859, 0.0), (2860, 0.0), (2861, 0.0), (2862, 0.0), (2863, 0.0), (2865, 0.0), (2866, 0.0), (2868, 0.0), (2869, 0.0), (2870, 0.0), (2871, 0.0), (2872, 0.0), (2874, 0.0), (2875, 0.0), (2876, 0.0), (2877, 0.0), (2878, 0.0), (2879, 0.0), (2880, 0.0), (2881, 0.0), (2882, 0.0), (2883, 0.0), (2884, 0.0), (2886, 0.0), (2888, 0.0), (2889, 0.0), (2890, 0.0), (2891, 0.0), (2892, 0.0), (2894, 0.0), (2895, 0.0), (2898, 0.0), (2899, 0.0), (2900, 0.0), (2902, 0.0), (2903, 0.0), (2904, 0.0), (2905, 0.0), (2906, 0.0), (2907, 0.0), (2908, 0.0), (2910, 0.0), (2911, 0.0), (2912, 0.0), (2914, 0.0), (2917, 0.0), (2918, 0.0), (2919, 0.0), (2920, 0.0), (2921, 0.0), (2922, 0.0), (2923, 0.0), (2924, 0.0), (2925, 0.0), (2926, 0.0), (2928, 0.0), (2929, 0.0), (2930, 0.0), (2932, 0.0), (2933, 0.0), (2934, 0.0), (2935, 0.0), (2936, 0.0), (2937, 0.0), (2939, 0.0), (2940, 0.0), (2941, 0.0), (2942, 0.0), (2943, 0.0), (2945, 0.0), (2946, 0.0), (2947, 0.0), (2948, 0.0), (2949, 0.0), (2950, 0.0), (2951, 0.0), (2952, 0.0), (2953, 0.0), (2954, 0.0), (2955, 0.0), (2956, 0.0), (2957, 0.0), (2959, 0.0), (2960, 0.0), (2961, 0.0), (2962, 0.0), (2963, 0.0), (2965, 0.0), (2966, 0.0), (2967, 0.0), (2968, 0.0), (2969, 0.0), (2970, 0.0), (2971, 0.0), (2973, 0.0), (2974, 0.0), (2975, 0.0), (2977, 0.0), (2978, 0.0), (2979, 0.0), (2981, 0.0), (2982, 0.0), (2983, 0.0), (2984, 0.0), (2985, 0.0), (2986, 0.0), (2987, 0.0), (2988, 0.0), (2989, 0.0), (2990, 0.0), (2991, 0.0), (2992, 0.0), (2993, 0.0), (2994, 0.0), (2995, 0.0), (2996, 0.0), (2997, 0.0), (3000, 0.0), (3001, 0.0), (3002, 0.0), (3004, 0.0), (3005, 0.0), (3006, 0.0), (3007, 0.0), (3008, 0.0), (3009, 0.0), (3010, 0.0), (3011, 0.0), (3012, 0.0), (3013, 0.0), (3014, 0.0), (3016, 0.0), (3017, 0.0), (3018, 0.0), (3019, 0.0), (3020, 0.0), (3021, 0.0), (3022, 0.0), (3023, 0.0), (3024, 0.0), (3025, 0.0), (3026, 0.0), (3027, 0.0), (3028, 0.0), (3029, 0.0), (3031, 0.0), (3032, 0.0), (3035, 0.0), (3036, 0.0), (3037, 0.0), (3038, 0.0), (3039, 0.0), (3040, 0.0), (3041, 0.0), (3042, 0.0), (3043, 0.0), (3044, 0.0), (3045, 0.0), (3046, 0.0), (3047, 0.0), (3048, 0.0), (3049, 0.0), (3050, 0.0), (3051, 0.0), (3052, 0.0), (3053, 0.0), (3054, 0.0), (3055, 0.0), (3056, 0.0), (3057, 0.0), (3059, 0.0), (3060, 0.0), (3061, 0.0), (3062, 0.0), (3063, 0.0), (3064, 0.0), (3067, 0.0), (3068, 0.0), (3069, 0.0), (3070, 0.0), (3071, 0.0), (3072, 0.0), (3073, 0.0), (3075, 0.0), (3076, 0.0), (3077, 0.0), (3079, 0.0), (3082, 0.0), (3083, 0.0), (3085, 0.0), (3086, 0.0), (3087, 0.0), (3088, 0.0), (3092, 0.0), (3093, 0.0), (3095, 0.0), (3097, 0.0), (3099, 0.0), (3100, 0.0), (3101, 0.0), (3102, 0.0), (3103, 0.0), (3105, 0.0), (3106, 0.0), (3107, 0.0), (3108, 0.0), (3109, 0.0), (3110, 0.0), (3113, 0.0), (3114, 0.0), (3115, 0.0), (3117, 0.0), (3118, 0.0), (3122, 0.0), (3123, 0.0), (3124, 0.0), (3125, 0.0), (3126, 0.0), (3127, 0.0), (3129, 0.0), (3130, 0.0), (3131, 0.0), (3132, 0.0), (3133, 0.0), (3134, 0.0), (3135, 0.0), (3136, 0.0), (3139, 0.0), (3140, 0.0), (3143, 0.0), (3145, 0.0), (3146, 0.0), (3147, 0.0), (3149, 0.0), (3150, 0.0), (3152, 0.0), (3153, 0.0), (3154, 0.0), (3155, 0.0), (3156, 0.0), (3157, 0.0), (3158, 0.0), (3159, 0.0), (3160, 0.0), (3161, 0.0), (3163, 0.0), (3164, 0.0), (3165, 0.0), (3166, 0.0), (3168, 0.0), (3169, 0.0), (3170, 0.0), (3171, 0.0), (3172, 0.0), (3174, 0.0), (3175, 0.0), (3176, 0.0), (3177, 0.0), (3178, 0.0), (3180, 0.0), (3182, 0.0), (3183, 0.0), (3184, 0.0), (3185, 0.0), (3186, 0.0), (3190, 0.0), (3191, 0.0), (3193, 0.0), (3194, 0.0), (3195, 0.0), (3196, 0.0), (3197, 0.0), (3198, 0.0), (3200, 0.0), (3202, 0.0), (3203, 0.0), (3205, 0.0), (3206, 0.0), (3207, 0.0), (3209, 0.0), (3210, 0.0), (3213, 0.0), (3214, 0.0), (3215, 0.0), (3218, 0.0), (3220, 0.0), (3222, 0.0), (3223, 0.0), (3224, 0.0), (3227, 0.0), (3230, 0.0), (3231, 0.0), (3232, 0.0), (3233, 0.0), (3235, 0.0), (3237, 0.0), (3239, 0.0), (3240, 0.0), (3241, 0.0), (3242, 0.0), (3244, 0.0), (3245, 0.0), (3246, 0.0), (3247, 0.0), (3248, 0.0), (3249, 0.0), (3250, 0.0), (3251, 0.0), (3252, 0.0), (3253, 0.0), (3254, 0.0), (3255, 0.0), (3258, 0.0), (3259, 0.0), (3261, 0.0), (3262, 0.0), (3264, 0.0), (3265, 0.0), (3266, 0.0), (3267, 0.0), (3268, 0.0), (3269, 0.0), (3270, 0.0), (3271, 0.0), (3273, 0.0), (3274, 0.0), (3275, 0.0), (3276, 0.0), (3277, 0.0), (3278, 0.0), (3279, 0.0), (3280, 0.0), (3281, 0.0), (3283, 0.0), (3284, 0.0), (3285, 0.0), (3289, 0.0), (3290, 0.0), (3291, 0.0), (3292, 0.0), (3293, 0.0), (3294, 0.0), (3295, 0.0), (3296, 0.0), (3299, 0.0), (3300, 0.0), (3301, 0.0), (3303, 0.0), (3304, 0.0), (3305, 0.0), (3306, 0.0), (3307, 0.0), (3309, 0.0), (3310, 0.0), (3311, 0.0), (3312, 0.0), (3313, 0.0), (3314, 0.0), (3315, 0.0), (3316, 0.0), (3318, 0.0), (3319, 0.0), (3320, 0.0), (3321, 0.0), (3322, 0.0), (3323, 0.0), (3324, 0.0), (3325, 0.0), (3327, 0.0), (3328, 0.0), (3329, 0.0), (3330, 0.0), (3331, 0.0), (3332, 0.0), (3333, 0.0), (3334, 0.0), (3336, 0.0), (3337, 0.0), (3338, 0.0), (3339, 0.0), (3340, 0.0), (3341, 0.0), (3342, 0.0), (3343, 0.0), (3344, 0.0), (3345, 0.0), (3347, 0.0), (3348, 0.0), (3349, 0.0), (3351, 0.0), (3352, 0.0), (3353, 0.0), (3354, 0.0), (3355, 0.0), (3356, 0.0), (3357, 0.0), (3358, 0.0), (3359, 0.0), (3362, 0.0), (3363, 0.0), (3364, 0.0), (3365, 0.0), (3367, 0.0), (3368, 0.0), (3369, 0.0), (3370, 0.0), (3371, 0.0), (3372, 0.0), (3374, 0.0), (3377, 0.0), (3378, 0.0), (3381, 0.0), (3382, 0.0), (3383, 0.0), (3384, 0.0), (3385, 0.0), (3386, 0.0), (3387, 0.0), (3388, 0.0), (3391, 0.0), (3393, 0.0), (3394, 0.0), (3396, 0.0), (3398, 0.0), (3399, 0.0), (3400, 0.0), (3401, 0.0), (3402, 0.0), (3404, 0.0), (3405, 0.0), (3406, 0.0), (3407, 0.0), (3408, 0.0), (3409, 0.0), (3410, 0.0), (3411, 0.0), (3412, 0.0), (3414, 0.0), (3415, 0.0), (3416, 0.0), (3417, 0.0), (3418, 0.0), (3419, 0.0), (3420, 0.0), (3423, 0.0), (3424, 0.0), (3425, 0.0), (3426, 0.0), (3427, 0.0), (3428, 0.0), (3429, 0.0), (3431, 0.0), (3432, 0.0), (3433, 0.0), (3434, 0.0), (3435, 0.0), (3436, 0.0), (3437, 0.0), (3438, 0.0), (3439, 0.0), (3440, 0.0), (3443, 0.0), (3445, 0.0), (3446, 0.0), (3447, 0.0), (3448, 0.0), (3449, 0.0), (3450, 0.0), (3451, 0.0), (3452, 0.0), (3453, 0.0), (3454, 0.0), (3455, 0.0), (3456, 0.0), (3458, 0.0), (3460, 0.0), (3462, 0.0), (3463, 0.0), (3464, 0.0), (3465, 0.0), (3466, 0.0), (3469, 0.0), (3470, 0.0), (3474, 0.0), (3475, 0.0), (3477, 0.0), (3478, 0.0), (3479, 0.0), (3480, 0.0), (3486, 0.0), (3487, 0.0), (3490, 0.0), (3491, 0.0), (3492, 0.0), (3493, 0.0), (3494, 0.0), (3495, 0.0), (3496, 0.0), (3497, 0.0), (3498, 0.0), (3499, 0.0), (3500, 0.0), (3502, 0.0), (3504, 0.0), (3507, 0.0), (3509, 0.0), (3510, 0.0), (3513, 0.0), (3514, 0.0), (3516, 0.0), (3518, 0.0), (3519, 0.0), (3520, 0.0), (3521, 0.0), (3522, 0.0), (3523, 0.0), (3525, 0.0), (3527, 0.0), (3528, 0.0), (3529, 0.0), (3530, 0.0), (3531, 0.0), (3532, 0.0), (3534, 0.0), (3535, 0.0), (3537, 0.0), (3538, 0.0), (3542, 0.0), (3543, 0.0), (3544, 0.0), (3546, 0.0), (3547, 0.0), (3548, 0.0), (3549, 0.0), (3551, 0.0), (3552, 0.0), (3553, 0.0), (3556, 0.0), (3558, 0.0), (3559, 0.0), (3560, 0.0), (3561, 0.0), (3563, 0.0), (3564, 0.0), (3565, 0.0), (3566, 0.0), (3567, 0.0), (3568, 0.0), (3569, 0.0), (3570, 0.0), (3572, 0.0), (3573, 0.0), (3575, 0.0), (3576, 0.0), (3577, 0.0), (3578, 0.0), (3579, 0.0), (3580, 0.0), (3582, 0.0), (3583, 0.0), (3584, 0.0), (3585, 0.0), (3586, 0.0), (3587, 0.0), (3588, 0.0), (3589, 0.0), (3590, 0.0), (3591, 0.0), (3592, 0.0), (3593, 0.0), (3594, 0.0), (3595, 0.0), (3596, 0.0), (3597, 0.0), (3598, 0.0), (3599, 0.0), (3600, 0.0), (3601, 0.0), (3602, 0.0), (3603, 0.0), (3604, 0.0), (3605, 0.0), (3608, 0.0), (3609, 0.0), (3612, 0.0), (3614, 0.0), (3617, 0.0), (3618, 0.0), (3619, 0.0), (3622, 0.0), (3623, 0.0), (3624, 0.0), (3625, 0.0), (3629, 0.0), (3630, 0.0), (3634, 0.0), (3635, 0.0), (3636, 0.0), (3637, 0.0), (3638, 0.0), (3639, 0.0), (3640, 0.0), (3641, 0.0), (3642, 0.0), (3644, 0.0), (3645, 0.0), (3647, 0.0), (3648, 0.0), (3649, 0.0), (3651, 0.0), (3652, 0.0), (3654, 0.0), (3657, 0.0), (3658, 0.0), (3661, 0.0), (3663, 0.0), (3664, 0.0), (3666, 0.0), (3667, 0.0), (3668, 0.0), (3669, 0.0), (3670, 0.0), (3672, 0.0), (3674, 0.0), (3675, 0.0), (3676, 0.0), (3677, 0.0), (3678, 0.0), (3679, 0.0), (3680, 0.0), (3683, 0.0), (3684, 0.0), (3686, 0.0), (3687, 0.0), (3688, 0.0), (3689, 0.0), (3690, 0.0), (3691, 0.0), (3692, 0.0), (3693, 0.0), (3694, 0.0), (3697, 0.0), (3699, 0.0), (3700, 0.0), (3702, 0.0), (3703, 0.0), (3705, 0.0), (3706, 0.0), (3707, 0.0), (3708, 0.0), (3709, 0.0), (3710, 0.0), (3711, 0.0), (3712, 0.0), (3713, 0.0), (3714, 0.0), (3715, 0.0), (3717, 0.0), (3718, 0.0), (3719, 0.0), (3720, 0.0), (3721, 0.0), (3723, 0.0), (3724, 0.0), (3725, 0.0), (3727, 0.0), (3729, 0.0), (3730, 0.0), (3731, 0.0), (3732, 0.0), (3733, 0.0), (3736, 0.0), (3738, 0.0), (3739, 0.0), (3740, 0.0), (3741, 0.0), (3742, 0.0), (3744, 0.0), (3745, 0.0), (3748, 0.0), (3749, 0.0), (3750, 0.0), (3754, 0.0), (3755, 0.0), (3756, 0.0), (3758, 0.0), (3759, 0.0), (3760, 0.0), (3761, 0.0), (3762, 0.0), (3764, 0.0), (3765, 0.0), (3767, 0.0), (3769, 0.0), (3770, 0.0), (3771, 0.0), (3773, 0.0), (3774, 0.0), (3775, 0.0), (3777, 0.0), (3778, 0.0), (3779, 0.0), (3780, 0.0), (3782, 0.0), (3783, 0.0), (3784, 0.0), (3786, 0.0), (3787, 0.0), (3788, 0.0), (3789, 0.0), (3791, 0.0), (3793, 0.0), (3795, 0.0), (3797, 0.0), (3798, 0.0), (3799, 0.0), (3800, 0.0), (3801, 0.0), (3802, 0.0), (3804, 0.0), (3806, 0.0), (3807, 0.0), (3810, 0.0), (3811, 0.0), (3814, 0.0), (3815, 0.0), (3818, 0.0), (3819, 0.0), (3820, 0.0), (3821, 0.0), (3823, 0.0), (3826, 0.0), (3827, 0.0), (3828, 0.0), (3831, 0.0), (3832, 0.0), (3833, 0.0), (3834, 0.0), (3836, 0.0), (3837, 0.0), (3840, 0.0), (3842, 0.0), (3844, 0.0), (3845, 0.0), (3848, 0.0), (3849, 0.0), (3850, 0.0), (3853, 0.0), (3854, 0.0), (3855, 0.0), (3856, 0.0), (3857, 0.0), (3859, 0.0), (3860, 0.0), (3862, 0.0), (3866, 0.0), (3867, 0.0), (3868, 0.0), (3869, 0.0), (3872, 0.0), (3873, 0.0), (3874, 0.0), (3875, 0.0), (3876, 0.0), (3879, 0.0), (3880, 0.0), (3881, 0.0), (3883, 0.0), (3884, 0.0), (3885, 0.0), (3886, 0.0), (3887, 0.0), (3888, 0.0), (3889, 0.0), (3891, 0.0), (3893, 0.0), (3895, 0.0), (3896, 0.0), (3897, 0.0), (3898, 0.0), (3900, 0.0), (3901, 0.0), (3902, 0.0), (3903, 0.0), (3904, 0.0), (3905, 0.0), (3907, 0.0), (3908, 0.0), (3909, 0.0), (3911, 0.0), (3912, 0.0), (3913, 0.0), (3914, 0.0), (3915, 0.0), (3916, 0.0), (3917, 0.0), (3918, 0.0), (3919, 0.0), (3920, 0.0), (3921, 0.0), (3922, 0.0), (3924, 0.0), (3925, 0.0), (3927, 0.0), (3928, 0.0), (3929, 0.0), (3931, 0.0), (3932, 0.0), (3933, 0.0), (3934, 0.0), (3935, 0.0), (3936, 0.0), (3937, 0.0), (3939, 0.0), (3940, 0.0), (3941, 0.0), (3942, 0.0), (3944, 0.0), (3945, 0.0), (3946, 0.0), (3947, 0.0), (3949, 0.0), (3950, 0.0), (3951, 0.0), (3952, 0.0), (3953, 0.0), (3954, 0.0), (3955, 0.0), (3957, 0.0), (3958, 0.0), (3959, 0.0), (3960, 0.0), (3961, 0.0), (3962, 0.0), (3963, 0.0), (3964, 0.0), (3965, 0.0), (3966, 0.0), (3967, 0.0), (3968, 0.0), (3969, 0.0), (3970, 0.0), (3971, 0.0), (3972, 0.0), (3974, 0.0), (3975, 0.0), (3976, 0.0), (3977, 0.0), (3978, 0.0), (3981, 0.0), (3982, 0.0), (3983, 0.0), (3984, 0.0), (3985, 0.0), (3987, 0.0), (3988, 0.0), (3989, 0.0), (3992, 0.0), (3993, 0.0), (3994, 0.0), (3995, 0.0), (3996, 0.0), (3997, 0.0), (3998, 0.0), (3999, 0.0), (4000, 0.0), (4001, 0.0), (4002, 0.0), (4003, 0.0), (4004, 0.0), (4005, 0.0), (4006, 0.0), (4007, 0.0), (4008, 0.0), (4011, 0.0), (4012, 0.0), (4014, 0.0), (4016, 0.0), (4017, 0.0), (4018, 0.0), (4019, 0.0), (4023, 0.0), (4024, 0.0), (4025, 0.0), (4026, 0.0), (4027, 0.0), (4028, 0.0), (4029, 0.0), (4030, 0.0), (4032, 0.0), (4033, 0.0), (4035, 0.0), (4036, 0.0), (4038, 0.0), (4039, 0.0), (4040, 0.0), (4041, 0.0), (4042, 0.0), (4043, 0.0), (4044, 0.0), (4045, 0.0), (4046, 0.0), (4047, 0.0), (4048, 0.0), (4049, 0.0), (4051, 0.0), (4052, 0.0), (4053, 0.0), (4055, 0.0), (4056, 0.0), (4057, 0.0), (4058, 0.0), (4059, 0.0), (4060, 0.0), (4061, 0.0), (4062, 0.0), (4063, 0.0), (4065, 0.0), (4067, 0.0), (4068, 0.0), (4069, 0.0), (4070, 0.0), (4071, 0.0), (4072, 0.0), (4073, 0.0), (4075, 0.0), (4076, 0.0), (4077, 0.0), (4078, 0.0), (4079, 0.0), (4080, 0.0), (4081, 0.0), (4082, 0.0), (4083, 0.0), (4084, 0.0), (4085, 0.0), (4087, 0.0), (4088, 0.0), (4090, 0.0), (4091, 0.0), (4092, 0.0), (4093, 0.0), (4094, 0.0), (4095, 0.0), (4096, 0.0), (4097, 0.0), (4098, 0.0), (4100, 0.0), (4101, 0.0), (4102, 0.0), (4103, 0.0), (4105, 0.0), (4107, 0.0), (4108, 0.0), (4109, 0.0), (4110, 0.0), (4115, 0.0), (4116, 0.0), (4117, 0.0), (4119, 0.0), (4121, 0.0), (4122, 0.0), (4123, 0.0), (4125, 0.0), (4126, 0.0), (4127, 0.0), (4128, 0.0), (4129, 0.0), (4130, 0.0), (4131, 0.0), (4132, 0.0), (4133, 0.0), (4137, 0.0), (4139, 0.0), (4141, 0.0), (4142, 0.0), (4143, 0.0), (4145, 0.0), (4148, 0.0), (4150, 0.0), (4151, 0.0), (4153, 0.0), (4154, 0.0), (4155, 0.0), (4156, 0.0), (4157, 0.0), (4158, 0.0), (4159, 0.0), (4161, 0.0), (4163, 0.0), (4165, 0.0), (4166, 0.0), (4167, 0.0), (4169, 0.0), (4170, 0.0), (4171, 0.0), (4172, 0.0), (4175, 0.0), (4176, 0.0), (4179, 0.0), (4180, 0.0), (4181, 0.0), (4183, 0.0), (4184, 0.0), (4185, 0.0), (4187, 0.0), (4188, 0.0), (4189, 0.0), (4192, 0.0), (4193, 0.0), (4198, 0.0), (4200, 0.0), (4201, 0.0), (4202, 0.0), (4203, 0.0), (4204, 0.0), (4205, 0.0), (4206, 0.0), (4208, 0.0), (4209, 0.0), (4211, 0.0), (4212, 0.0), (4214, 0.0), (4215, 0.0), (4216, 0.0), (4217, 0.0), (4219, 0.0), (4220, 0.0), (4221, 0.0), (4222, 0.0), (4223, 0.0), (4224, 0.0), (4226, 0.0), (4227, 0.0), (4228, 0.0), (4229, 0.0), (4230, 0.0), (4231, 0.0), (4232, 0.0), (4233, 0.0), (4234, 0.0), (4235, 0.0), (4236, 0.0), (4238, 0.0), (4239, 0.0), (4240, 0.0), (4241, 0.0), (4242, 0.0), (4243, 0.0), (4244, 0.0), (4246, 0.0), (4247, 0.0), (4248, 0.0), (4249, 0.0), (4251, 0.0), (4252, 0.0), (4253, 0.0), (4254, 0.0), (4255, 0.0), (4256, 0.0), (4257, 0.0), (4261, 0.0), (4262, 0.0), (4263, 0.0), (4264, 0.0), (4265, 0.0), (4266, 0.0), (4267, 0.0), (4268, 0.0), (4269, 0.0), (4271, 0.0), (4272, 0.0), (4273, 0.0), (4274, 0.0), (4275, 0.0), (4277, 0.0), (4278, 0.0), (4279, 0.0), (4281, 0.0), (4282, 0.0), (4283, 0.0), (4284, 0.0), (4285, 0.0), (4287, 0.0), (4288, 0.0), (4289, 0.0), (4290, 0.0), (4291, 0.0), (4292, 0.0), (4293, 0.0), (4294, 0.0), (4296, 0.0), (4298, 0.0), (4299, 0.0), (4300, 0.0), (4301, 0.0), (4302, 0.0), (4304, 0.0), (4305, 0.0), (4306, 0.0), (4307, 0.0), (4308, 0.0), (4309, 0.0), (4310, 0.0), (4311, 0.0), (4312, 0.0), (4313, 0.0), (4315, 0.0), (4316, 0.0), (4317, 0.0), (4318, 0.0), (4319, 0.0), (4320, 0.0), (4321, 0.0), (4322, 0.0), (4324, 0.0), (4325, 0.0), (4326, 0.0), (4328, 0.0), (4331, 0.0), (4332, 0.0), (4333, 0.0), (4335, 0.0), (4339, 0.0), (4343, 0.0), (4349, 0.0), (4350, 0.0), (4352, 0.0), (4353, 0.0), (4354, 0.0), (4355, 0.0), (4357, 0.0), (4359, 0.0), (4360, 0.0), (4363, 0.0), (4365, 0.0), (4366, 0.0), (4367, 0.0), (4368, 0.0), (4369, 0.0), (4370, 0.0), (4373, 0.0), (4375, 0.0), (4376, 0.0), (4377, 0.0), (4378, 0.0), (4379, 0.0), (4381, 0.0), (4382, 0.0), (4383, 0.0), (4384, 0.0), (4385, 0.0), (4386, 0.0), (4387, 0.0), (4388, 0.0), (4389, 0.0), (4390, 0.0), (4391, 0.0), (4392, 0.0), (4393, 0.0), (4398, 0.0), (4399, 0.0), (4400, 0.0), (4402, 0.0), (4403, 0.0), (4404, 0.0), (4406, 0.0), (4407, 0.0), (4408, 0.0), (4409, 0.0), (4412, 0.0), (4413, 0.0), (4414, 0.0), (4415, 0.0), (4416, 0.0), (4417, 0.0), (4418, 0.0), (4419, 0.0), (4423, 0.0), (4424, 0.0), (4425, 0.0), (4427, 0.0), (4428, 0.0), (4429, 0.0), (4431, 0.0), (4434, 0.0), (4435, 0.0), (4436, 0.0), (4437, 0.0), (4438, 0.0), (4439, 0.0), (4440, 0.0), (4441, 0.0), (4442, 0.0), (4444, 0.0), (4445, 0.0), (4446, 0.0), (4448, 0.0), (4449, 0.0), (4450, 0.0), (4451, 0.0), (4452, 0.0), (4453, 0.0), (4458, 0.0), (4459, 0.0), (4460, 0.0), (4461, 0.0), (4462, 0.0), (4463, 0.0), (4464, 0.0), (4465, 0.0), (4466, 0.0), (4467, 0.0), (4468, 0.0), (4469, 0.0), (4470, 0.0), (4471, 0.0), (4472, 0.0), (4473, 0.0), (4474, 0.0), (4475, 0.0), (4476, 0.0), (4477, 0.0), (4480, 0.0), (4481, 0.0), (4484, 0.0), (4486, 0.0), (4487, 0.0), (4488, 0.0), (4489, 0.0), (4490, 0.0), (4491, 0.0), (4493, 0.0), (4494, 0.0), (4495, 0.0), (4496, 0.0), (4497, 0.0), (4498, 0.0), (4499, 0.0), (4502, 0.0), (4503, 0.0), (4504, 0.0), (4505, 0.0), (4506, 0.0), (4507, 0.0), (4508, 0.0), (4509, 0.0), (4510, 0.0), (4512, 0.0), (4513, 0.0), (4514, 0.0), (4515, 0.0), (4517, 0.0), (4518, 0.0), (4520, 0.0), (4521, 0.0), (4522, 0.0), (4525, 0.0), (4527, 0.0), (4528, 0.0), (4529, 0.0), (4531, 0.0), (4532, 0.0), (4533, 0.0), (4534, 0.0), (4535, 0.0), (4536, 0.0), (4537, 0.0), (4538, 0.0), (4539, 0.0), (4540, 0.0), (4541, 0.0), (4542, 0.0), (4543, 0.0), (4544, 0.0), (4545, 0.0), (4546, 0.0), (4547, 0.0), (4548, 0.0), (4549, 0.0), (4550, 0.0), (4551, 0.0), (4552, 0.0), (4553, 0.0), (4556, 0.0), (4557, 0.0), (4560, 0.0), (4561, 0.0), (4563, 0.0), (4564, 0.0), (4565, 0.0), (4567, 0.0), (4568, 0.0), (4571, 0.0), (4572, 0.0), (4573, 0.0), (4574, 0.0), (4575, 0.0), (4576, 0.0), (4577, 0.0), (4578, 0.0), (4580, 0.0), (4581, 0.0), (4583, 0.0), (4584, 0.0), (4585, 0.0), (4586, 0.0), (4587, 0.0), (4588, 0.0), (4589, 0.0), (4590, 0.0), (4591, 0.0), (4592, 0.0), (4593, 0.0), (4594, 0.0), (4595, 0.0), (4596, 0.0), (4597, 0.0), (4600, 0.0), (4601, 0.0), (4602, 0.0), (4606, 0.0), (4607, 0.0), (4608, 0.0), (4610, 0.0), (4611, 0.0), (4612, 0.0), (4614, 0.0), (4615, 0.0), (4617, 0.0), (4618, 0.0), (4619, 0.0), (4620, 0.0), (4621, 0.0), (4622, 0.0), (4623, 0.0), (4624, 0.0), (4626, 0.0), (4627, 0.0), (4628, 0.0), (4629, 0.0), (4630, 0.0), (4631, 0.0), (4632, 0.0), (4634, 0.0), (4635, 0.0), (4636, 0.0), (4637, 0.0), (4638, 0.0), (4639, 0.0), (4642, 0.0), (4643, 0.0), (4644, 0.0), (4645, 0.0), (4646, 0.0), (4648, 0.0), (4649, 0.0), (4651, 0.0), (4652, 0.0), (4653, 0.0), (4654, 0.0), (4655, 0.0), (4656, 0.0), (4657, 0.0), (4659, 0.0), (4660, 0.0), (4661, 0.0), (4663, 0.0), (4664, 0.0), (4665, 0.0), (4666, 0.0), (4667, 0.0), (4668, 0.0), (4669, 0.0), (4670, 0.0), (4671, 0.0), (4672, 0.0), (4673, 0.0), (4674, 0.0), (4677, 0.0), (4678, 0.0), (4679, 0.0), (4680, 0.0), (4681, 0.0), (4682, 0.0), (4683, 0.0), (4684, 0.0), (4685, 0.0), (4686, 0.0), (4687, 0.0), (4688, 0.0), (4689, 0.0), (4690, 0.0), (4691, 0.0), (4692, 0.0), (4693, 0.0), (4694, 0.0), (4696, 0.0), (4697, 0.0), (4698, 0.0), (4699, 0.0), (4700, 0.0), (4701, 0.0), (4702, 0.0), (4704, 0.0), (4705, 0.0), (4706, 0.0), (4707, 0.0), (4708, 0.0), (4709, 0.0), (4710, 0.0), (4712, 0.0), (4713, 0.0), (4714, 0.0), (4715, 0.0), (4717, 0.0), (4719, 0.0), (4720, 0.0), (4721, 0.0), (4722, 0.0), (4723, 0.0), (4724, 0.0), (4725, 0.0), (4727, 0.0), (4728, 0.0), (4729, 0.0), (4731, 0.0), (4732, 0.0), (4733, 0.0), (4734, 0.0), (4736, 0.0), (4738, 0.0), (4739, 0.0), (4741, 0.0), (4742, 0.0), (4743, 0.0), (4744, 0.0), (4745, 0.0), (4747, 0.0), (4748, 0.0), (4749, 0.0), (4750, 0.0), (4751, 0.0), (4752, 0.0), (4753, 0.0), (4755, 0.0), (4757, 0.0), (4759, 0.0)]\n"
          ]
        }
      ]
    },
    {
      "cell_type": "markdown",
      "source": [
        "print The Name of The Similar Movies based on the Index"
      ],
      "metadata": {
        "id": "tcRn2w5o7Mkj"
      }
    },
    {
      "cell_type": "code",
      "source": [
        "print(\"Top 30 movies suggested for you : \\n\")\n",
        "\n",
        "i=1\n",
        "for movie in Sorted_Similar_movies:\n",
        "  index = movie[0]\n",
        "  title_from_index = df[df.index==index]['Movie_Title'].values[0]\n",
        "  if (i<31):\n",
        "    print(i, ',',title_from_index)\n",
        "    i+=1"
      ],
      "metadata": {
        "colab": {
          "base_uri": "https://localhost:8080/"
        },
        "id": "JKkW9zgX7Tr8",
        "outputId": "0b5211dd-a0b4-462c-e7c6-84acf79cc048"
      },
      "execution_count": null,
      "outputs": [
        {
          "output_type": "stream",
          "name": "stdout",
          "text": [
            "Top 30 movies suggested for you : \n",
            "\n",
            "1 , Finding Nemo\n",
            "2 , Big Fish\n",
            "3 , John Carter\n",
            "4 , The Reef\n",
            "5 , The Muse\n",
            "6 , Death Sentence\n",
            "7 , WALL·E\n",
            "8 , The Last Temptation of Christ\n",
            "9 , Silent Movie\n",
            "10 , Fish Tank\n",
            "11 , Dear Frankie\n",
            "12 , Flight of the Intruder\n",
            "13 , Megamind\n",
            "14 , Barney's Great Adventure\n",
            "15 , The Tree of Life\n",
            "16 , A Bug's Life\n",
            "17 , The Shaggy Dog\n",
            "18 , American Dreamz\n",
            "19 , Evan Almighty\n",
            "20 , Out of the Furnace\n",
            "21 , Atlantis: The Lost Empire\n",
            "22 , The Country Bears\n",
            "23 , Bottle Rocket\n",
            "24 , How to Train Your Dragon 2\n",
            "25 , House at the End of the Street\n",
            "26 , The Lego Movie\n",
            "27 , When Did You Last See Your Father?\n",
            "28 , Weekend\n",
            "29 , True Romance\n",
            "30 , Rudderless\n"
          ]
        }
      ]
    },
    {
      "cell_type": "markdown",
      "source": [
        "**Top 10 Movie Recommendation Sysytem**"
      ],
      "metadata": {
        "id": "rsgpLSRx8b-1"
      }
    },
    {
      "cell_type": "code",
      "source": [
        "Movie_name = input(\"Enter your favorite movie name? \")\n",
        "\n",
        "list_of_all_titles = df['Movie_Title'].tolist()\n",
        "\n",
        "Find_Close_Match = difflib.get_close_matches(Movie_name,list_of_all_titles)\n",
        "\n",
        "close_match = Find_Close_Match[0]\n",
        "\n",
        "Index_of_movie = df[df.Movie_Title == close_match]['Movie_ID'].values[0]\n",
        "\n",
        "Recommendation_Score = list(enumerate(similarity_score[Index_of_Close_Match_movie]))\n",
        "\n",
        "Sorted_Similar_movies  = sorted(Recommendation_Score, key = lambda x:x[1], reverse = True)\n",
        "\n",
        "print(\"Top 10 movies suggested for you : \\n\")\n",
        "\n",
        "i=1\n",
        "\n",
        "for movie in Sorted_Similar_movies:\n",
        "  index = movie[0]\n",
        "  title_from_index = df[df.index==index]['Movie_Title'].values[0]\n",
        "  if (i<31):\n",
        "    print(i, ',',title_from_index)\n",
        "    i+=1"
      ],
      "metadata": {
        "id": "8xUcHTi_8hqE",
        "colab": {
          "base_uri": "https://localhost:8080/"
        },
        "outputId": "7798289e-3b29-4fe5-b3fc-088f7f550e96"
      },
      "execution_count": 51,
      "outputs": [
        {
          "output_type": "stream",
          "name": "stdout",
          "text": [
            "Enter your favorite movie name? Star Wars\n",
            "Top 10 movies suggested for you : \n",
            "\n",
            "1 , Finding Nemo\n",
            "2 , Big Fish\n",
            "3 , John Carter\n",
            "4 , The Reef\n",
            "5 , The Muse\n",
            "6 , Death Sentence\n",
            "7 , WALL·E\n",
            "8 , The Last Temptation of Christ\n",
            "9 , Silent Movie\n",
            "10 , Fish Tank\n",
            "11 , Dear Frankie\n",
            "12 , Flight of the Intruder\n",
            "13 , Megamind\n",
            "14 , Barney's Great Adventure\n",
            "15 , The Tree of Life\n",
            "16 , A Bug's Life\n",
            "17 , The Shaggy Dog\n",
            "18 , American Dreamz\n",
            "19 , Evan Almighty\n",
            "20 , Out of the Furnace\n",
            "21 , Atlantis: The Lost Empire\n",
            "22 , The Country Bears\n",
            "23 , Bottle Rocket\n",
            "24 , How to Train Your Dragon 2\n",
            "25 , House at the End of the Street\n",
            "26 , The Lego Movie\n",
            "27 , When Did You Last See Your Father?\n",
            "28 , Weekend\n",
            "29 , True Romance\n",
            "30 , Rudderless\n"
          ]
        }
      ]
    }
  ]
}